{
 "cells": [
  {
   "cell_type": "code",
   "execution_count": 57,
   "id": "70f57a10",
   "metadata": {},
   "outputs": [],
   "source": [
    "import os\n",
    "import nltk\n",
    "import json\n",
    "import re\n",
    "import pandas as pd\n",
    "import numpy as np"
   ]
  },
  {
   "cell_type": "code",
   "execution_count": 3,
   "id": "fa902ece",
   "metadata": {},
   "outputs": [
    {
     "name": "stdout",
     "output_type": "stream",
     "text": [
      "showing info https://raw.githubusercontent.com/nltk/nltk_data/gh-pages/index.xml\n"
     ]
    },
    {
     "data": {
      "text/plain": [
       "True"
      ]
     },
     "execution_count": 3,
     "metadata": {},
     "output_type": "execute_result"
    }
   ],
   "source": [
    "#nltk.download()"
   ]
  },
  {
   "cell_type": "code",
   "execution_count": 6,
   "id": "44d5f814",
   "metadata": {},
   "outputs": [
    {
     "data": {
      "text/plain": [
       "179"
      ]
     },
     "execution_count": 6,
     "metadata": {},
     "output_type": "execute_result"
    }
   ],
   "source": [
    "len(nltk.corpus.stopwords.words('english'))"
   ]
  },
  {
   "cell_type": "code",
   "execution_count": 78,
   "id": "e109f3c6",
   "metadata": {},
   "outputs": [],
   "source": [
    "features=['title', 'id', 'release_date', 'lyrics']"
   ]
  },
  {
   "cell_type": "code",
   "execution_count": 79,
   "id": "65b27bd6",
   "metadata": {
    "scrolled": true
   },
   "outputs": [],
   "source": [
    "df=pd.DataFrame()\n",
    "for dirname, _, filenames in os.walk('data\\json files'):\n",
    "    for filename in filenames:\n",
    "        with open(os.path.join(dirname, filename)) as f:\n",
    "            aux = json.load(f)\n",
    "            df_tmp=pd.DataFrame()\n",
    "            Artist= np.full((len(aux['songs'])), aux['name'])\n",
    "            df_tmp['artist']=Artist\n",
    "            for f in features:\n",
    "                col=[song[f] for song in aux['songs']]\n",
    "                df_tmp[f]=col\n",
    "            df=pd.concat([df,df_tmp])"
   ]
  },
  {
   "cell_type": "raw",
   "id": "fb73eac9",
   "metadata": {},
   "source": [
    "df"
   ]
  },
  {
   "cell_type": "code",
   "execution_count": 115,
   "id": "ce878768",
   "metadata": {},
   "outputs": [],
   "source": [
    "tmp=[]\n",
    "tags=['remix','Remix','live','Live', ' Version', ' ver', 'version', 'Demo', 'demo' , 'Reprise', 'Copy', 'Mix']\n",
    "\n",
    "for title in df['title']:\n",
    "    for tag in tags:\n",
    "        r=title.find(tag)\n",
    "        if r != -1:\n",
    "            tmp.append(title)"
   ]
  },
  {
   "cell_type": "code",
   "execution_count": 129,
   "id": "95e54a2d",
   "metadata": {},
   "outputs": [
    {
     "data": {
      "text/plain": [
       "1476"
      ]
     },
     "execution_count": 129,
     "metadata": {},
     "output_type": "execute_result"
    }
   ],
   "source": [
    "len(tmp)"
   ]
  },
  {
   "cell_type": "code",
   "execution_count": 127,
   "id": "ae727c16",
   "metadata": {},
   "outputs": [],
   "source": [
    "for title in tmp:\n",
    "    df= df[df.title != title]"
   ]
  },
  {
   "cell_type": "code",
   "execution_count": 145,
   "id": "0b59a169",
   "metadata": {},
   "outputs": [
    {
     "name": "stdout",
     "output_type": "stream",
     "text": [
      "number null value of title:  0\n",
      "number null value of id:  0\n",
      "number null value of release_date:  1408\n",
      "number null value of lyrics:  0\n"
     ]
    }
   ],
   "source": [
    "for f in features:\n",
    "    print(\"number null value of {}: \".format(f),sum(df[f].isnull()))\n"
   ]
  },
  {
   "cell_type": "code",
   "execution_count": 146,
   "id": "ecc468fd",
   "metadata": {},
   "outputs": [],
   "source": [
    "df.dropna(subset = [\"lyrics\"], inplace=True)"
   ]
  },
  {
   "cell_type": "code",
   "execution_count": null,
   "id": "8d2e3541",
   "metadata": {},
   "outputs": [],
   "source": []
  }
 ],
 "metadata": {
  "kernelspec": {
   "display_name": "Python 3 (ipykernel)",
   "language": "python",
   "name": "python3"
  },
  "language_info": {
   "codemirror_mode": {
    "name": "ipython",
    "version": 3
   },
   "file_extension": ".py",
   "mimetype": "text/x-python",
   "name": "python",
   "nbconvert_exporter": "python",
   "pygments_lexer": "ipython3",
   "version": "3.10.6"
  }
 },
 "nbformat": 4,
 "nbformat_minor": 5
}
