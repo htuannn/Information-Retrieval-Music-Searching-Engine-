{
 "cells": [
  {
   "cell_type": "code",
   "execution_count": 1,
   "id": "70f57a10",
   "metadata": {},
   "outputs": [],
   "source": [
    "import os\n",
    "import nltk\n",
    "import json\n",
    "import pickle\n",
    "import re\n",
    "import string\n",
    "import pandas as pd\n",
    "import numpy as np"
   ]
  },
  {
   "cell_type": "code",
   "execution_count": 2,
   "id": "fa902ece",
   "metadata": {},
   "outputs": [],
   "source": [
    "#nltk.download()"
   ]
  },
  {
   "cell_type": "code",
   "execution_count": 3,
   "id": "f20b3539",
   "metadata": {},
   "outputs": [],
   "source": [
    "features=['title', 'id', 'release_date', 'lyrics']"
   ]
  },
  {
   "cell_type": "code",
   "execution_count": 4,
   "id": "65b27bd6",
   "metadata": {
    "scrolled": true
   },
   "outputs": [],
   "source": [
    "df=pd.DataFrame()\n",
    "for dirname, _, filenames in os.walk('data\\json files'):\n",
    "    for filename in filenames:\n",
    "        with open(os.path.join(dirname, filename)) as f:\n",
    "            aux = json.load(f)\n",
    "            df_tmp=pd.DataFrame()\n",
    "            Artist= np.full((len(aux['songs'])), aux['name'])\n",
    "            df_tmp['artist']=Artist\n",
    "            for f in features:\n",
    "                col=[song[f] for song in aux['songs']]\n",
    "                df_tmp[f]=col\n",
    "            df=pd.concat([df,df_tmp]).reset_index(drop=True)"
   ]
  },
  {
   "cell_type": "code",
   "execution_count": 5,
   "id": "4313c06f",
   "metadata": {
    "scrolled": true
   },
   "outputs": [
    {
     "data": {
      "text/html": [
       "<div>\n",
       "<style scoped>\n",
       "    .dataframe tbody tr th:only-of-type {\n",
       "        vertical-align: middle;\n",
       "    }\n",
       "\n",
       "    .dataframe tbody tr th {\n",
       "        vertical-align: top;\n",
       "    }\n",
       "\n",
       "    .dataframe thead th {\n",
       "        text-align: right;\n",
       "    }\n",
       "</style>\n",
       "<table border=\"1\" class=\"dataframe\">\n",
       "  <thead>\n",
       "    <tr style=\"text-align: right;\">\n",
       "      <th></th>\n",
       "      <th>artist</th>\n",
       "      <th>title</th>\n",
       "      <th>id</th>\n",
       "      <th>release_date</th>\n",
       "      <th>lyrics</th>\n",
       "    </tr>\n",
       "  </thead>\n",
       "  <tbody>\n",
       "    <tr>\n",
       "      <th>0</th>\n",
       "      <td>Ariana Grande</td>\n",
       "      <td>​thank u, next</td>\n",
       "      <td>4063065</td>\n",
       "      <td>2018-11-03</td>\n",
       "      <td>[Verse 1]\\nThought I'd end up with Sean\\nBut h...</td>\n",
       "    </tr>\n",
       "    <tr>\n",
       "      <th>1</th>\n",
       "      <td>Ariana Grande</td>\n",
       "      <td>7 rings</td>\n",
       "      <td>4067762</td>\n",
       "      <td>2019-01-18</td>\n",
       "      <td>[Verse 1]\\nYeah, breakfast at Tiffany's and bo...</td>\n",
       "    </tr>\n",
       "    <tr>\n",
       "      <th>2</th>\n",
       "      <td>Ariana Grande</td>\n",
       "      <td>​God is a woman</td>\n",
       "      <td>3681280</td>\n",
       "      <td>2018-07-13</td>\n",
       "      <td>[Chorus]\\nYou, you love it how I move you\\nYou...</td>\n",
       "    </tr>\n",
       "    <tr>\n",
       "      <th>3</th>\n",
       "      <td>Ariana Grande</td>\n",
       "      <td>Side To Side</td>\n",
       "      <td>2457495</td>\n",
       "      <td>2016-05-20</td>\n",
       "      <td>[Intro: Ariana Grande &amp; Nicki Minaj]\\nI've bee...</td>\n",
       "    </tr>\n",
       "    <tr>\n",
       "      <th>4</th>\n",
       "      <td>Ariana Grande</td>\n",
       "      <td>​​no tears left to cry</td>\n",
       "      <td>3649172</td>\n",
       "      <td>2018-04-20</td>\n",
       "      <td>[Intro]\\nRight now, I'm in a state of mind\\nI ...</td>\n",
       "    </tr>\n",
       "    <tr>\n",
       "      <th>...</th>\n",
       "      <td>...</td>\n",
       "      <td>...</td>\n",
       "      <td>...</td>\n",
       "      <td>...</td>\n",
       "      <td>...</td>\n",
       "    </tr>\n",
       "    <tr>\n",
       "      <th>5853</th>\n",
       "      <td>Taylor Swift</td>\n",
       "      <td>Welcome Back Grunwald</td>\n",
       "      <td>6226864</td>\n",
       "      <td>None</td>\n",
       "      <td>Turn WYCD on\\nYou're\\nOn your Grunwald\\nBack f...</td>\n",
       "    </tr>\n",
       "    <tr>\n",
       "      <th>5854</th>\n",
       "      <td>Taylor Swift</td>\n",
       "      <td>Tolerate it (Polskie Tłumaczenie)</td>\n",
       "      <td>6315848</td>\n",
       "      <td>2020-12-11</td>\n",
       "      <td>[Zwrotka 1]\\nSiedzę i patrzę jak czytasz z gło...</td>\n",
       "    </tr>\n",
       "    <tr>\n",
       "      <th>5855</th>\n",
       "      <td>Taylor Swift</td>\n",
       "      <td>Find you</td>\n",
       "      <td>6209316</td>\n",
       "      <td>None</td>\n",
       "      <td>Trying just like they say\\nJust taking the ste...</td>\n",
       "    </tr>\n",
       "    <tr>\n",
       "      <th>5856</th>\n",
       "      <td>Taylor Swift</td>\n",
       "      <td>Static</td>\n",
       "      <td>6371365</td>\n",
       "      <td>None</td>\n",
       "      <td>*static for 8 seconds*</td>\n",
       "    </tr>\n",
       "    <tr>\n",
       "      <th>5857</th>\n",
       "      <td>Taylor Swift</td>\n",
       "      <td>Clean - Türkçe Çeviri</td>\n",
       "      <td>6387638</td>\n",
       "      <td>2014-10-27</td>\n",
       "      <td>[Verse 1]\\nKuraklık en kötüsüydü(Oh-oh-oh)\\nBe...</td>\n",
       "    </tr>\n",
       "  </tbody>\n",
       "</table>\n",
       "<p>5858 rows × 5 columns</p>\n",
       "</div>"
      ],
      "text/plain": [
       "             artist                              title       id release_date  \\\n",
       "0     Ariana Grande                     ​thank u, next  4063065   2018-11-03   \n",
       "1     Ariana Grande                            7 rings  4067762   2019-01-18   \n",
       "2     Ariana Grande                    ​God is a woman  3681280   2018-07-13   \n",
       "3     Ariana Grande                       Side To Side  2457495   2016-05-20   \n",
       "4     Ariana Grande             ​​no tears left to cry  3649172   2018-04-20   \n",
       "...             ...                                ...      ...          ...   \n",
       "5853   Taylor Swift              Welcome Back Grunwald  6226864         None   \n",
       "5854   Taylor Swift  Tolerate it (Polskie Tłumaczenie)  6315848   2020-12-11   \n",
       "5855   Taylor Swift                           Find you  6209316         None   \n",
       "5856   Taylor Swift                             Static  6371365         None   \n",
       "5857   Taylor Swift              Clean - Türkçe Çeviri  6387638   2014-10-27   \n",
       "\n",
       "                                                 lyrics  \n",
       "0     [Verse 1]\\nThought I'd end up with Sean\\nBut h...  \n",
       "1     [Verse 1]\\nYeah, breakfast at Tiffany's and bo...  \n",
       "2     [Chorus]\\nYou, you love it how I move you\\nYou...  \n",
       "3     [Intro: Ariana Grande & Nicki Minaj]\\nI've bee...  \n",
       "4     [Intro]\\nRight now, I'm in a state of mind\\nI ...  \n",
       "...                                                 ...  \n",
       "5853  Turn WYCD on\\nYou're\\nOn your Grunwald\\nBack f...  \n",
       "5854  [Zwrotka 1]\\nSiedzę i patrzę jak czytasz z gło...  \n",
       "5855  Trying just like they say\\nJust taking the ste...  \n",
       "5856                             *static for 8 seconds*  \n",
       "5857  [Verse 1]\\nKuraklık en kötüsüydü(Oh-oh-oh)\\nBe...  \n",
       "\n",
       "[5858 rows x 5 columns]"
      ]
     },
     "execution_count": 5,
     "metadata": {},
     "output_type": "execute_result"
    }
   ],
   "source": [
    "df"
   ]
  },
  {
   "cell_type": "code",
   "execution_count": 39,
   "id": "b884fb04",
   "metadata": {},
   "outputs": [],
   "source": [
    "tmp=[]\n",
    "#tags=['remix','Remix', 'REMIX', 'live', 'Live', 'Acoustic',' Version', ' ver', 'version', 'Demo', 'demo' , 'Reprise', 'Copy', 'Mix','Edit']\n",
    "tags=['remix', 'live','club', 'acoustic',' version', ' ver', 'demo', 'reprise', 'copy', 'mix','edit']\n",
    "#tags=['club']\n",
    "for title in df['title']:\n",
    "    for tag in tags:\n",
    "        r=re.search(tag,title.lower())\n",
    "        #r=title.find(tag)\n",
    "        if r != None:\n",
    "            tmp.append(title)"
   ]
  },
  {
   "cell_type": "code",
   "execution_count": 40,
   "id": "3c3d3da6",
   "metadata": {},
   "outputs": [
    {
     "data": {
      "text/plain": [
       "['In da Club (Sexy Lil Thug)',\n",
       " 'Club Paradise',\n",
       " 'Eminem Freestyle On The Farmclub',\n",
       " 'Meet Me At The Club*',\n",
       " 'Hatin’ on the Club',\n",
       " 'You da One (Almighty Club)',\n",
       " 'Only Girl (In the World) [Extended Club]',\n",
       " 'S&M (Sidney Samson Club)',\n",
       " 'Take a Bow (Subkulcha Club)',\n",
       " 'Take a Bow (Seamus Haji & Paul Emanuel Club)',\n",
       " 'California King Bed (Bassjackers Club)',\n",
       " 'California King Bed (DJ Chus & Abel Ramos Club)',\n",
       " 'You da One (Gregor Salto Vegas Club)',\n",
       " 'Take a Bow (Tony Moran & Warren Riggs Encore Club)',\n",
       " 'California King Bed (The Bimbo Jones Club)',\n",
       " 'We Found Love (Cahill Club)',\n",
       " 'You da One (Dave Audé Club)',\n",
       " 'ROCKSTAR 101 (Dave Audé Club)',\n",
       " 'Take a Bow (Groove Junkies MoHo Club)',\n",
       " 'S&M (Dave Audé Club)',\n",
       " 'You da One (Gregor Salto Amsterdam Club)',\n",
       " 'Pon De Replay - Pon De Club Play',\n",
       " 'S&M (Joe Bermudez Chico Club)']"
      ]
     },
     "execution_count": 40,
     "metadata": {},
     "output_type": "execute_result"
    }
   ],
   "source": [
    "tmp"
   ]
  },
  {
   "cell_type": "code",
   "execution_count": 41,
   "id": "612302d3",
   "metadata": {},
   "outputs": [],
   "source": [
    "for title in tmp:\n",
    "    df= df[df.title != title].reset_index(drop=True)"
   ]
  },
  {
   "cell_type": "code",
   "execution_count": 42,
   "id": "0f45bb2f",
   "metadata": {},
   "outputs": [
    {
     "data": {
      "text/html": [
       "<div>\n",
       "<style scoped>\n",
       "    .dataframe tbody tr th:only-of-type {\n",
       "        vertical-align: middle;\n",
       "    }\n",
       "\n",
       "    .dataframe tbody tr th {\n",
       "        vertical-align: top;\n",
       "    }\n",
       "\n",
       "    .dataframe thead th {\n",
       "        text-align: right;\n",
       "    }\n",
       "</style>\n",
       "<table border=\"1\" class=\"dataframe\">\n",
       "  <thead>\n",
       "    <tr style=\"text-align: right;\">\n",
       "      <th></th>\n",
       "      <th>artist</th>\n",
       "      <th>title</th>\n",
       "      <th>id</th>\n",
       "      <th>release_date</th>\n",
       "      <th>lyrics</th>\n",
       "    </tr>\n",
       "  </thead>\n",
       "  <tbody>\n",
       "    <tr>\n",
       "      <th>0</th>\n",
       "      <td>Ariana Grande</td>\n",
       "      <td>​thank u, next</td>\n",
       "      <td>4063065</td>\n",
       "      <td>2018-11-03</td>\n",
       "      <td>[Verse 1]\\nThought I'd end up with Sean\\nBut h...</td>\n",
       "    </tr>\n",
       "    <tr>\n",
       "      <th>1</th>\n",
       "      <td>Ariana Grande</td>\n",
       "      <td>7 rings</td>\n",
       "      <td>4067762</td>\n",
       "      <td>2019-01-18</td>\n",
       "      <td>[Verse 1]\\nYeah, breakfast at Tiffany's and bo...</td>\n",
       "    </tr>\n",
       "    <tr>\n",
       "      <th>2</th>\n",
       "      <td>Ariana Grande</td>\n",
       "      <td>​God is a woman</td>\n",
       "      <td>3681280</td>\n",
       "      <td>2018-07-13</td>\n",
       "      <td>[Chorus]\\nYou, you love it how I move you\\nYou...</td>\n",
       "    </tr>\n",
       "    <tr>\n",
       "      <th>3</th>\n",
       "      <td>Ariana Grande</td>\n",
       "      <td>Side To Side</td>\n",
       "      <td>2457495</td>\n",
       "      <td>2016-05-20</td>\n",
       "      <td>[Intro: Ariana Grande &amp; Nicki Minaj]\\nI've bee...</td>\n",
       "    </tr>\n",
       "    <tr>\n",
       "      <th>4</th>\n",
       "      <td>Ariana Grande</td>\n",
       "      <td>​​no tears left to cry</td>\n",
       "      <td>3649172</td>\n",
       "      <td>2018-04-20</td>\n",
       "      <td>[Intro]\\nRight now, I'm in a state of mind\\nI ...</td>\n",
       "    </tr>\n",
       "    <tr>\n",
       "      <th>...</th>\n",
       "      <td>...</td>\n",
       "      <td>...</td>\n",
       "      <td>...</td>\n",
       "      <td>...</td>\n",
       "      <td>...</td>\n",
       "    </tr>\n",
       "    <tr>\n",
       "      <th>3828</th>\n",
       "      <td>Taylor Swift</td>\n",
       "      <td>Taylor Swift - no body, no crime (Traducción a...</td>\n",
       "      <td>6274728</td>\n",
       "      <td>2020-12-11</td>\n",
       "      <td>[Intro: HAIM]\\nÉl lo hizo\\nÉl lo hizo\\n\\n[Vers...</td>\n",
       "    </tr>\n",
       "    <tr>\n",
       "      <th>3829</th>\n",
       "      <td>Taylor Swift</td>\n",
       "      <td>Welcome Back Grunwald</td>\n",
       "      <td>6226864</td>\n",
       "      <td>None</td>\n",
       "      <td>Turn WYCD on\\nYou're\\nOn your Grunwald\\nBack f...</td>\n",
       "    </tr>\n",
       "    <tr>\n",
       "      <th>3830</th>\n",
       "      <td>Taylor Swift</td>\n",
       "      <td>Tolerate it (Polskie Tłumaczenie)</td>\n",
       "      <td>6315848</td>\n",
       "      <td>2020-12-11</td>\n",
       "      <td>[Zwrotka 1]\\nSiedzę i patrzę jak czytasz z gło...</td>\n",
       "    </tr>\n",
       "    <tr>\n",
       "      <th>3831</th>\n",
       "      <td>Taylor Swift</td>\n",
       "      <td>Find you</td>\n",
       "      <td>6209316</td>\n",
       "      <td>None</td>\n",
       "      <td>Trying just like they say\\nJust taking the ste...</td>\n",
       "    </tr>\n",
       "    <tr>\n",
       "      <th>3832</th>\n",
       "      <td>Taylor Swift</td>\n",
       "      <td>Clean - Türkçe Çeviri</td>\n",
       "      <td>6387638</td>\n",
       "      <td>2014-10-27</td>\n",
       "      <td>[Verse 1]\\nKuraklık en kötüsüydü(Oh-oh-oh)\\nBe...</td>\n",
       "    </tr>\n",
       "  </tbody>\n",
       "</table>\n",
       "<p>3833 rows × 5 columns</p>\n",
       "</div>"
      ],
      "text/plain": [
       "             artist                                              title  \\\n",
       "0     Ariana Grande                                     ​thank u, next   \n",
       "1     Ariana Grande                                            7 rings   \n",
       "2     Ariana Grande                                    ​God is a woman   \n",
       "3     Ariana Grande                                       Side To Side   \n",
       "4     Ariana Grande                             ​​no tears left to cry   \n",
       "...             ...                                                ...   \n",
       "3828   Taylor Swift  Taylor Swift - no body, no crime (Traducción a...   \n",
       "3829   Taylor Swift                              Welcome Back Grunwald   \n",
       "3830   Taylor Swift                  Tolerate it (Polskie Tłumaczenie)   \n",
       "3831   Taylor Swift                                           Find you   \n",
       "3832   Taylor Swift                              Clean - Türkçe Çeviri   \n",
       "\n",
       "           id release_date                                             lyrics  \n",
       "0     4063065   2018-11-03  [Verse 1]\\nThought I'd end up with Sean\\nBut h...  \n",
       "1     4067762   2019-01-18  [Verse 1]\\nYeah, breakfast at Tiffany's and bo...  \n",
       "2     3681280   2018-07-13  [Chorus]\\nYou, you love it how I move you\\nYou...  \n",
       "3     2457495   2016-05-20  [Intro: Ariana Grande & Nicki Minaj]\\nI've bee...  \n",
       "4     3649172   2018-04-20  [Intro]\\nRight now, I'm in a state of mind\\nI ...  \n",
       "...       ...          ...                                                ...  \n",
       "3828  6274728   2020-12-11  [Intro: HAIM]\\nÉl lo hizo\\nÉl lo hizo\\n\\n[Vers...  \n",
       "3829  6226864         None  Turn WYCD on\\nYou're\\nOn your Grunwald\\nBack f...  \n",
       "3830  6315848   2020-12-11  [Zwrotka 1]\\nSiedzę i patrzę jak czytasz z gło...  \n",
       "3831  6209316         None  Trying just like they say\\nJust taking the ste...  \n",
       "3832  6387638   2014-10-27  [Verse 1]\\nKuraklık en kötüsüydü(Oh-oh-oh)\\nBe...  \n",
       "\n",
       "[3833 rows x 5 columns]"
      ]
     },
     "execution_count": 42,
     "metadata": {},
     "output_type": "execute_result"
    }
   ],
   "source": [
    "df"
   ]
  },
  {
   "cell_type": "code",
   "execution_count": 10,
   "id": "2537f8ac",
   "metadata": {},
   "outputs": [
    {
     "name": "stdout",
     "output_type": "stream",
     "text": [
      "number null value of title:  0\n",
      "number null value of id:  0\n",
      "number null value of release_date:  1369\n",
      "number null value of lyrics:  7\n"
     ]
    }
   ],
   "source": [
    "for f in features:\n",
    "    print(\"number null value of {}: \".format(f),sum(df[f].isnull()))"
   ]
  },
  {
   "cell_type": "code",
   "execution_count": 11,
   "id": "e315beb3",
   "metadata": {},
   "outputs": [],
   "source": [
    "df.dropna(subset = [\"lyrics\"], inplace=True)\n",
    "tmp=[]\n",
    "for idx,lyric in zip(df.id, df.lyrics):\n",
    "    if (len(lyric.split(\"\\n\"))<6 and re.search('\\[(.*?)\\]', lyric)==None) or len(lyric)<100: \n",
    "        tmp.append(idx)\n",
    "for i in tmp:\n",
    "    df=df[df.id!=i]\n",
    "df=df.reset_index(drop=True)"
   ]
  },
  {
   "cell_type": "code",
   "execution_count": 12,
   "id": "734c2e69",
   "metadata": {
    "scrolled": true
   },
   "outputs": [
    {
     "data": {
      "text/html": [
       "<div>\n",
       "<style scoped>\n",
       "    .dataframe tbody tr th:only-of-type {\n",
       "        vertical-align: middle;\n",
       "    }\n",
       "\n",
       "    .dataframe tbody tr th {\n",
       "        vertical-align: top;\n",
       "    }\n",
       "\n",
       "    .dataframe thead th {\n",
       "        text-align: right;\n",
       "    }\n",
       "</style>\n",
       "<table border=\"1\" class=\"dataframe\">\n",
       "  <thead>\n",
       "    <tr style=\"text-align: right;\">\n",
       "      <th></th>\n",
       "      <th>artist</th>\n",
       "      <th>title</th>\n",
       "      <th>id</th>\n",
       "      <th>release_date</th>\n",
       "      <th>lyrics</th>\n",
       "    </tr>\n",
       "  </thead>\n",
       "  <tbody>\n",
       "    <tr>\n",
       "      <th>0</th>\n",
       "      <td>Ariana Grande</td>\n",
       "      <td>​thank u, next</td>\n",
       "      <td>4063065</td>\n",
       "      <td>2018-11-03</td>\n",
       "      <td>[Verse 1]\\nThought I'd end up with Sean\\nBut h...</td>\n",
       "    </tr>\n",
       "    <tr>\n",
       "      <th>1</th>\n",
       "      <td>Ariana Grande</td>\n",
       "      <td>7 rings</td>\n",
       "      <td>4067762</td>\n",
       "      <td>2019-01-18</td>\n",
       "      <td>[Verse 1]\\nYeah, breakfast at Tiffany's and bo...</td>\n",
       "    </tr>\n",
       "    <tr>\n",
       "      <th>2</th>\n",
       "      <td>Ariana Grande</td>\n",
       "      <td>​God is a woman</td>\n",
       "      <td>3681280</td>\n",
       "      <td>2018-07-13</td>\n",
       "      <td>[Chorus]\\nYou, you love it how I move you\\nYou...</td>\n",
       "    </tr>\n",
       "    <tr>\n",
       "      <th>3</th>\n",
       "      <td>Ariana Grande</td>\n",
       "      <td>Side To Side</td>\n",
       "      <td>2457495</td>\n",
       "      <td>2016-05-20</td>\n",
       "      <td>[Intro: Ariana Grande &amp; Nicki Minaj]\\nI've bee...</td>\n",
       "    </tr>\n",
       "    <tr>\n",
       "      <th>4</th>\n",
       "      <td>Ariana Grande</td>\n",
       "      <td>​​no tears left to cry</td>\n",
       "      <td>3649172</td>\n",
       "      <td>2018-04-20</td>\n",
       "      <td>[Intro]\\nRight now, I'm in a state of mind\\nI ...</td>\n",
       "    </tr>\n",
       "    <tr>\n",
       "      <th>...</th>\n",
       "      <td>...</td>\n",
       "      <td>...</td>\n",
       "      <td>...</td>\n",
       "      <td>...</td>\n",
       "      <td>...</td>\n",
       "    </tr>\n",
       "    <tr>\n",
       "      <th>3851</th>\n",
       "      <td>Taylor Swift</td>\n",
       "      <td>Taylor Swift - no body, no crime (Traducción a...</td>\n",
       "      <td>6274728</td>\n",
       "      <td>2020-12-11</td>\n",
       "      <td>[Intro: HAIM]\\nÉl lo hizo\\nÉl lo hizo\\n\\n[Vers...</td>\n",
       "    </tr>\n",
       "    <tr>\n",
       "      <th>3852</th>\n",
       "      <td>Taylor Swift</td>\n",
       "      <td>Welcome Back Grunwald</td>\n",
       "      <td>6226864</td>\n",
       "      <td>None</td>\n",
       "      <td>Turn WYCD on\\nYou're\\nOn your Grunwald\\nBack f...</td>\n",
       "    </tr>\n",
       "    <tr>\n",
       "      <th>3853</th>\n",
       "      <td>Taylor Swift</td>\n",
       "      <td>Tolerate it (Polskie Tłumaczenie)</td>\n",
       "      <td>6315848</td>\n",
       "      <td>2020-12-11</td>\n",
       "      <td>[Zwrotka 1]\\nSiedzę i patrzę jak czytasz z gło...</td>\n",
       "    </tr>\n",
       "    <tr>\n",
       "      <th>3854</th>\n",
       "      <td>Taylor Swift</td>\n",
       "      <td>Find you</td>\n",
       "      <td>6209316</td>\n",
       "      <td>None</td>\n",
       "      <td>Trying just like they say\\nJust taking the ste...</td>\n",
       "    </tr>\n",
       "    <tr>\n",
       "      <th>3855</th>\n",
       "      <td>Taylor Swift</td>\n",
       "      <td>Clean - Türkçe Çeviri</td>\n",
       "      <td>6387638</td>\n",
       "      <td>2014-10-27</td>\n",
       "      <td>[Verse 1]\\nKuraklık en kötüsüydü(Oh-oh-oh)\\nBe...</td>\n",
       "    </tr>\n",
       "  </tbody>\n",
       "</table>\n",
       "<p>3856 rows × 5 columns</p>\n",
       "</div>"
      ],
      "text/plain": [
       "             artist                                              title  \\\n",
       "0     Ariana Grande                                     ​thank u, next   \n",
       "1     Ariana Grande                                            7 rings   \n",
       "2     Ariana Grande                                    ​God is a woman   \n",
       "3     Ariana Grande                                       Side To Side   \n",
       "4     Ariana Grande                             ​​no tears left to cry   \n",
       "...             ...                                                ...   \n",
       "3851   Taylor Swift  Taylor Swift - no body, no crime (Traducción a...   \n",
       "3852   Taylor Swift                              Welcome Back Grunwald   \n",
       "3853   Taylor Swift                  Tolerate it (Polskie Tłumaczenie)   \n",
       "3854   Taylor Swift                                           Find you   \n",
       "3855   Taylor Swift                              Clean - Türkçe Çeviri   \n",
       "\n",
       "           id release_date                                             lyrics  \n",
       "0     4063065   2018-11-03  [Verse 1]\\nThought I'd end up with Sean\\nBut h...  \n",
       "1     4067762   2019-01-18  [Verse 1]\\nYeah, breakfast at Tiffany's and bo...  \n",
       "2     3681280   2018-07-13  [Chorus]\\nYou, you love it how I move you\\nYou...  \n",
       "3     2457495   2016-05-20  [Intro: Ariana Grande & Nicki Minaj]\\nI've bee...  \n",
       "4     3649172   2018-04-20  [Intro]\\nRight now, I'm in a state of mind\\nI ...  \n",
       "...       ...          ...                                                ...  \n",
       "3851  6274728   2020-12-11  [Intro: HAIM]\\nÉl lo hizo\\nÉl lo hizo\\n\\n[Vers...  \n",
       "3852  6226864         None  Turn WYCD on\\nYou're\\nOn your Grunwald\\nBack f...  \n",
       "3853  6315848   2020-12-11  [Zwrotka 1]\\nSiedzę i patrzę jak czytasz z gło...  \n",
       "3854  6209316         None  Trying just like they say\\nJust taking the ste...  \n",
       "3855  6387638   2014-10-27  [Verse 1]\\nKuraklık en kötüsüydü(Oh-oh-oh)\\nBe...  \n",
       "\n",
       "[3856 rows x 5 columns]"
      ]
     },
     "execution_count": 12,
     "metadata": {},
     "output_type": "execute_result"
    }
   ],
   "source": [
    "df"
   ]
  },
  {
   "cell_type": "markdown",
   "id": "9aa0f738",
   "metadata": {},
   "source": [
    "# Preprocessing"
   ]
  },
  {
   "cell_type": "code",
   "execution_count": 13,
   "id": "9f773020",
   "metadata": {},
   "outputs": [],
   "source": [
    "import preprocess\n",
    "clean= preprocess.Preprocessing()"
   ]
  },
  {
   "cell_type": "code",
   "execution_count": 14,
   "id": "ae1f6bb3",
   "metadata": {},
   "outputs": [
    {
     "name": "stderr",
     "output_type": "stream",
     "text": [
      "C:\\Users\\hoang\\AppData\\Local\\Temp\\ipykernel_25768\\3739097775.py:1: VisibleDeprecationWarning: Creating an ndarray from ragged nested sequences (which is a list-or-tuple of lists-or-tuples-or ndarrays with different lengths or shapes) is deprecated. If you meant to do this, you must specify 'dtype=object' when creating the ndarray.\n",
      "  lyrics= np.array([clean.Preprocess(lyric, handle_negation=True) for lyric in df.lyrics])\n"
     ]
    }
   ],
   "source": [
    "lyrics= np.array([clean.Preprocess(lyric, handle_negation=True) for lyric in df.lyrics])"
   ]
  },
  {
   "cell_type": "code",
   "execution_count": 16,
   "id": "6f130c1b",
   "metadata": {},
   "outputs": [
    {
     "data": {
      "text/plain": [
       "'[Verse 1]\\nThought I\\'d end up with Sean\\nBut he wasn\\'t a match\\nWrote some songs about Ricky\\nNow I listen and laugh\\nEven almost got married\\nAnd for Pete, I\\'m so thankful\\nWish I could say, \"Thank you\" to Malcolm\\n\\'Cause he was an angel\\n\\n[Pre-Chorus]\\nOne taught me love\\nOne taught me patience\\nAnd one taught me pain\\nNow, I\\'m so amazing\\nSay I\\'ve loved and I\\'ve lost\\nBut that\\'s not what I see\\nSo, look what I got\\nLook what you taught me\\nAnd for that, I say\\n\\n[Chorus]\\nThank you, next (Next)\\nThank you, next (Next)\\nThank you, next\\nI\\'m so fuckin\\' grateful for my ex\\nThank you, next (Next)\\nThank you, next (Next)\\nThank you, next (Next)\\nI\\'m so fuckin\\'—\\n\\n[Verse 2]\\nSpend more time with my friends\\nI ain\\'t worried \\'bout nothin\\'\\nPlus, I met someone else\\nWe havin\\' better discussions\\nI know they say I move on too fast\\nBut this one gon\\' last\\n\\'Cause her name is Ari\\nAnd I\\'m so good with that (So good with that)\\n\\n[Pre-Chorus]\\nShe taught me love (Love)\\nShe taught me patience (Patience)\\nHow she handles pain (Pain)\\nThat shit\\'s amazing (Yeah, she\\'s amazing)\\nI\\'ve loved and I\\'ve lost (Yeah, yeah)\\nBut that\\'s not what I see (Yeah, yeah)\\n\\'Cause look what I\\'ve found (Yeah, yeah)\\nAin\\'t no need for searching, and for that, I say\\n\\n[Chorus]\\nThank you, next (Thank you, next)\\nThank you, next (Thank you, next)\\nThank you, next (Thank you)\\nI\\'m so fuckin\\' grateful for my ex\\nThank you, next (Thank you, next)\\nThank you, next (Said thank you, next)\\nThank you, next (Next)\\nI\\'m so fuckin\\' grateful for my ex\\n\\n[Post-Chorus]\\nThank you, next\\nThank you, next\\nThank you, next\\nI\\'m so fuckin\\'—\\n\\n[Bridge]\\nOne day I\\'ll walk down the aisle\\nHolding hands with my mama\\nI\\'ll be thanking my dad\\n\\'Cause she grew from the drama\\nOnly wanna do it once, real bad\\nGon\\' make that shit last\\nGod forbid something happens\\nLeast this song is a smash (Song is a smash)\\n\\n[Pre-Chorus]\\nI\\'ve got so much love (Love)\\nGot so much patience (Patience)\\nAnd I\\'ve learned from the pain (Pain)\\nI turned out amazing (Turned out amazing)\\nSay I\\'ve loved and I\\'ve lost (Yeah, yeah)\\nBut that\\'s not what I see (Yeah, yeah)\\n\\'Cause look what I\\'ve found (Yeah, yeah)\\nAin\\'t no need for searching\\nAnd for that, I say\\n\\n[Chorus]\\nThank you, next (Thank you, next)\\nThank you, next (Thank you, next)\\nThank you, next\\nI\\'m so fuckin\\' grateful for my ex\\nThank you, next (Thank you, next)\\nThank you, next (Said thank you, next)\\nThank you, next (Next)\\nI\\'m so fuckin\\' grateful for my ex\\n\\n[Post-Chorus]\\nThank you, next\\nThank you, next\\nThank you, next\\nYeah, yee\\nThank you, next\\nThank you, next\\nThank you, next\\nYeah, yee'"
      ]
     },
     "execution_count": 16,
     "metadata": {},
     "output_type": "execute_result"
    }
   ],
   "source": [
    "df.lyrics[0]"
   ]
  },
  {
   "cell_type": "code",
   "execution_count": 17,
   "id": "f19d8bf7",
   "metadata": {},
   "outputs": [
    {
     "data": {
      "text/plain": [
       "array([list(['thought', 'would', 'end', 'sean', 'disagree', 'wrote', 'songs', 'ricky', 'listen', 'laugh', 'even', 'almost', 'got', 'married', 'pete', 'thankful', 'wish', 'could', 'say', 'thank', 'malcolm', 'cause', 'angel', 'one', 'taught', 'love', 'one', 'taught', 'patience', 'one', 'taught', 'pain', 'amazing', 'say', 'loved', 'lost', 'not', 'see', 'look', 'got', 'look', 'taught', 'say', 'thank', 'next', 'next', 'thank', 'next', 'next', 'thank', 'next', 'fuckin', 'grateful', 'ex', 'thank', 'next', 'next', 'thank', 'next', 'next', 'thank', 'next', 'next', 'fuckin', 'spend', 'time', 'friends', 'reassure', 'bout', 'nothin', 'plus', 'met', 'someone', 'else', 'havin', 'better', 'discussions', 'know', 'say', 'move', 'fast', 'one', 'gon', 'last', 'cause', 'name', 'ari', 'good', 'good', 'taught', 'love', 'love', 'taught', 'patience', 'patience', 'handles', 'pain', 'pain', 'shits', 'amazing', 'yeah', 'amazing', 'loved', 'lost', 'yeah', 'yeah', 'not', 'see', 'yeah', 'yeah', 'cause', 'look', 'found', 'yeah', 'yeah', 'obviate', 'searching', 'say', 'thank', 'next', 'thank', 'next', 'thank', 'next', 'thank', 'next', 'thank', 'next', 'thank', 'fuckin', 'grateful', 'ex', 'thank', 'next', 'thank', 'next', 'thank', 'next', 'said', 'thank', 'next', 'thank', 'next', 'next', 'fuckin', 'grateful', 'ex', 'thank', 'next', 'thank', 'next', 'thank', 'next', 'fuckin', 'one', 'day', 'walk', 'aisle', 'holding', 'hands', 'mama', 'thanking', 'dad', 'cause', 'grew', 'drama', 'wan', 'na', 'real', 'bad', 'gon', 'make', 'shit', 'last', 'god', 'forbid', 'something', 'happens', 'least', 'song', 'smash', 'song', 'smash', 'got', 'much', 'love', 'love', 'got', 'much', 'patience', 'patience', 'learned', 'pain', 'pain', 'turned', 'amazing', 'turned', 'amazing', 'say', 'loved', 'lost', 'yeah', 'yeah', 'not', 'see', 'yeah', 'yeah', 'cause', 'look', 'found', 'yeah', 'yeah', 'obviate', 'searching', 'say', 'thank', 'next', 'thank', 'next', 'thank', 'next', 'thank', 'next', 'thank', 'next', 'fuckin', 'grateful', 'ex', 'thank', 'next', 'thank', 'next', 'thank', 'next', 'said', 'thank', 'next', 'thank', 'next', 'next', 'fuckin', 'grateful', 'ex', 'thank', 'next', 'thank', 'next', 'thank', 'next', 'yeah', 'yee', 'thank', 'next', 'thank', 'next', 'thank', 'next', 'yeah', 'yee']),\n",
       "       list(['yeah', 'breakfast', 'tiffanys', 'bottles', 'bubbles', 'girls', 'tattoos', 'like', 'getting', 'trouble', 'lashes', 'diamonds', 'atm', 'machines', 'buy', 'favorite', 'things', 'yeah', 'bad', 'shit', 'sad', 'bitch', 'woulda', 'thought', 'would', 'turn', 'savage', 'rather', 'tied', 'calls', 'unstring', 'write', 'checks', 'like', 'write', 'sing', 'yeah', 'yeah', 'wrist', 'stop', 'watchin', 'neck', 'flossy', 'make', 'big', 'deposits', 'gloss', 'poppin', 'like', 'hair', 'gee', 'thanks', 'bought', 'see', 'like', 'want', 'got', 'yeah', 'want', 'got', 'want', 'got', 'want', 'got', 'want', 'got', 'like', 'hair', 'gee', 'thanks', 'bought', 'see', 'like', 'want', 'got', 'yep', 'wearing', 'ring', 'not', 'gon', 'mrs', 'bought', 'matching', 'diamonds', 'six', 'bitches', 'would', 'rather', 'spoil', 'friends', 'riches', 'think', 'retail', 'therapy', 'new', 'addiction', 'whoever', 'said', 'money', 'not', 'solve', 'problems', 'must', 'not', 'enough', 'money', 'solve', 'em', 'say', 'one', 'say', 'nah', 'want', 'em', 'happiness', 'price', 'redbottoms', 'smile', 'beamin', 'yeah', 'skin', 'gleamin', 'gleamin', 'way', 'shine', 'know', 'seen', 'youve', 'seen', 'bought', 'crib', 'closet', 'closet', 'want', 'got', 'yeah', 'want', 'got', 'want', 'got', 'want', 'got', 'want', 'got', 'baby', 'like', 'hair', 'gee', 'thanks', 'bought', 'oh', 'yeah', 'see', 'like', 'want', 'got', 'yep', 'yeah', 'receipts', 'lookin', 'like', 'phone', 'numbers', 'not', 'money', 'wrong', 'number', 'black', 'card', 'business', 'card', 'way', 'settin', 'tone', 'not', 'mean', 'brag', 'like', 'put', 'bag', 'yeah', 'see', 'racks', 'stacked', 'like', 'ass', 'yeah', 'shoot', 'go', 'store', 'booth', 'make', 'back', 'one', 'loop', 'gim', 'loot', 'never', 'mind', 'got', 'juice', 'nothing', 'net', 'shoot', 'look', 'neck', 'look', 'jet', 'leave', 'enough', 'money', 'pay', 'respect', 'not', 'budget', 'set', 'like', 'get', 'yeah', 'want', 'got', 'want', 'got', 'oh', 'yeah', 'want', 'got', 'want', 'got', 'oh', 'yeah', 'yeah', 'like', 'hair', 'gee', 'thanks', 'bought', 'see', 'like', 'want', 'got', 'see', 'yep']),\n",
       "       list(['love', 'move', 'love', 'touch', 'one', 'said', 'done', 'believe', 'god', 'woman', 'feel', 'midnight', 'feelin', 'not', 'fight', 'one', 'lingers', 'done', 'believe', 'god', 'woman', 'not', 'wan', 'na', 'waste', 'time', 'yeah', 'leave', 'onetrack', 'mind', 'yeah', 'way', 'like', 'yeah', 'tell', 'know', 'know', 'want', 'not', 'nobody', 'else', 'relate', 'boy', 'like', 'unafraid', 'baby', 'lay', 'let', 'us', 'pray', 'tellin', 'way', 'like', 'want', 'yeah', 'things', 'told', 'not', 'yeah', 'try', 'come', 'keep', 'flourishing', 'yeah', 'see', 'universe', 'company', 'love', 'move', 'love', 'touch', 'one', 'said', 'done', 'believe', 'god', 'woman', 'feel', 'midnight', 'feelin', 'not', 'fight', 'one', 'lingers', 'done', 'believe', 'god', 'woman', 'yeah', 'tell', 'things', 'know', 'baby', 'take', 'hands', 'save', 'soul', 'make', 'last', 'take', 'slow', 'hmm', 'tell', 'know', 'know', 'want', 'yeah', 'different', 'rest', 'boy', 'confess', 'might', 'get', 'blessed', 'see', 'deserve', 'comes', 'next', 'tellin', 'way', 'like', 'want', 'yeah', 'things', 'told', 'not', 'yeah', 'try', 'come', 'keep', 'flourishing', 'yeah', 'see', 'universe', 'company', 'love', 'move', 'love', 'touch', 'one', 'said', 'done', 'believe', 'god', 'woman', 'feel', 'midnight', 'feelin', 'not', 'fight', 'one', 'lingers', 'done', 'believe', 'god', 'woman', 'yeah', 'yeah', 'god', 'woman', 'yeah', 'yeah', 'god', 'woman', 'yeah', 'one', 'one', 'said', 'done', 'believe', 'god', 'woman', 'believe', 'god', 'god', 'woman', 'oh', 'yeah', 'god', 'woman', 'yeah', 'one', 'lingers', 'done', 'believe', 'god', 'woman']),\n",
       "       ...,\n",
       "       list(['siedz', 'patrz', 'jak', 'czytasz', 'z', 'gow', 'pochylon', 'budz', 'si', 'patrz', 'jakl', 'oddychasz', 'z', 'zamknitymi', 'oczyma', 'siedz', 'ogldam', 'ciebie', 'zauwaam', 'wszystko', 'co', 'robisz', 'czego', 'nie', 'robisz', 'jeste', 'tyle', 'starszy', 'mdrzejszy', 'ja', 'czekam', 'przy', 'drzwiach', 'jak', 'mae', 'dziecko', 'uywam', 'najlepsze', 'farby', 'na', 'twj', 'portret', 'nakrywam', 'st', 'wykwintnymi', 'pierdoami', 'patrz', 'jak', 'ty', 'jedynie', 'znosisz', 'jeli', 'wszystko', 'dzieje', 'si', 'w', 'mojej', 'gowie', 'powiedz', 'mi', 'teraz', 'powiedz', 'mi', 'e', 'myl', 'si', 'jako', 'wiem', 'e', 'moja', 'mio', 'powinna', 'celebrowana', 'ty', 'j', 'jedynie', 'znosisz', 'witam', 'ci', 'jak', 'zwycizc', 'powracajcego', 'z', 'pola', 'walki', 'pobaliwie', 'traktuj', 'twoje', 'niedyskrecje', 'siedz', 'sucham', 'poleruj', 'talrze', 'lni', 'byszcz', 'jeste', 'tyl', 'starszy', 'mdrzejszy', 'ja', 'czekam', 'przy', 'drzwiach', 'jak', 'mae', 'dziecko', 'uywam', 'najlepsze', 'farby', 'na', 'twj', 'portret', 'nakrywam', 'st', 'wykwintnymi', 'pierdoami', 'patrz', 'jak', 'ty', 'jedynie', 'znosisz', 'jeli', 'wszystko', 'dzieje', 'si', 'w', 'mojej', 'gowie', 'powiedz', 'mi', 'teraz', 'powiedz', 'mi', 'e', 'myl', 'si', 'jako', 'wiem', 'e', 'moja', 'mio', 'powinna', 'celebrowana', 'ty', 'j', 'jedynie', 'znosisz', 'kiedy', 'ci', 'nie', 'byo', 'budowae', 'inne', 'wiaty', 'gdzie', 'byam', 'ja', 'gdzie', 'ten', 'facet', 'ktry', 'rzucaby', 'koce', 'na', 'mj', 'drut', 'kolczasty', 'zrobiam', 'z', 'ciebie', 'moj', 'wityni', 'mj', 'mural', 'moje', 'niebo', 'teraz', 'bagam', 'przypisy', 'w', 'historii', 'twojego', 'ycia', 'rysujc', 'serca', 'w', 'notce', 'autorze', 'zawsze', 'zabieraam', 'ci', 'za', 'duo', 'miejsca', 'czasu', 'zakadasz', 'e', 'mnie', 'wszystko', 'gra', 'ale', 'co', 'zrobi', 'gdybym', 'wyzwolia', 'sie', 'zostawia', 'ci', 'w', 'ruinach', 'wzia', 'ten', 'sztylet', 'mnie', 'go', 'wyja', 'zyska', 'twj', 'ciar', 'potem', 'go', 'straci', 'uwierz', 'mi', 'jestem', 'w', 'stanie', 'zrobi', 'jeli', 'wszystko', 'dzieje', 'si', 'w', 'mojej', 'gowie', 'powiedz', 'mi', 'teraz', 'powiedz', 'mi', 'e', 'myl', 'si', 'jako', 'wiem', 'e', 'moja', 'mio', 'powinna', 'celebrowana', 'ty', 'j', 'jedynie', 'znosisz', 'siedz', 'ogldam', 'ci']),\n",
       "       list(['trying', 'like', 'say', 'taking', 'step', 'love', 'piece', 'cake', 'thought', 'everyone', 'whisper', 'life', 'twister', 'make', 'full', 'riddles', 'step', 'like', 'paddle', 'tofindu', 'butbut', 'somewhere', 'someplacesometime', 'playthe', 'song', 'walking', 'road', 'find', 'someone', 'told', 'let', 'hold', 'key', 'make', 'way', 'sea', 'r', 'free', 'coz', 'baby', 'done', 'finding', 'u']),\n",
       "       list(['kuraklk', 'en', 'ktsydohohoh', 'beraber', 'byttmz', 'iekler', 'susuzluktan', 'lnce', 'aylarca', 'ileri', 'geri', 'ohohoh', 'hala', 'benimlesin', 'artk', 'giyemediim', 'arap', 'lekeli', 'bir', 'elbise', 'gibi', 'sava', 'kaybederken', 'kafam', 'astm', 'gkyz', 'mkemmel', 'bir', 'frtna', 'gibi', 'siyaha', 'brnd', 'yamur', 'bardaktan', 'boalrcasna', 'geldi', 'ben', 'boulurken', 'sonunda', 'nefes', 'aldm', 'sabaha', 'kadar', 'btn', 'izlerin', 'silindi', 'sanrm', 'artk', 'arndm', 'ohohohoh', 'yapacak', 'bir', 'ey', 'kalmamt', 'ohoh', 'ohoh', 'kelebekler', 'odam', 'kaplayan', 'bir', 'toz', 'haline', 'geldiinde', 'ben', 'de', 'aty', 'yumrukladm', 'ohoh', 'ohoh', 'selin', 'senin', 'btn', 'rsimlerini', 'gtrmesine', 'izin', 'vrdim', 'su', 'cierlerimi', 'doldurdu', 'lk', 'la', 'bardm', 'ama', 'kimse', 'duymad', 'yamur', 'bardaktan', 'boalrcasna', 'geldi', 'ben', 'boulurken', 'sonunda', 'nefes', 'aldm', 'sabaha', 'kadar', 'btn', 'izlerin', 'silindi', 'sanrm', 'artk', 'arndm', 'ohohohoh', 'sanrm', 'artk', 'arndm', 'oh', 'oh', 'oh', 'oh', 'oh', 'oh', 'ohoh', 'artk', 'arndm', 'dedim', 'oh', 'oh', 'oh', 'oh', 'oh', 'oh', 'ohoh', '10', 'aydr', 'temizim', 'itiraf', 'etmeliyim', 'temiz', 'olmak', 'zlemediin', 'anlamna', 'gelmiyor', '10', 'ay', 'daha', 'bydm', 'vazgemeyeceim', 'imdi', 'temizim', 'asla', 'riske', 'atmayacam', 'kuraklk', 'en', 'ktsydohohoh', 'beraber', 'byttmz', 'iekler', 'susuzluktan', 'lnce', 'oh', 'yamur', 'bardaktan', 'boalrcasna', 'geldi', 'ben', 'boulurken', 'sonunda', 'nefes', 'aldm', 'sabaha', 'kadar', 'btn', 'izlerin', 'silindi', 'sanrm', 'artk', 'arndm', 'yamur', 'bardaktan', 'boalrcasna', 'geldi', 'ben', 'boulurken', 'sonunda', 'nefes', 'aldm', 'sabaha', 'kadar', 'btn', 'izlerin', 'silindi', 'sanrm', 'artk', 'arndm', 'oh', 'oh', 'sonunda', 'arnm', 'sanrm', 'sonunda', 'arndm', 'oh', 'oh', 'ohoh', 'ohoh', 'oh', 'oh', 'oh', 'sanrm', 'sonunda', 'arndm'])],\n",
       "      dtype=object)"
      ]
     },
     "execution_count": 17,
     "metadata": {},
     "output_type": "execute_result"
    }
   ],
   "source": [
    "lyrics"
   ]
  },
  {
   "cell_type": "code",
   "execution_count": 23,
   "id": "9bb8d23d",
   "metadata": {},
   "outputs": [],
   "source": [
    "id= np.array([id for id in df.id])"
   ]
  },
  {
   "cell_type": "code",
   "execution_count": 18,
   "id": "1ced0278",
   "metadata": {
    "scrolled": true
   },
   "outputs": [
    {
     "name": "stderr",
     "output_type": "stream",
     "text": [
      "100%|█████████████████████████████████████████████████████████████████████████| 3856/3856 [00:00<00:00, 3873829.04it/s]\n"
     ]
    }
   ],
   "source": [
    "tokenize_lyric=[]\n",
    "from tqdm import tqdm\n",
    "for lyric in tqdm(lyrics):\n",
    "    tokenize_lyric.append(lyric)\n"
   ]
  },
  {
   "cell_type": "code",
   "execution_count": 24,
   "id": "8df0b17b",
   "metadata": {},
   "outputs": [],
   "source": [
    "for i in range(len(df)):\n",
    "    tokenize_lyric[i].append(f\"-->{id[i]}\")"
   ]
  },
  {
   "cell_type": "code",
   "execution_count": 25,
   "id": "0cc1a211",
   "metadata": {},
   "outputs": [],
   "source": [
    "from rank_bm25 import BM25Okapi, BM25Plus"
   ]
  },
  {
   "cell_type": "code",
   "execution_count": 26,
   "id": "a42f1581",
   "metadata": {},
   "outputs": [],
   "source": [
    "bm25 = BM25Plus(tokenize_lyric)"
   ]
  },
  {
   "cell_type": "code",
   "execution_count": 27,
   "id": "0b92edaf",
   "metadata": {},
   "outputs": [],
   "source": [
    "def bm25okapi_search(tokenized_query, bm25, corpus, n_results = 1):\n",
    "    \"\"\"\n",
    "    Function that takes a tokenized query and prints the first 100 words of the \n",
    "    n_results most relevant results found in the corpus, based on the BM25\n",
    "    method.\n",
    "    \n",
    "    Parameters\n",
    "    ----------\n",
    "    @param tokenized_query: list, array-like\n",
    "        A valid list containing the tokenized query.\n",
    "    @param bm25: BM25 object,\n",
    "        A valid object of type BM25 (BM25Okapi or BM25Plus) from the library\n",
    "        `rank-bm25`, initialized with a valid corpus.\n",
    "    @param corpus: list, array-like\n",
    "        A valid list containing the corpus from which the BM25 object has been \n",
    "        initialized. As returned from function read_corpus().\n",
    "    @param n_results: int, default = 1\n",
    "        The number of top results to print.\n",
    "    \"\"\"\n",
    "    \n",
    "    # We skip checking validity of arguments for now... We assume the user \n",
    "    # knows what they're doing.\n",
    "    \n",
    "    # Get top results for the query\n",
    "    top_results = bm25.get_top_n(tokenized_query, corpus, n = n_results)\n",
    "    \n",
    "    # Take words from each result\n",
    "    top_results_id = [' '.join(top_result).split(\"-->\")[-1] \n",
    "                             for top_result in top_results]\n",
    "    \n",
    "    # Return results\n",
    "    return top_results_id"
   ]
  },
  {
   "cell_type": "code",
   "execution_count": 28,
   "id": "e52dfc50",
   "metadata": {},
   "outputs": [],
   "source": [
    "corpus= \"Sorry\""
   ]
  },
  {
   "cell_type": "code",
   "execution_count": 29,
   "id": "37d133d0",
   "metadata": {},
   "outputs": [],
   "source": [
    "corpus=clean.Preprocess(corpus)\n",
    "corpus=[corpus.split(\" \")]\n"
   ]
  },
  {
   "cell_type": "code",
   "execution_count": 30,
   "id": "db5ecfea",
   "metadata": {},
   "outputs": [
    {
     "data": {
      "text/plain": [
       "[['sorry']]"
      ]
     },
     "execution_count": 30,
     "metadata": {},
     "output_type": "execute_result"
    }
   ],
   "source": [
    "corpus"
   ]
  },
  {
   "cell_type": "code",
   "execution_count": 31,
   "id": "d1dd9f7f",
   "metadata": {},
   "outputs": [],
   "source": [
    "rank=bm25okapi_search(corpus[0], bm25, tokenize_lyric, n_results= 20)"
   ]
  },
  {
   "cell_type": "code",
   "execution_count": 32,
   "id": "4c215c26",
   "metadata": {},
   "outputs": [
    {
     "name": "stdout",
     "output_type": "stream",
     "text": [
      "1989    Sorry\n",
      "Name: title, dtype: object\n",
      "409    ​listen before i go\n",
      "Name: title, dtype: object\n",
      "186    Sorry\n",
      "Name: title, dtype: object\n",
      "2113    All I Want Is You\n",
      "Name: title, dtype: object\n",
      "3625    Breathe\n",
      "Name: title, dtype: object\n",
      "2286    It Takes Two\n",
      "Name: title, dtype: object\n",
      "1263    Genesis\n",
      "Name: title, dtype: object\n",
      "3707    You Don’t Have To Call  Me\n",
      "Name: title, dtype: object\n",
      "3326    Take a Bow (Tony Moran & Warren Riggs)\n",
      "Name: title, dtype: object\n",
      "3367    Take a Bow (Tony Moran & Warren Riggs Encore C...\n",
      "Name: title, dtype: object\n",
      "3338    Take a Bow (Subkulcha Club)\n",
      "Name: title, dtype: object\n",
      "10    ​needy\n",
      "Name: title, dtype: object\n",
      "3378    Take a Bow (Groove Junkies MoHo Club)\n",
      "Name: title, dtype: object\n",
      "3345    Take a Bow (Seamus Haji & Paul Emanuel Club)\n",
      "Name: title, dtype: object\n",
      "2741    The Air That I Breathe (iTunes Exclusive)\n",
      "Name: title, dtype: object\n",
      "3200    Take a Bow\n",
      "Name: title, dtype: object\n",
      "829    Goodbye and Goodnight\n",
      "Name: title, dtype: object\n",
      "1914    Eminem, Paul Rosenberg Intro\n",
      "Name: title, dtype: object\n",
      "3563    ​coney island\n",
      "Name: title, dtype: object\n",
      "3639    You’re Not Sorry\n",
      "Name: title, dtype: object\n"
     ]
    }
   ],
   "source": [
    "for i in rank:\n",
    "    print(df[df.id==int(i)].title)"
   ]
  },
  {
   "cell_type": "code",
   "execution_count": 33,
   "id": "ffda9f0c",
   "metadata": {},
   "outputs": [],
   "source": [
    "query= \"we don't talk anymore\""
   ]
  },
  {
   "cell_type": "code",
   "execution_count": null,
   "id": "bc151f0c",
   "metadata": {},
   "outputs": [],
   "source": [
    "import nltk\n",
    "from nltk.corpus import wordnet"
   ]
  },
  {
   "cell_type": "code",
   "execution_count": null,
   "id": "be4c0131",
   "metadata": {
    "scrolled": true
   },
   "outputs": [],
   "source": [
    "print(negation_handler(nltk.word_tokenize(query)))"
   ]
  },
  {
   "cell_type": "code",
   "execution_count": null,
   "id": "19242db3",
   "metadata": {},
   "outputs": [],
   "source": [
    "tokens= nltk.word_tokenize(query)"
   ]
  },
  {
   "cell_type": "code",
   "execution_count": null,
   "id": "f99bcb27",
   "metadata": {},
   "outputs": [],
   "source": [
    "tokens"
   ]
  },
  {
   "cell_type": "code",
   "execution_count": null,
   "id": "f7d6d4c0",
   "metadata": {},
   "outputs": [],
   "source": [
    "wordnet.synsets(tokens[3])[0].lemmas()[1].antonyms()"
   ]
  },
  {
   "cell_type": "code",
   "execution_count": null,
   "id": "725f791a",
   "metadata": {},
   "outputs": [],
   "source": [
    "def negation_handler(sentence):\n",
    "    temp = int(0)\n",
    "    for i in range(len(sentence)):\n",
    "        if sentence[i-1] in ['not',\"n't\"]:\n",
    "            antonyms = []\n",
    "            for syn in wordnet.synsets(sentence[i]):\n",
    "                syns = wordnet.synsets(sentence[i])\n",
    "                w1 = syns[0].name()\n",
    "                temp = 0\n",
    "                for l in syn.lemmas():\n",
    "                    if l.antonyms():\n",
    "                        antonyms.append(l.antonyms()[0].name())\n",
    "                max_dissimilarity = 0\n",
    "                for ant in antonyms:\n",
    "                    syns = wordnet.synsets(ant)\n",
    "                    w2 = syns[0].name()\n",
    "                    syns = wordnet.synsets(sentence[i])\n",
    "                    w1 = syns[0].name()\n",
    "                    word1 = wordnet.synset(w1)\n",
    "                    word2 = wordnet.synset(w2)\n",
    "                    if isinstance(word1.wup_similarity(word2), float) or isinstance(word1.wup_similarity(word2), int):\n",
    "                        temp = 1 - word1.wup_similarity(word2)\n",
    "                    if temp>max_dissimilarity:\n",
    "                        max_dissimilarity = temp\n",
    "                        antonym_max = ant\n",
    "                        sentence[i] = antonym_max\n",
    "                        sentence[i-1] = ''\n",
    "    while '' in sentence:\n",
    "        sentence.remove('')\n",
    "    return sentence"
   ]
  },
  {
   "cell_type": "code",
   "execution_count": null,
   "id": "825b6f03",
   "metadata": {},
   "outputs": [],
   "source": [
    "wordnet.synsets('hello')"
   ]
  },
  {
   "cell_type": "code",
   "execution_count": null,
   "id": "142a3e96",
   "metadata": {},
   "outputs": [],
   "source": []
  }
 ],
 "metadata": {
  "kernelspec": {
   "display_name": "Python 3 (ipykernel)",
   "language": "python",
   "name": "python3"
  },
  "language_info": {
   "codemirror_mode": {
    "name": "ipython",
    "version": 3
   },
   "file_extension": ".py",
   "mimetype": "text/x-python",
   "name": "python",
   "nbconvert_exporter": "python",
   "pygments_lexer": "ipython3",
   "version": "3.10.6"
  }
 },
 "nbformat": 4,
 "nbformat_minor": 5
}
