{
 "cells": [
  {
   "cell_type": "code",
   "execution_count": null,
   "id": "20b1f4d8",
   "metadata": {},
   "outputs": [],
   "source": [
    "#nltk.download()"
   ]
  },
  {
   "cell_type": "code",
   "execution_count": 1,
   "id": "70f57a10",
   "metadata": {},
   "outputs": [],
   "source": [
    "import os\n",
    "import nltk\n",
    "import json\n",
    "import pickle\n",
    "import re\n",
    "import string\n",
    "import pandas as pd\n",
    "import numpy as np\n",
    "\n",
    "from tqdm import tqdm\n",
    "import matplotlib.pyplot as plt\n",
    "from nltk.tokenize import word_tokenize\n",
    "\n",
    "import preprocess\n",
    "from lemma import LemmatizationWithPOSTagger\n",
    "\n",
    "from utils import bm25okapi_search, search"
   ]
  },
  {
   "cell_type": "markdown",
   "id": "728e3987",
   "metadata": {},
   "source": [
    " # Evaluate Lemmatizer on self-composed corpus\n"
   ]
  },
  {
   "cell_type": "code",
   "execution_count": 2,
   "id": "fb332a30",
   "metadata": {},
   "outputs": [],
   "source": [
    "# Load  self_composed corpus\n",
    "with open(os.path.join(\"corpus.txt\"), 'r') as file:\n",
    "    lines=file.read()\n",
    "corpus=lines.split('\\n')"
   ]
  },
  {
   "cell_type": "code",
   "execution_count": 95,
   "id": "88578935",
   "metadata": {},
   "outputs": [
    {
     "data": {
      "text/plain": [
       "40"
      ]
     },
     "execution_count": 95,
     "metadata": {},
     "output_type": "execute_result"
    }
   ],
   "source": [
    "len(corpus)"
   ]
  },
  {
   "cell_type": "code",
   "execution_count": 96,
   "id": "58274113",
   "metadata": {},
   "outputs": [],
   "source": [
    "#Load grouth-true lemmatize of corpus\n",
    "with open(os.path.join(\"target.txt\"), 'r') as file:\n",
    "    docs=file.read()\n",
    "docs=[doc.split('\\n') for doc in docs.split('\\n\\n')]"
   ]
  },
  {
   "cell_type": "code",
   "execution_count": 97,
   "id": "da61579e",
   "metadata": {},
   "outputs": [],
   "source": [
    "# Create lemmatization dictionary from the Corpus grouth-true\n",
    "dict={}\n",
    "tags_gt=[]\n",
    "for doc in docs:\n",
    "    tags=[]\n",
    "    for line in doc:\n",
    "        parts = line.split(\"=\")\n",
    "        word = parts[0].strip().lower()\n",
    "        if word in string.punctuation and word != \"'\":\n",
    "            continue\n",
    "        form=parts[1].split(\"+\")\n",
    "        if len(form) <2:\n",
    "            print(line)\n",
    "        lemma= form[0].strip().lower()\n",
    "        tag= form[1].strip().upper()\n",
    "        if word in dict:\n",
    "            dict[word][tag]=lemma\n",
    "        else:\n",
    "            dict[word]={tag:lemma}\n",
    "        tags.append((word,tag))\n",
    "    tags_gt.append(tags)\n",
    "    #dicts.append(dict)"
   ]
  },
  {
   "cell_type": "code",
   "execution_count": 98,
   "id": "be97f1ba",
   "metadata": {},
   "outputs": [],
   "source": [
    "#calculate dictionary size\n",
    "dict_size=0\n",
    "for word in dict.items():\n",
    "    dict_size+=len(word[1])"
   ]
  },
  {
   "cell_type": "code",
   "execution_count": 99,
   "id": "06c67e60",
   "metadata": {},
   "outputs": [
    {
     "name": "stdout",
     "output_type": "stream",
     "text": [
      "kích thước của dictionary xây dựng từ tập corpus được soạn: 325\n"
     ]
    }
   ],
   "source": [
    "print('kích thước của dictionary xây dựng từ tập corpus được soạn:',dict_size)"
   ]
  },
  {
   "cell_type": "code",
   "execution_count": 100,
   "id": "64422f0d",
   "metadata": {},
   "outputs": [],
   "source": [
    "#Preprocess: -Return to Lowercase, unicode standardization, remove whitespaces\n",
    "pr=preprocess.Preprocessing()\n",
    "def pipeline(preprocess, str):\n",
    "    str = preprocess.text_lowercase(str)\n",
    "    str= preprocess.convert_unicode(str)\n",
    "    str= preprocess.remove_whitespace(str)\n",
    "    return str"
   ]
  },
  {
   "cell_type": "code",
   "execution_count": 101,
   "id": "7c6fca55",
   "metadata": {},
   "outputs": [],
   "source": [
    "corpus_preprocessed= [pipeline(pr,str) for str in corpus]\n",
    "#Tokenize using the nltk library and remove tokens that are punctuation\n",
    "corpus_tokens= [[token for token in word_tokenize(sent) if str(token) not in string.punctuation or str(token) == \"'\"] for sent in corpus_preprocessed]"
   ]
  },
  {
   "cell_type": "code",
   "execution_count": 102,
   "id": "f9ceaa48",
   "metadata": {
    "scrolled": true
   },
   "outputs": [
    {
     "data": {
      "image/png": "[encoded data removed]",
      "text/plain": [
       "<Figure size 800x480 with 1 Axes>"
      ]
     },
     "metadata": {},
     "output_type": "display_data"
    },
    {
     "name": "stdout",
     "output_type": "stream",
     "text": [
      "Total word in corpus:  575\n",
      "longest sentence has 40 words\n",
      "Shortest sentence has 5 words\n"
     ]
    }
   ],
   "source": [
    "numbers = []\n",
    "for tokens in corpus_tokens:\n",
    "    numbers.append(len(tokens))\n",
    "fig, ax = plt.subplots(figsize=(10, 6), dpi=80)\n",
    "ax.set_title('Count the number of words in corpus')\n",
    "ax.set_ylabel('Number of word')\n",
    "ax.set_xlabel('Index')\n",
    "x = np.arange(1,len(corpus)+1)\n",
    "y=np.array(numbers)\n",
    "ax.bar(x, y, width=1, edgecolor=\"white\", linewidth=0.7)\n",
    "plt.show()\n",
    "print(\"Total word in corpus: \",sum(numbers))\n",
    "print(f\"longest sentence has {max(numbers)} words\")\n",
    "print(f\"Shortest sentence has {min(numbers)} words\")"
   ]
  },
  {
   "cell_type": "code",
   "execution_count": 103,
   "id": "df90a792",
   "metadata": {},
   "outputs": [],
   "source": [
    "lemma= LemmatizationWithPOSTagger(use_nltk_lemma= False)\n",
    "lemma_corpus, pos_tag= lemma.lemmatize(corpus_tokens, tokenizer='No_tokenize', return_pos=True)\n",
    "lemma_tokens= [sent.split() for sent in lemma_corpus]"
   ]
  },
  {
   "cell_type": "code",
   "execution_count": 109,
   "id": "a6922a75",
   "metadata": {
    "scrolled": false
   },
   "outputs": [
    {
     "name": "stdout",
     "output_type": "stream",
     "text": [
      "(\"'m\", 'VBP') be 'm\n",
      "(\"'ll\", 'MD') will 'll\n",
      "(\"'s\", 'VBZ') be 's\n",
      "('gon', 'VBG') go gon\n",
      "(\"'ve\", 'VBP') have 've\n",
      "('got', 'VBN') get got\n",
      "(\"n't\", 'RB') not n't\n",
      "(\"'cause\", 'IN') because 'cause\n",
      "('those', 'DT') that those\n",
      "(\"n't\", 'RB') not n't\n",
      "(\"'ll\", 'MD') will 'll\n",
      "(\"n't\", 'RB') not n't\n",
      "('these', 'DT') this these\n",
      "(\"'d\", 'MD') will 'd\n",
      "(\"'m\", 'VBP') be 'm\n",
      "(\"'ve\", 'VBP') have 've\n",
      "(\"'s\", 'VBZ') be 's\n",
      "('known', 'VBN') know known\n",
      "('would', 'MD') will would\n",
      "('people', 'NNS') people person\n",
      "('these', 'DT') this these\n",
      "('people', 'NNS') people person\n",
      "('would', 'MD') will would\n",
      "('best', 'JJS') best good\n",
      "('these', 'DT') this these\n",
      "('these', 'DT') this these\n"
     ]
    }
   ],
   "source": [
    "not_exist=0\n",
    "accuracy_scores_lemma=[]\n",
    "accuracy_scores_pos_tag=[]\n",
    "count=[]\n",
    "for i in range(len(corpus)):\n",
    "    TP= 0\n",
    "    TN=0\n",
    "    FP=0\n",
    "    FN=0\n",
    "    \n",
    "    for word, lemma, tag, tag_gt in zip(corpus_tokens[i],lemma_tokens[i], pos_tag[i], tags_gt[i]):\n",
    "        if word not in dict:\n",
    "            not_exist+=1\n",
    "            continue\n",
    "        #kiểm tra số lượng từ bị gán sai tag\n",
    "        \n",
    "        if tag[1] != tag_gt[1]:\n",
    "            #print(corpus[i])\n",
    "            #print(word, tag, tag_gt)\n",
    "            #sai tag nhưng từ vẫn được khôi phục về từ gốc đúng(True Negative)           \n",
    "            if lemma == dict[word][tag_gt[1]]:\n",
    "                TN+=1\n",
    "                #print(dict[word][tag_gt[1]], tag[1], tag_gt[1], lemma)\n",
    "            else:\n",
    "                #sai tag, sai lemma (False Negative)\n",
    "                FN+=1\n",
    "                #print(dict[word][tag_gt[1]], tag[1], tag_gt[1], lemma)\n",
    "            continue\n",
    "            \n",
    "        if dict[word][tag[1]] == lemma: #đúng tag đúng lemma (True Positive)\n",
    "            TP+=1\n",
    "        else: #Đúng tag sai lemma (FP)\n",
    "            FP+=1\n",
    "            print(tag_gt, dict[word][tag[1]], lemma)\n",
    "            pass\n",
    "    count.append([TP,TN,FP,FN])\n",
    "    accuracy_scores_lemma.append((TP+TN)/ len(corpus_tokens[i]))\n",
    "    accuracy_scores_pos_tag.append((TP+FP)/len(corpus_tokens[i]))"
   ]
  },
  {
   "cell_type": "code",
   "execution_count": 110,
   "id": "091516bb",
   "metadata": {},
   "outputs": [],
   "source": [
    "mean_accuracy_lemma=np.mean(accuracy_scores_lemma)\n",
    "mean_accuracy_pos_tag=np.mean(accuracy_scores_pos_tag)"
   ]
  },
  {
   "cell_type": "code",
   "execution_count": 111,
   "id": "f1f456fd",
   "metadata": {},
   "outputs": [
    {
     "name": "stdout",
     "output_type": "stream",
     "text": [
      "Mean Accuracy khi thực hiện Lemma trên bộ ngữ liệu:  0.9225317606454176\n",
      "Mean Accuracy khi thực hiện POS_tag trên bộ ngữ liệu:  0.8978456678168163\n"
     ]
    }
   ],
   "source": [
    "print('Mean Accuracy khi thực hiện Lemma trên bộ ngữ liệu: ', mean_accuracy_lemma)\n",
    "print('Mean Accuracy khi thực hiện POS_tag trên bộ ngữ liệu: ', mean_accuracy_pos_tag)"
   ]
  },
  {
   "cell_type": "code",
   "execution_count": 112,
   "id": "7201e0ae",
   "metadata": {},
   "outputs": [
    {
     "name": "stdout",
     "output_type": "stream",
     "text": [
      "số từ không xuất hiện trong tập từ điển:  0\n"
     ]
    }
   ],
   "source": [
    "print('số từ không xuất hiện trong tập từ điển: ',not_exist)"
   ]
  },
  {
   "cell_type": "code",
   "execution_count": 113,
   "id": "8e311574",
   "metadata": {},
   "outputs": [
    {
     "name": "stdout",
     "output_type": "stream",
     "text": [
      "Tổng số từ được dự đoán đúng tag và đưa về từ gốc đúng:  503\n",
      "Tổng số từ được dự đoán sai tag nhưng đưa về từ gốc đúng:  38\n",
      "Tổng số từ được dự đoán đúng tag nhưng đưa về từ gốc sai:  26\n",
      "Tổng số từ được dự đoán sai tag và đưa về từ gốc sai:  6\n"
     ]
    }
   ],
   "source": [
    "print('Tổng số từ được dự đoán đúng tag và đưa về từ gốc đúng: ',np.sum(count,axis=0)[0])\n",
    "print('Tổng số từ được dự đoán sai tag nhưng đưa về từ gốc đúng: ',np.sum(count,axis=0)[1])\n",
    "\n",
    "print('Tổng số từ được dự đoán đúng tag nhưng đưa về từ gốc sai: ',np.sum(count,axis=0)[2])\n",
    "\n",
    "print('Tổng số từ được dự đoán sai tag và đưa về từ gốc sai: ',np.sum(count,axis=0)[3])"
   ]
  },
  {
   "cell_type": "code",
   "execution_count": 114,
   "id": "b491e944",
   "metadata": {},
   "outputs": [],
   "source": [
    "nltk_lemma= LemmatizationWithPOSTagger(use_nltk_lemma= True)\n",
    "nltk_lemma_corpus, nltk_pos_tag= nltk_lemma.lemmatize(corpus_tokens, tokenizer='No_tokenize', return_pos=True)"
   ]
  },
  {
   "cell_type": "code",
   "execution_count": 115,
   "id": "b4dfed08",
   "metadata": {
    "scrolled": true
   },
   "outputs": [],
   "source": [
    "nltk_lemma_tokens= [sent.split() for sent in nltk_lemma_corpus]"
   ]
  },
  {
   "cell_type": "code",
   "execution_count": 116,
   "id": "6244f02e",
   "metadata": {
    "scrolled": true
   },
   "outputs": [
    {
     "name": "stdout",
     "output_type": "stream",
     "text": [
      "(\"'m\", 'VBP') be 'm\n",
      "(\"'ll\", 'MD') will 'll\n",
      "(\"'s\", 'VBZ') be 's\n",
      "('gon', 'VBG') go gon\n",
      "(\"'ve\", 'VBP') have 've\n",
      "(\"n't\", 'RB') not n't\n",
      "(\"'cause\", 'IN') because 'cause\n",
      "('those', 'DT') that those\n",
      "(\"n't\", 'RB') not n't\n",
      "(\"'ll\", 'MD') will 'll\n",
      "(\"n't\", 'RB') not n't\n",
      "('these', 'DT') this these\n",
      "(\"'d\", 'MD') will 'd\n",
      "(\"'m\", 'VBP') be 'm\n",
      "(\"'ve\", 'VBP') have 've\n",
      "(\"'s\", 'VBZ') be 's\n",
      "('would', 'MD') will would\n",
      "('these', 'DT') this these\n",
      "('as', 'IN') as a\n",
      "('would', 'MD') will would\n",
      "('these', 'DT') this these\n",
      "('these', 'DT') this these\n"
     ]
    }
   ],
   "source": [
    "not_exist=0\n",
    "accuracy_scores_lemma=[]\n",
    "accuracy_scores_pos_tag=[]\n",
    "count=[]\n",
    "for i in range(len(corpus)):\n",
    "    TP= 0\n",
    "    TN=0\n",
    "    FP=0\n",
    "    FN=0\n",
    "    \n",
    "    for word, lemma, tag, tag_gt in zip(corpus_tokens[i],nltk_lemma_tokens[i], nltk_pos_tag[i], tags_gt[i]):\n",
    "        if word not in dict:\n",
    "            not_exist+=1\n",
    "            continue\n",
    "        #kiểm tra số lượng từ bị gán sai tag\n",
    "        \n",
    "        if tag[1] != tag_gt[1]:\n",
    "            #print(corpus[i])\n",
    "            #print(word, tag, tag_gt)\n",
    "            #sai tag nhưng từ vẫn được khôi phục về từ gốc đúng(True Negative)           \n",
    "            if lemma == dict[word][tag_gt[1]]:\n",
    "                TN+=1\n",
    "                #print(dict[word][tag_gt[1]], tag[1], tag_gt[1], lemma)\n",
    "            else:\n",
    "                #sai tag, sai lemma (False Negative)\n",
    "                FN+=1\n",
    "                #print(dict[word][tag_gt[1]], tag[1], tag_gt[1], lemma)\n",
    "            continue\n",
    "            \n",
    "        if dict[word][tag[1]] == lemma: #đúng tag đúng lemma (True Positive)\n",
    "            TP+=1\n",
    "        else: #Đúng tag sai lemma (FP)\n",
    "            FP+=1\n",
    "            print(tag_gt, dict[word][tag[1]], lemma)\n",
    "            pass\n",
    "    count.append([TP,TN,FP,FN])\n",
    "    accuracy_scores_lemma.append((TP+TN)/ len(corpus_tokens[i]))\n",
    "    accuracy_scores_pos_tag.append((TP+FP)/len(corpus_tokens[i]))"
   ]
  },
  {
   "cell_type": "code",
   "execution_count": 118,
   "id": "e3842612",
   "metadata": {
    "scrolled": true
   },
   "outputs": [],
   "source": [
    "mean_accuracy_lemma=np.mean(accuracy_scores_lemma)\n",
    "mean_accuracy_pos_tag=np.mean(accuracy_scores_pos_tag)"
   ]
  },
  {
   "cell_type": "code",
   "execution_count": 119,
   "id": "bf1b4811",
   "metadata": {
    "scrolled": true
   },
   "outputs": [
    {
     "name": "stdout",
     "output_type": "stream",
     "text": [
      "Mean Accuracy khi thực hiện Lemma trên bộ ngữ liệu:  0.9332171863308434\n",
      "Mean Accuracy khi thực hiện POS_tag trên bộ ngữ liệu:  0.8978456678168163\n"
     ]
    }
   ],
   "source": [
    "print('Mean Accuracy khi thực hiện Lemma trên bộ ngữ liệu: ', mean_accuracy_lemma)\n",
    "print('Mean Accuracy khi thực hiện POS_tag trên bộ ngữ liệu: ', mean_accuracy_pos_tag)"
   ]
  },
  {
   "cell_type": "code",
   "execution_count": 164,
   "id": "265ada24",
   "metadata": {},
   "outputs": [
    {
     "name": "stdout",
     "output_type": "stream",
     "text": [
      "số từ không xuất hiện trong tập từ điển:  0\n"
     ]
    }
   ],
   "source": [
    "print('số từ không xuất hiện trong tập từ điển: ',not_exist)"
   ]
  },
  {
   "cell_type": "code",
   "execution_count": 165,
   "id": "b23c611d",
   "metadata": {},
   "outputs": [
    {
     "name": "stdout",
     "output_type": "stream",
     "text": [
      "Tổng số từ được dự đoán đúng tag và đưa về từ gốc đúng:  507\n",
      "Tổng số từ được dự đoán sai tag nhưng đưa về từ gốc đúng:  39\n",
      "Tổng số từ được dự đoán đúng tag nhưng đưa về từ gốc sai:  22\n",
      "Tổng số từ được dự đoán sai tag và đưa về từ gốc sai:  5\n"
     ]
    }
   ],
   "source": [
    "print('Tổng số từ được dự đoán đúng tag và đưa về từ gốc đúng: ',np.sum(count,axis=0)[0])\n",
    "print('Tổng số từ được dự đoán sai tag nhưng đưa về từ gốc đúng: ',np.sum(count,axis=0)[1])\n",
    "\n",
    "print('Tổng số từ được dự đoán đúng tag nhưng đưa về từ gốc sai: ',np.sum(count,axis=0)[2])\n",
    "\n",
    "print('Tổng số từ được dự đoán sai tag và đưa về từ gốc sai: ',np.sum(count,axis=0)[3])"
   ]
  },
  {
   "cell_type": "markdown",
   "id": "ff6f64eb",
   "metadata": {},
   "source": [
    "# PREPROCESS MUSIC DATA"
   ]
  },
  {
   "cell_type": "code",
   "execution_count": 4,
   "id": "f20b3539",
   "metadata": {},
   "outputs": [],
   "source": [
    "features=['title', 'id', 'release_date', 'lyrics']"
   ]
  },
  {
   "cell_type": "code",
   "execution_count": 5,
   "id": "65b27bd6",
   "metadata": {
    "scrolled": true
   },
   "outputs": [],
   "source": [
    "df=pd.DataFrame()\n",
    "for dirname, _, filenames in os.walk('data\\json files'):\n",
    "    for filename in filenames:\n",
    "        with open(os.path.join(dirname, filename)) as f:\n",
    "            aux = json.load(f)\n",
    "            df_tmp=pd.DataFrame()\n",
    "            Artist= np.full((len(aux['songs'])), aux['name'])\n",
    "            df_tmp['artist']=Artist\n",
    "            for f in features:\n",
    "                col=[song[f] for song in aux['songs']]\n",
    "                df_tmp[f]=col\n",
    "            df=pd.concat([df,df_tmp]).reset_index(drop=True)"
   ]
  },
  {
   "cell_type": "code",
   "execution_count": 6,
   "id": "db7d0f03",
   "metadata": {},
   "outputs": [],
   "source": [
    "#filter other versions of the song and keep the original song\n",
    "tmp=[]\n",
    "tags=['remix', 'mashup','traduction','snippet','translation' , 'unreleased', 'concept', 'leak', 'extended','live','club', 'acoustic',' version', ' ver', 'demo', 'reprise', 'copy', 'mix','edit', 'dub', 'studio', 'record', 'video', 'original', 'radio', 'quotes','reimagined', 'clean', 'demo']\n",
    "for title in df['title']:\n",
    "    for tag in tags:\n",
    "        if re.search(f'\\[(.*?){tag}(.*?)\\]' ,title.lower()) != None:\n",
    "            tmp.append(title)\n",
    "        if re.search(f'\\((.*?){tag}(.*?)\\)' ,title.lower()) != None:\n",
    "            tmp.append(title)\n",
    "        if re.search(f\"\\ {tag}\", title.lower()) != None:\n",
    "            tmp.append(title)"
   ]
  },
  {
   "cell_type": "code",
   "execution_count": 7,
   "id": "b884fb04",
   "metadata": {},
   "outputs": [],
   "source": [
    "#filter other versions of the song and keep the original song\n",
    "tmp=[]\n",
    "tags=['remix', 'mashup','traduction','snippet','translation' , 'unreleased', 'concept', 'leak', 'extended','live','club', 'acoustic',' version', ' ver', 'demo', 'reprise', 'copy', 'mix','edit', 'dub', 'studio', 'record', 'video', 'original', 'radio', 'quotes','reimagined', 'clean', 'demo']\n",
    "for title in df['title']:\n",
    "    for tag in tags:\n",
    "        if re.search(f'\\[(.*?){tag}(.*?)\\]' ,title.lower()) != None:\n",
    "            tmp.append(title)\n",
    "        if re.search(f'\\((.*?){tag}(.*?)\\)' ,title.lower()) != None:\n",
    "            tmp.append(title)\n",
    "        if re.search(f\"\\ {tag}\", title.lower()) != None:\n",
    "            tmp.append(title)\n",
    "for title in tmp:\n",
    "    df= df[df.title != title].reset_index(drop=True)"
   ]
  },
  {
   "cell_type": "code",
   "execution_count": 8,
   "id": "2537f8ac",
   "metadata": {
    "scrolled": true
   },
   "outputs": [
    {
     "name": "stdout",
     "output_type": "stream",
     "text": [
      "number null value of title:  0\n",
      "number null value of id:  0\n",
      "number null value of release_date:  1338\n",
      "number null value of lyrics:  7\n"
     ]
    }
   ],
   "source": [
    "for f in features:\n",
    "    print(\"number null value of {}: \".format(f),sum(df[f].isnull()))\n",
    "    \n",
    "#delete songs which have null lyrics\n",
    "df.dropna(subset = [\"lyrics\"], inplace=True)"
   ]
  },
  {
   "cell_type": "code",
   "execution_count": 9,
   "id": "e315beb3",
   "metadata": {},
   "outputs": [],
   "source": [
    "#filter out songs with invalid lyrics\n",
    "tmp=[]\n",
    "for idx,lyric in zip(df.id, df.lyrics):\n",
    "    if (len(lyric.split(\"\\n\"))<6 and re.search('\\[(.*?)\\]', lyric)==None) or len(lyric)<100: \n",
    "        tmp.append(idx)\n",
    "for i in tmp:\n",
    "    df=df[df.id!=i]\n",
    "df=df.reset_index(drop=True)"
   ]
  },
  {
   "cell_type": "code",
   "execution_count": 10,
   "id": "8884af68",
   "metadata": {},
   "outputs": [
    {
     "data": {
      "text/html": [
       "<div>\n",
       "<style scoped>\n",
       "    .dataframe tbody tr th:only-of-type {\n",
       "        vertical-align: middle;\n",
       "    }\n",
       "\n",
       "    .dataframe tbody tr th {\n",
       "        vertical-align: top;\n",
       "    }\n",
       "\n",
       "    .dataframe thead th {\n",
       "        text-align: right;\n",
       "    }\n",
       "</style>\n",
       "<table border=\"1\" class=\"dataframe\">\n",
       "  <thead>\n",
       "    <tr style=\"text-align: right;\">\n",
       "      <th></th>\n",
       "      <th>artist</th>\n",
       "      <th>title</th>\n",
       "      <th>id</th>\n",
       "      <th>release_date</th>\n",
       "      <th>lyrics</th>\n",
       "    </tr>\n",
       "  </thead>\n",
       "  <tbody>\n",
       "    <tr>\n",
       "      <th>0</th>\n",
       "      <td>Ariana Grande</td>\n",
       "      <td>​thank u, next</td>\n",
       "      <td>4063065</td>\n",
       "      <td>2018-11-03</td>\n",
       "      <td>[Verse 1]\\nThought I'd end up with Sean\\nBut h...</td>\n",
       "    </tr>\n",
       "    <tr>\n",
       "      <th>1</th>\n",
       "      <td>Ariana Grande</td>\n",
       "      <td>7 rings</td>\n",
       "      <td>4067762</td>\n",
       "      <td>2019-01-18</td>\n",
       "      <td>[Verse 1]\\nYeah, breakfast at Tiffany's and bo...</td>\n",
       "    </tr>\n",
       "    <tr>\n",
       "      <th>2</th>\n",
       "      <td>Ariana Grande</td>\n",
       "      <td>​God is a woman</td>\n",
       "      <td>3681280</td>\n",
       "      <td>2018-07-13</td>\n",
       "      <td>[Chorus]\\nYou, you love it how I move you\\nYou...</td>\n",
       "    </tr>\n",
       "    <tr>\n",
       "      <th>3</th>\n",
       "      <td>Ariana Grande</td>\n",
       "      <td>Side To Side</td>\n",
       "      <td>2457495</td>\n",
       "      <td>2016-05-20</td>\n",
       "      <td>[Intro: Ariana Grande &amp; Nicki Minaj]\\nI've bee...</td>\n",
       "    </tr>\n",
       "    <tr>\n",
       "      <th>4</th>\n",
       "      <td>Ariana Grande</td>\n",
       "      <td>​​no tears left to cry</td>\n",
       "      <td>3649172</td>\n",
       "      <td>2018-04-20</td>\n",
       "      <td>[Intro]\\nRight now, I'm in a state of mind\\nI ...</td>\n",
       "    </tr>\n",
       "    <tr>\n",
       "      <th>...</th>\n",
       "      <td>...</td>\n",
       "      <td>...</td>\n",
       "      <td>...</td>\n",
       "      <td>...</td>\n",
       "      <td>...</td>\n",
       "    </tr>\n",
       "    <tr>\n",
       "      <th>3739</th>\n",
       "      <td>Taylor Swift</td>\n",
       "      <td>Taylor Swift - no body, no crime (Traducción a...</td>\n",
       "      <td>6274728</td>\n",
       "      <td>2020-12-11</td>\n",
       "      <td>[Intro: HAIM]\\nÉl lo hizo\\nÉl lo hizo\\n\\n[Vers...</td>\n",
       "    </tr>\n",
       "    <tr>\n",
       "      <th>3740</th>\n",
       "      <td>Taylor Swift</td>\n",
       "      <td>Welcome Back Grunwald</td>\n",
       "      <td>6226864</td>\n",
       "      <td>None</td>\n",
       "      <td>Turn WYCD on\\nYou're\\nOn your Grunwald\\nBack f...</td>\n",
       "    </tr>\n",
       "    <tr>\n",
       "      <th>3741</th>\n",
       "      <td>Taylor Swift</td>\n",
       "      <td>Tolerate it (Polskie Tłumaczenie)</td>\n",
       "      <td>6315848</td>\n",
       "      <td>2020-12-11</td>\n",
       "      <td>[Zwrotka 1]\\nSiedzę i patrzę jak czytasz z gło...</td>\n",
       "    </tr>\n",
       "    <tr>\n",
       "      <th>3742</th>\n",
       "      <td>Taylor Swift</td>\n",
       "      <td>Find you</td>\n",
       "      <td>6209316</td>\n",
       "      <td>None</td>\n",
       "      <td>Trying just like they say\\nJust taking the ste...</td>\n",
       "    </tr>\n",
       "    <tr>\n",
       "      <th>3743</th>\n",
       "      <td>Taylor Swift</td>\n",
       "      <td>Clean - Türkçe Çeviri</td>\n",
       "      <td>6387638</td>\n",
       "      <td>2014-10-27</td>\n",
       "      <td>[Verse 1]\\nKuraklık en kötüsüydü(Oh-oh-oh)\\nBe...</td>\n",
       "    </tr>\n",
       "  </tbody>\n",
       "</table>\n",
       "<p>3744 rows × 5 columns</p>\n",
       "</div>"
      ],
      "text/plain": [
       "             artist                                              title  \\\n",
       "0     Ariana Grande                                     ​thank u, next   \n",
       "1     Ariana Grande                                            7 rings   \n",
       "2     Ariana Grande                                    ​God is a woman   \n",
       "3     Ariana Grande                                       Side To Side   \n",
       "4     Ariana Grande                             ​​no tears left to cry   \n",
       "...             ...                                                ...   \n",
       "3739   Taylor Swift  Taylor Swift - no body, no crime (Traducción a...   \n",
       "3740   Taylor Swift                              Welcome Back Grunwald   \n",
       "3741   Taylor Swift                  Tolerate it (Polskie Tłumaczenie)   \n",
       "3742   Taylor Swift                                           Find you   \n",
       "3743   Taylor Swift                              Clean - Türkçe Çeviri   \n",
       "\n",
       "           id release_date                                             lyrics  \n",
       "0     4063065   2018-11-03  [Verse 1]\\nThought I'd end up with Sean\\nBut h...  \n",
       "1     4067762   2019-01-18  [Verse 1]\\nYeah, breakfast at Tiffany's and bo...  \n",
       "2     3681280   2018-07-13  [Chorus]\\nYou, you love it how I move you\\nYou...  \n",
       "3     2457495   2016-05-20  [Intro: Ariana Grande & Nicki Minaj]\\nI've bee...  \n",
       "4     3649172   2018-04-20  [Intro]\\nRight now, I'm in a state of mind\\nI ...  \n",
       "...       ...          ...                                                ...  \n",
       "3739  6274728   2020-12-11  [Intro: HAIM]\\nÉl lo hizo\\nÉl lo hizo\\n\\n[Vers...  \n",
       "3740  6226864         None  Turn WYCD on\\nYou're\\nOn your Grunwald\\nBack f...  \n",
       "3741  6315848   2020-12-11  [Zwrotka 1]\\nSiedzę i patrzę jak czytasz z gło...  \n",
       "3742  6209316         None  Trying just like they say\\nJust taking the ste...  \n",
       "3743  6387638   2014-10-27  [Verse 1]\\nKuraklık en kötüsüydü(Oh-oh-oh)\\nBe...  \n",
       "\n",
       "[3744 rows x 5 columns]"
      ]
     },
     "execution_count": 10,
     "metadata": {},
     "output_type": "execute_result"
    }
   ],
   "source": [
    "df"
   ]
  },
  {
   "cell_type": "code",
   "execution_count": 11,
   "id": "fab0ae60",
   "metadata": {},
   "outputs": [],
   "source": [
    "#write to csv file\n",
    "df.to_csv('music_data.csv', encoding=\"utf-8\", index=False)"
   ]
  },
  {
   "cell_type": "code",
   "execution_count": 12,
   "id": "71ac4dcb",
   "metadata": {},
   "outputs": [],
   "source": [
    "#df=pd.read_csv('music_data.csv', encoding=\"utf-8\")"
   ]
  },
  {
   "cell_type": "markdown",
   "id": "9aa0f738",
   "metadata": {},
   "source": [
    "# Preprocessing"
   ]
  },
  {
   "cell_type": "code",
   "execution_count": 13,
   "id": "9f773020",
   "metadata": {},
   "outputs": [],
   "source": [
    "#Select the option by adding one of the following tags to the Preprocessing Pipeline\n",
    "##For normalise text: ['WordNetLemmatizer', 'PorterStemmer', 'DIY_lemmatizer']\n",
    "##For remove stop_word: ['remove_stopword']\n",
    "##or \n",
    "clean= preprocess.Preprocessing(Pipeline=['PorterStemmer'])"
   ]
  },
  {
   "cell_type": "code",
   "execution_count": 14,
   "id": "5dedeb28",
   "metadata": {},
   "outputs": [
    {
     "name": "stderr",
     "output_type": "stream",
     "text": [
      "100%|██████████████████████████████████████████████████████████████████████████████| 3744/3744 [05:11<00:00, 12.03it/s]\n"
     ]
    }
   ],
   "source": [
    "#preprocess lyric of the data song\n",
    "from tqdm import tqdm\n",
    "lyrics=np.array([])\n",
    "for lyric in tqdm(df.lyrics):\n",
    "    lyrics=np.append(lyrics,clean.Preprocess(lyric))"
   ]
  },
  {
   "cell_type": "code",
   "execution_count": 15,
   "id": "1ced0278",
   "metadata": {
    "scrolled": true
   },
   "outputs": [
    {
     "name": "stderr",
     "output_type": "stream",
     "text": [
      "100%|████████████████████████████████████████████████████████████████████████████| 3744/3744 [00:00<00:00, 8808.92it/s]\n"
     ]
    }
   ],
   "source": [
    "tokenize_lyric=[]\n",
    "from tqdm import tqdm\n",
    "for lyric in tqdm(lyrics):\n",
    "    tokenize_lyric.append(lyric.split())\n"
   ]
  },
  {
   "cell_type": "code",
   "execution_count": 16,
   "id": "8df0b17b",
   "metadata": {},
   "outputs": [],
   "source": [
    "for i in range(len(df.id)):\n",
    "    tokenize_lyric[i].append(f\"-->{df.id[i]}\")"
   ]
  },
  {
   "cell_type": "code",
   "execution_count": 17,
   "id": "0cc1a211",
   "metadata": {},
   "outputs": [],
   "source": [
    "from rank_bm25 import BM25Okapi, BM25Plus"
   ]
  },
  {
   "cell_type": "code",
   "execution_count": 18,
   "id": "a42f1581",
   "metadata": {},
   "outputs": [],
   "source": [
    "bm25 = BM25Okapi(tokenize_lyric)"
   ]
  },
  {
   "cell_type": "code",
   "execution_count": 19,
   "id": "9d056330",
   "metadata": {},
   "outputs": [],
   "source": [
    "#Search"
   ]
  },
  {
   "cell_type": "code",
   "execution_count": 46,
   "id": "e52dfc50",
   "metadata": {},
   "outputs": [],
   "source": [
    "corpus= \"I hear your voice in my sleep at night\\nHard to resist temptation\"\n",
    "corpus=corpus.replace('...',' ')\n",
    "corpus=clean.Preprocess(corpus)\n",
    "corpus=[corpus.split(\" \")]"
   ]
  },
  {
   "cell_type": "code",
   "execution_count": 47,
   "id": "8b638f39",
   "metadata": {},
   "outputs": [
    {
     "data": {
      "text/plain": [
       "[['i',\n",
       "  'hear',\n",
       "  'your',\n",
       "  'voic',\n",
       "  'in',\n",
       "  'my',\n",
       "  'sleep',\n",
       "  'at',\n",
       "  'night',\n",
       "  'hard',\n",
       "  'to',\n",
       "  'resist',\n",
       "  'temptat']]"
      ]
     },
     "execution_count": 47,
     "metadata": {},
     "output_type": "execute_result"
    }
   ],
   "source": [
    "corpus"
   ]
  },
  {
   "cell_type": "code",
   "execution_count": 48,
   "id": "d1dd9f7f",
   "metadata": {},
   "outputs": [],
   "source": [
    "rank=bm25okapi_search(corpus[0], bm25, tokenize_lyric, n_results= 5)"
   ]
  },
  {
   "cell_type": "code",
   "execution_count": 49,
   "id": "50f46b0b",
   "metadata": {},
   "outputs": [
    {
     "data": {
      "text/plain": [
       "[452357, 197288, 191026, 4459561, 5794073]"
      ]
     },
     "execution_count": 49,
     "metadata": {},
     "output_type": "execute_result"
    }
   ],
   "source": [
    "rank"
   ]
  },
  {
   "cell_type": "code",
   "execution_count": 50,
   "id": "4188db24",
   "metadata": {},
   "outputs": [
    {
     "data": {
      "text/html": [
       "<div>\n",
       "<style scoped>\n",
       "    .dataframe tbody tr th:only-of-type {\n",
       "        vertical-align: middle;\n",
       "    }\n",
       "\n",
       "    .dataframe tbody tr th {\n",
       "        vertical-align: top;\n",
       "    }\n",
       "\n",
       "    .dataframe thead th {\n",
       "        text-align: right;\n",
       "    }\n",
       "</style>\n",
       "<table border=\"1\" class=\"dataframe\">\n",
       "  <thead>\n",
       "    <tr style=\"text-align: right;\">\n",
       "      <th></th>\n",
       "      <th>artist</th>\n",
       "      <th>title</th>\n",
       "      <th>id</th>\n",
       "      <th>release_date</th>\n",
       "      <th>lyrics</th>\n",
       "    </tr>\n",
       "  </thead>\n",
       "  <tbody>\n",
       "    <tr>\n",
       "      <th>0</th>\n",
       "      <td>Maroon 5</td>\n",
       "      <td>Maps</td>\n",
       "      <td>452357</td>\n",
       "      <td>2014-06-16</td>\n",
       "      <td>[Verse 1]\\nI miss the taste of a sweeter life\\...</td>\n",
       "    </tr>\n",
       "    <tr>\n",
       "      <th>1</th>\n",
       "      <td>Maroon 5</td>\n",
       "      <td>Get Back In My Life</td>\n",
       "      <td>191026</td>\n",
       "      <td>NaN</td>\n",
       "      <td>[Verse 1]\\nYou are relentless\\nI am defenseles...</td>\n",
       "    </tr>\n",
       "    <tr>\n",
       "      <th>2</th>\n",
       "      <td>Rihanna</td>\n",
       "      <td>Sell Me Candy</td>\n",
       "      <td>197288</td>\n",
       "      <td>2007-05-31</td>\n",
       "      <td>[Verse 1]\\nSell me candy like it’s summer when...</td>\n",
       "    </tr>\n",
       "    <tr>\n",
       "      <th>3</th>\n",
       "      <td>Rihanna</td>\n",
       "      <td>Hole in My Head</td>\n",
       "      <td>4459561</td>\n",
       "      <td>2009-11-23</td>\n",
       "      <td>[Intro: Justin Timberlake]\\nLet go!\\nYou got a...</td>\n",
       "    </tr>\n",
       "    <tr>\n",
       "      <th>4</th>\n",
       "      <td>Taylor Swift</td>\n",
       "      <td>​the 1</td>\n",
       "      <td>5794073</td>\n",
       "      <td>2020-07-24</td>\n",
       "      <td>[Verse 1]\\nI'm doing good, I'm on some new shi...</td>\n",
       "    </tr>\n",
       "  </tbody>\n",
       "</table>\n",
       "</div>"
      ],
      "text/plain": [
       "         artist                title       id release_date  \\\n",
       "0      Maroon 5                 Maps   452357   2014-06-16   \n",
       "1      Maroon 5  Get Back In My Life   191026          NaN   \n",
       "2       Rihanna        Sell Me Candy   197288   2007-05-31   \n",
       "3       Rihanna      Hole in My Head  4459561   2009-11-23   \n",
       "4  Taylor Swift               ​the 1  5794073   2020-07-24   \n",
       "\n",
       "                                              lyrics  \n",
       "0  [Verse 1]\\nI miss the taste of a sweeter life\\...  \n",
       "1  [Verse 1]\\nYou are relentless\\nI am defenseles...  \n",
       "2  [Verse 1]\\nSell me candy like it’s summer when...  \n",
       "3  [Intro: Justin Timberlake]\\nLet go!\\nYou got a...  \n",
       "4  [Verse 1]\\nI'm doing good, I'm on some new shi...  "
      ]
     },
     "execution_count": 50,
     "metadata": {},
     "output_type": "execute_result"
    }
   ],
   "source": [
    "df[df.id.isin(rank)].reset_index(drop=True)"
   ]
  },
  {
   "cell_type": "code",
   "execution_count": null,
   "id": "8a0c508d",
   "metadata": {},
   "outputs": [],
   "source": [
    "#Eval"
   ]
  },
  {
   "cell_type": "code",
   "execution_count": 51,
   "id": "040f1607",
   "metadata": {},
   "outputs": [],
   "source": [
    "test_df=pd.read_csv('test.csv')\n",
    "test_df['qid']=test_df.index +1"
   ]
  },
  {
   "cell_type": "code",
   "execution_count": 52,
   "id": "048202a9",
   "metadata": {},
   "outputs": [
    {
     "data": {
      "text/html": [
       "<div>\n",
       "<style scoped>\n",
       "    .dataframe tbody tr th:only-of-type {\n",
       "        vertical-align: middle;\n",
       "    }\n",
       "\n",
       "    .dataframe tbody tr th {\n",
       "        vertical-align: top;\n",
       "    }\n",
       "\n",
       "    .dataframe thead th {\n",
       "        text-align: right;\n",
       "    }\n",
       "</style>\n",
       "<table border=\"1\" class=\"dataframe\">\n",
       "  <thead>\n",
       "    <tr style=\"text-align: right;\">\n",
       "      <th></th>\n",
       "      <th>corpus</th>\n",
       "      <th>id</th>\n",
       "      <th>artist</th>\n",
       "      <th>title</th>\n",
       "      <th>qid</th>\n",
       "    </tr>\n",
       "  </thead>\n",
       "  <tbody>\n",
       "    <tr>\n",
       "      <th>0</th>\n",
       "      <td>Now I listn and laugh... Ad for tht, I say</td>\n",
       "      <td>4063065</td>\n",
       "      <td>Ariana Grande</td>\n",
       "      <td>​thank u, next</td>\n",
       "      <td>1</td>\n",
       "    </tr>\n",
       "    <tr>\n",
       "      <th>1</th>\n",
       "      <td>I see it, I like it, I want it, I got it</td>\n",
       "      <td>4067762</td>\n",
       "      <td>Ariana Grande</td>\n",
       "      <td>7 rings</td>\n",
       "      <td>2</td>\n",
       "    </tr>\n",
       "    <tr>\n",
       "      <th>2</th>\n",
       "      <td>I keep on flourish...feelig that you can't figh</td>\n",
       "      <td>3681280</td>\n",
       "      <td>Ariana Grande</td>\n",
       "      <td>​God is a woman</td>\n",
       "      <td>3</td>\n",
       "    </tr>\n",
       "    <tr>\n",
       "      <th>3</th>\n",
       "      <td>You take my cares away...over-complicate,... M...</td>\n",
       "      <td>3681287</td>\n",
       "      <td>Ariana Grande</td>\n",
       "      <td>​​breathin</td>\n",
       "      <td>4</td>\n",
       "    </tr>\n",
       "    <tr>\n",
       "      <th>4</th>\n",
       "      <td>Painted a picture...They see demon, I see angel</td>\n",
       "      <td>4114857</td>\n",
       "      <td>Ariana Grande</td>\n",
       "      <td>​in my head</td>\n",
       "      <td>5</td>\n",
       "    </tr>\n",
       "    <tr>\n",
       "      <th>...</th>\n",
       "      <td>...</td>\n",
       "      <td>...</td>\n",
       "      <td>...</td>\n",
       "      <td>...</td>\n",
       "      <td>...</td>\n",
       "    </tr>\n",
       "    <tr>\n",
       "      <th>95</th>\n",
       "      <td>pink and purple in the sky</td>\n",
       "      <td>4705721</td>\n",
       "      <td>Katy Perry</td>\n",
       "      <td>Harleys In Hawaii</td>\n",
       "      <td>96</td>\n",
       "    </tr>\n",
       "    <tr>\n",
       "      <th>96</th>\n",
       "      <td>Open up your heart</td>\n",
       "      <td>239156</td>\n",
       "      <td>Katy Perry</td>\n",
       "      <td>Unconditionally</td>\n",
       "      <td>97</td>\n",
       "    </tr>\n",
       "    <tr>\n",
       "      <th>97</th>\n",
       "      <td>Yeah, I am born again...I'm wide awake</td>\n",
       "      <td>83607</td>\n",
       "      <td>Katy Perry</td>\n",
       "      <td>Wide Awake</td>\n",
       "      <td>98</td>\n",
       "    </tr>\n",
       "    <tr>\n",
       "      <th>98</th>\n",
       "      <td>Silver Lake... rose</td>\n",
       "      <td>239162</td>\n",
       "      <td>Katy Perry</td>\n",
       "      <td>This is How We Do</td>\n",
       "      <td>99</td>\n",
       "    </tr>\n",
       "    <tr>\n",
       "      <th>99</th>\n",
       "      <td>Keep your penny thoughts, I'm making a mint</td>\n",
       "      <td>3104862</td>\n",
       "      <td>Katy Perry</td>\n",
       "      <td>Hey Hey Hey</td>\n",
       "      <td>100</td>\n",
       "    </tr>\n",
       "  </tbody>\n",
       "</table>\n",
       "<p>100 rows × 5 columns</p>\n",
       "</div>"
      ],
      "text/plain": [
       "                                               corpus       id         artist  \\\n",
       "0          Now I listn and laugh... Ad for tht, I say  4063065  Ariana Grande   \n",
       "1            I see it, I like it, I want it, I got it  4067762  Ariana Grande   \n",
       "2     I keep on flourish...feelig that you can't figh  3681280  Ariana Grande   \n",
       "3   You take my cares away...over-complicate,... M...  3681287  Ariana Grande   \n",
       "4     Painted a picture...They see demon, I see angel  4114857  Ariana Grande   \n",
       "..                                                ...      ...            ...   \n",
       "95                         pink and purple in the sky  4705721     Katy Perry   \n",
       "96                                 Open up your heart   239156     Katy Perry   \n",
       "97             Yeah, I am born again...I'm wide awake    83607     Katy Perry   \n",
       "98                                Silver Lake... rose   239162     Katy Perry   \n",
       "99        Keep your penny thoughts, I'm making a mint  3104862     Katy Perry   \n",
       "\n",
       "                title  qid  \n",
       "0      ​thank u, next    1  \n",
       "1             7 rings    2  \n",
       "2     ​God is a woman    3  \n",
       "3          ​​breathin    4  \n",
       "4         ​in my head    5  \n",
       "..                ...  ...  \n",
       "95  Harleys In Hawaii   96  \n",
       "96    Unconditionally   97  \n",
       "97         Wide Awake   98  \n",
       "98  This is How We Do   99  \n",
       "99        Hey Hey Hey  100  \n",
       "\n",
       "[100 rows x 5 columns]"
      ]
     },
     "execution_count": 52,
     "metadata": {},
     "output_type": "execute_result"
    }
   ],
   "source": [
    "test_df"
   ]
  },
  {
   "cell_type": "code",
   "execution_count": 54,
   "id": "4be75ae4",
   "metadata": {},
   "outputs": [
    {
     "data": {
      "image/png": "[encoded data removed]",
      "text/plain": [
       "<Figure size 800x480 with 1 Axes>"
      ]
     },
     "metadata": {},
     "output_type": "display_data"
    },
    {
     "name": "stdout",
     "output_type": "stream",
     "text": [
      "longest query has 113 words\n",
      "Shortest query has 10 words\n"
     ]
    }
   ],
   "source": [
    "numbers = []\n",
    "for tokens in test_df.iloc():\n",
    "    numbers.append(len(tokens['corpus']))\n",
    "fig, ax = plt.subplots(figsize=(10, 6), dpi=80)\n",
    "ax.set_title('Length of query')\n",
    "ax.set_ylabel('Number of word')\n",
    "ax.set_xlabel('Index')\n",
    "x = np.arange(1,100+1)\n",
    "y=np.array(numbers)\n",
    "ax.bar(x, y, width=1, edgecolor=\"white\", linewidth=0.7)\n",
    "plt.show()\n",
    "print(f\"longest query has {max(numbers)} words\")\n",
    "print(f\"Shortest query has {min(numbers)} words\")"
   ]
  },
  {
   "cell_type": "code",
   "execution_count": 55,
   "id": "08c10f49",
   "metadata": {},
   "outputs": [],
   "source": [
    "query_token=[]\n",
    "for _, row in test_df.iterrows(): \n",
    "    query=row['corpus'].replace('...',' ')\n",
    "    query=clean.Preprocess(query)\n",
    "    query=query.split(\" \")\n",
    "    query_token.append(query)\n",
    "\n",
    "test_df['query_token']= query_token"
   ]
  },
  {
   "cell_type": "code",
   "execution_count": 56,
   "id": "f00b52b2",
   "metadata": {},
   "outputs": [
    {
     "data": {
      "text/html": [
       "<div>\n",
       "<style scoped>\n",
       "    .dataframe tbody tr th:only-of-type {\n",
       "        vertical-align: middle;\n",
       "    }\n",
       "\n",
       "    .dataframe tbody tr th {\n",
       "        vertical-align: top;\n",
       "    }\n",
       "\n",
       "    .dataframe thead th {\n",
       "        text-align: right;\n",
       "    }\n",
       "</style>\n",
       "<table border=\"1\" class=\"dataframe\">\n",
       "  <thead>\n",
       "    <tr style=\"text-align: right;\">\n",
       "      <th></th>\n",
       "      <th>corpus</th>\n",
       "      <th>id</th>\n",
       "      <th>artist</th>\n",
       "      <th>title</th>\n",
       "      <th>qid</th>\n",
       "      <th>query_token</th>\n",
       "    </tr>\n",
       "  </thead>\n",
       "  <tbody>\n",
       "    <tr>\n",
       "      <th>0</th>\n",
       "      <td>Now I listn and laugh... Ad for tht, I say</td>\n",
       "      <td>4063065</td>\n",
       "      <td>Ariana Grande</td>\n",
       "      <td>​thank u, next</td>\n",
       "      <td>1</td>\n",
       "      <td>[now, i, listn, and, laugh, ad, for, tht, i, say]</td>\n",
       "    </tr>\n",
       "    <tr>\n",
       "      <th>1</th>\n",
       "      <td>I see it, I like it, I want it, I got it</td>\n",
       "      <td>4067762</td>\n",
       "      <td>Ariana Grande</td>\n",
       "      <td>7 rings</td>\n",
       "      <td>2</td>\n",
       "      <td>[i, see, it, i, like, it, i, want, it, i, got,...</td>\n",
       "    </tr>\n",
       "    <tr>\n",
       "      <th>2</th>\n",
       "      <td>I keep on flourish...feelig that you can't figh</td>\n",
       "      <td>3681280</td>\n",
       "      <td>Ariana Grande</td>\n",
       "      <td>​God is a woman</td>\n",
       "      <td>3</td>\n",
       "      <td>[i, keep, on, flourish, feelig, that, you, can...</td>\n",
       "    </tr>\n",
       "    <tr>\n",
       "      <th>3</th>\n",
       "      <td>You take my cares away...over-complicate,... M...</td>\n",
       "      <td>3681287</td>\n",
       "      <td>Ariana Grande</td>\n",
       "      <td>​​breathin</td>\n",
       "      <td>4</td>\n",
       "      <td>[you, take, my, care, away, overcomplicate, me...</td>\n",
       "    </tr>\n",
       "    <tr>\n",
       "      <th>4</th>\n",
       "      <td>Painted a picture...They see demon, I see angel</td>\n",
       "      <td>4114857</td>\n",
       "      <td>Ariana Grande</td>\n",
       "      <td>​in my head</td>\n",
       "      <td>5</td>\n",
       "      <td>[paint, a, pictur, they, see, demon, i, see, a...</td>\n",
       "    </tr>\n",
       "    <tr>\n",
       "      <th>...</th>\n",
       "      <td>...</td>\n",
       "      <td>...</td>\n",
       "      <td>...</td>\n",
       "      <td>...</td>\n",
       "      <td>...</td>\n",
       "      <td>...</td>\n",
       "    </tr>\n",
       "    <tr>\n",
       "      <th>95</th>\n",
       "      <td>pink and purple in the sky</td>\n",
       "      <td>4705721</td>\n",
       "      <td>Katy Perry</td>\n",
       "      <td>Harleys In Hawaii</td>\n",
       "      <td>96</td>\n",
       "      <td>[pink, and, purpl, in, the, sky]</td>\n",
       "    </tr>\n",
       "    <tr>\n",
       "      <th>96</th>\n",
       "      <td>Open up your heart</td>\n",
       "      <td>239156</td>\n",
       "      <td>Katy Perry</td>\n",
       "      <td>Unconditionally</td>\n",
       "      <td>97</td>\n",
       "      <td>[open, up, your, heart]</td>\n",
       "    </tr>\n",
       "    <tr>\n",
       "      <th>97</th>\n",
       "      <td>Yeah, I am born again...I'm wide awake</td>\n",
       "      <td>83607</td>\n",
       "      <td>Katy Perry</td>\n",
       "      <td>Wide Awake</td>\n",
       "      <td>98</td>\n",
       "      <td>[yeah, i, am, born, again, i, am, wide, awak]</td>\n",
       "    </tr>\n",
       "    <tr>\n",
       "      <th>98</th>\n",
       "      <td>Silver Lake... rose</td>\n",
       "      <td>239162</td>\n",
       "      <td>Katy Perry</td>\n",
       "      <td>This is How We Do</td>\n",
       "      <td>99</td>\n",
       "      <td>[silver, lake, rose]</td>\n",
       "    </tr>\n",
       "    <tr>\n",
       "      <th>99</th>\n",
       "      <td>Keep your penny thoughts, I'm making a mint</td>\n",
       "      <td>3104862</td>\n",
       "      <td>Katy Perry</td>\n",
       "      <td>Hey Hey Hey</td>\n",
       "      <td>100</td>\n",
       "      <td>[keep, your, penni, thoughts, i, am, make, a, ...</td>\n",
       "    </tr>\n",
       "  </tbody>\n",
       "</table>\n",
       "<p>100 rows × 6 columns</p>\n",
       "</div>"
      ],
      "text/plain": [
       "                                               corpus       id         artist  \\\n",
       "0          Now I listn and laugh... Ad for tht, I say  4063065  Ariana Grande   \n",
       "1            I see it, I like it, I want it, I got it  4067762  Ariana Grande   \n",
       "2     I keep on flourish...feelig that you can't figh  3681280  Ariana Grande   \n",
       "3   You take my cares away...over-complicate,... M...  3681287  Ariana Grande   \n",
       "4     Painted a picture...They see demon, I see angel  4114857  Ariana Grande   \n",
       "..                                                ...      ...            ...   \n",
       "95                         pink and purple in the sky  4705721     Katy Perry   \n",
       "96                                 Open up your heart   239156     Katy Perry   \n",
       "97             Yeah, I am born again...I'm wide awake    83607     Katy Perry   \n",
       "98                                Silver Lake... rose   239162     Katy Perry   \n",
       "99        Keep your penny thoughts, I'm making a mint  3104862     Katy Perry   \n",
       "\n",
       "                title  qid                                        query_token  \n",
       "0      ​thank u, next    1  [now, i, listn, and, laugh, ad, for, tht, i, say]  \n",
       "1             7 rings    2  [i, see, it, i, like, it, i, want, it, i, got,...  \n",
       "2     ​God is a woman    3  [i, keep, on, flourish, feelig, that, you, can...  \n",
       "3          ​​breathin    4  [you, take, my, care, away, overcomplicate, me...  \n",
       "4         ​in my head    5  [paint, a, pictur, they, see, demon, i, see, a...  \n",
       "..                ...  ...                                                ...  \n",
       "95  Harleys In Hawaii   96                   [pink, and, purpl, in, the, sky]  \n",
       "96    Unconditionally   97                            [open, up, your, heart]  \n",
       "97         Wide Awake   98      [yeah, i, am, born, again, i, am, wide, awak]  \n",
       "98  This is How We Do   99                               [silver, lake, rose]  \n",
       "99        Hey Hey Hey  100  [keep, your, penni, thoughts, i, am, make, a, ...  \n",
       "\n",
       "[100 rows x 6 columns]"
      ]
     },
     "execution_count": 56,
     "metadata": {},
     "output_type": "execute_result"
    }
   ],
   "source": [
    "test_df"
   ]
  },
  {
   "cell_type": "code",
   "execution_count": 57,
   "id": "468e5e0d",
   "metadata": {},
   "outputs": [],
   "source": [
    "top_n_rank= 10"
   ]
  },
  {
   "cell_type": "code",
   "execution_count": 58,
   "id": "a699d271",
   "metadata": {},
   "outputs": [],
   "source": [
    "search_results=search(test_df, bm25, tokenize_lyric, top_n_rank)"
   ]
  },
  {
   "cell_type": "code",
   "execution_count": 59,
   "id": "e9f61755",
   "metadata": {
    "scrolled": true
   },
   "outputs": [
    {
     "data": {
      "text/html": [
       "<div>\n",
       "<style scoped>\n",
       "    .dataframe tbody tr th:only-of-type {\n",
       "        vertical-align: middle;\n",
       "    }\n",
       "\n",
       "    .dataframe tbody tr th {\n",
       "        vertical-align: top;\n",
       "    }\n",
       "\n",
       "    .dataframe thead th {\n",
       "        text-align: right;\n",
       "    }\n",
       "</style>\n",
       "<table border=\"1\" class=\"dataframe\">\n",
       "  <thead>\n",
       "    <tr style=\"text-align: right;\">\n",
       "      <th></th>\n",
       "      <th>rank</th>\n",
       "      <th>id</th>\n",
       "      <th>qid</th>\n",
       "    </tr>\n",
       "  </thead>\n",
       "  <tbody>\n",
       "    <tr>\n",
       "      <th>11</th>\n",
       "      <td>2</td>\n",
       "      <td>80387</td>\n",
       "      <td>2</td>\n",
       "    </tr>\n",
       "    <tr>\n",
       "      <th>12</th>\n",
       "      <td>3</td>\n",
       "      <td>1605996</td>\n",
       "      <td>2</td>\n",
       "    </tr>\n",
       "    <tr>\n",
       "      <th>13</th>\n",
       "      <td>4</td>\n",
       "      <td>3649172</td>\n",
       "      <td>2</td>\n",
       "    </tr>\n",
       "    <tr>\n",
       "      <th>14</th>\n",
       "      <td>5</td>\n",
       "      <td>5180453</td>\n",
       "      <td>2</td>\n",
       "    </tr>\n",
       "    <tr>\n",
       "      <th>15</th>\n",
       "      <td>6</td>\n",
       "      <td>50605</td>\n",
       "      <td>2</td>\n",
       "    </tr>\n",
       "    <tr>\n",
       "      <th>16</th>\n",
       "      <td>7</td>\n",
       "      <td>2953814</td>\n",
       "      <td>2</td>\n",
       "    </tr>\n",
       "    <tr>\n",
       "      <th>17</th>\n",
       "      <td>8</td>\n",
       "      <td>183160</td>\n",
       "      <td>2</td>\n",
       "    </tr>\n",
       "    <tr>\n",
       "      <th>18</th>\n",
       "      <td>9</td>\n",
       "      <td>152217</td>\n",
       "      <td>2</td>\n",
       "    </tr>\n",
       "    <tr>\n",
       "      <th>19</th>\n",
       "      <td>10</td>\n",
       "      <td>6403503</td>\n",
       "      <td>2</td>\n",
       "    </tr>\n",
       "    <tr>\n",
       "      <th>20</th>\n",
       "      <td>1</td>\n",
       "      <td>3681280</td>\n",
       "      <td>3</td>\n",
       "    </tr>\n",
       "  </tbody>\n",
       "</table>\n",
       "</div>"
      ],
      "text/plain": [
       "    rank       id  qid\n",
       "11     2    80387    2\n",
       "12     3  1605996    2\n",
       "13     4  3649172    2\n",
       "14     5  5180453    2\n",
       "15     6    50605    2\n",
       "16     7  2953814    2\n",
       "17     8   183160    2\n",
       "18     9   152217    2\n",
       "19    10  6403503    2\n",
       "20     1  3681280    3"
      ]
     },
     "execution_count": 59,
     "metadata": {},
     "output_type": "execute_result"
    }
   ],
   "source": [
    "search_results[11:21]"
   ]
  },
  {
   "cell_type": "code",
   "execution_count": 60,
   "id": "e6cd12dc",
   "metadata": {},
   "outputs": [
    {
     "name": "stderr",
     "output_type": "stream",
     "text": [
      "C:\\Users\\hoang\\AppData\\Local\\Temp\\ipykernel_23508\\2191158720.py:2: SettingWithCopyWarning: \n",
      "A value is trying to be set on a copy of a slice from a DataFrame.\n",
      "Try using .loc[row_indexer,col_indexer] = value instead\n",
      "\n",
      "See the caveats in the documentation: https://pandas.pydata.org/pandas-docs/stable/user_guide/indexing.html#returning-a-view-versus-a-copy\n",
      "  judgments['relevancy grade']= 1\n"
     ]
    }
   ],
   "source": [
    "judgments= test_df[['qid','id']]\n",
    "judgments['relevancy grade']= 1"
   ]
  },
  {
   "cell_type": "code",
   "execution_count": 61,
   "id": "9f912257",
   "metadata": {},
   "outputs": [
    {
     "data": {
      "text/html": [
       "<div>\n",
       "<style scoped>\n",
       "    .dataframe tbody tr th:only-of-type {\n",
       "        vertical-align: middle;\n",
       "    }\n",
       "\n",
       "    .dataframe tbody tr th {\n",
       "        vertical-align: top;\n",
       "    }\n",
       "\n",
       "    .dataframe thead th {\n",
       "        text-align: right;\n",
       "    }\n",
       "</style>\n",
       "<table border=\"1\" class=\"dataframe\">\n",
       "  <thead>\n",
       "    <tr style=\"text-align: right;\">\n",
       "      <th></th>\n",
       "      <th>qid</th>\n",
       "      <th>id</th>\n",
       "      <th>relevancy grade</th>\n",
       "    </tr>\n",
       "  </thead>\n",
       "  <tbody>\n",
       "    <tr>\n",
       "      <th>0</th>\n",
       "      <td>1</td>\n",
       "      <td>4063065</td>\n",
       "      <td>1</td>\n",
       "    </tr>\n",
       "    <tr>\n",
       "      <th>1</th>\n",
       "      <td>2</td>\n",
       "      <td>4067762</td>\n",
       "      <td>1</td>\n",
       "    </tr>\n",
       "    <tr>\n",
       "      <th>2</th>\n",
       "      <td>3</td>\n",
       "      <td>3681280</td>\n",
       "      <td>1</td>\n",
       "    </tr>\n",
       "    <tr>\n",
       "      <th>3</th>\n",
       "      <td>4</td>\n",
       "      <td>3681287</td>\n",
       "      <td>1</td>\n",
       "    </tr>\n",
       "    <tr>\n",
       "      <th>4</th>\n",
       "      <td>5</td>\n",
       "      <td>4114857</td>\n",
       "      <td>1</td>\n",
       "    </tr>\n",
       "    <tr>\n",
       "      <th>...</th>\n",
       "      <td>...</td>\n",
       "      <td>...</td>\n",
       "      <td>...</td>\n",
       "    </tr>\n",
       "    <tr>\n",
       "      <th>95</th>\n",
       "      <td>96</td>\n",
       "      <td>4705721</td>\n",
       "      <td>1</td>\n",
       "    </tr>\n",
       "    <tr>\n",
       "      <th>96</th>\n",
       "      <td>97</td>\n",
       "      <td>239156</td>\n",
       "      <td>1</td>\n",
       "    </tr>\n",
       "    <tr>\n",
       "      <th>97</th>\n",
       "      <td>98</td>\n",
       "      <td>83607</td>\n",
       "      <td>1</td>\n",
       "    </tr>\n",
       "    <tr>\n",
       "      <th>98</th>\n",
       "      <td>99</td>\n",
       "      <td>239162</td>\n",
       "      <td>1</td>\n",
       "    </tr>\n",
       "    <tr>\n",
       "      <th>99</th>\n",
       "      <td>100</td>\n",
       "      <td>3104862</td>\n",
       "      <td>1</td>\n",
       "    </tr>\n",
       "  </tbody>\n",
       "</table>\n",
       "<p>100 rows × 3 columns</p>\n",
       "</div>"
      ],
      "text/plain": [
       "    qid       id  relevancy grade\n",
       "0     1  4063065                1\n",
       "1     2  4067762                1\n",
       "2     3  3681280                1\n",
       "3     4  3681287                1\n",
       "4     5  4114857                1\n",
       "..  ...      ...              ...\n",
       "95   96  4705721                1\n",
       "96   97   239156                1\n",
       "97   98    83607                1\n",
       "98   99   239162                1\n",
       "99  100  3104862                1\n",
       "\n",
       "[100 rows x 3 columns]"
      ]
     },
     "execution_count": 61,
     "metadata": {},
     "output_type": "execute_result"
    }
   ],
   "source": [
    "judgments"
   ]
  },
  {
   "cell_type": "code",
   "execution_count": 62,
   "id": "52ad6aa2",
   "metadata": {},
   "outputs": [
    {
     "data": {
      "text/html": [
       "<div>\n",
       "<style scoped>\n",
       "    .dataframe tbody tr th:only-of-type {\n",
       "        vertical-align: middle;\n",
       "    }\n",
       "\n",
       "    .dataframe tbody tr th {\n",
       "        vertical-align: top;\n",
       "    }\n",
       "\n",
       "    .dataframe thead th {\n",
       "        text-align: right;\n",
       "    }\n",
       "</style>\n",
       "<table border=\"1\" class=\"dataframe\">\n",
       "  <thead>\n",
       "    <tr style=\"text-align: right;\">\n",
       "      <th></th>\n",
       "      <th>rank</th>\n",
       "      <th>id</th>\n",
       "      <th>qid</th>\n",
       "      <th>relevancy grade</th>\n",
       "    </tr>\n",
       "  </thead>\n",
       "  <tbody>\n",
       "    <tr>\n",
       "      <th>0</th>\n",
       "      <td>1</td>\n",
       "      <td>6260164</td>\n",
       "      <td>1</td>\n",
       "      <td>0.0</td>\n",
       "    </tr>\n",
       "    <tr>\n",
       "      <th>1</th>\n",
       "      <td>2</td>\n",
       "      <td>66564</td>\n",
       "      <td>1</td>\n",
       "      <td>0.0</td>\n",
       "    </tr>\n",
       "    <tr>\n",
       "      <th>2</th>\n",
       "      <td>3</td>\n",
       "      <td>57183</td>\n",
       "      <td>1</td>\n",
       "      <td>0.0</td>\n",
       "    </tr>\n",
       "    <tr>\n",
       "      <th>3</th>\n",
       "      <td>4</td>\n",
       "      <td>256666</td>\n",
       "      <td>1</td>\n",
       "      <td>0.0</td>\n",
       "    </tr>\n",
       "    <tr>\n",
       "      <th>4</th>\n",
       "      <td>5</td>\n",
       "      <td>2046</td>\n",
       "      <td>1</td>\n",
       "      <td>0.0</td>\n",
       "    </tr>\n",
       "    <tr>\n",
       "      <th>5</th>\n",
       "      <td>6</td>\n",
       "      <td>4695769</td>\n",
       "      <td>1</td>\n",
       "      <td>0.0</td>\n",
       "    </tr>\n",
       "    <tr>\n",
       "      <th>6</th>\n",
       "      <td>7</td>\n",
       "      <td>186987</td>\n",
       "      <td>1</td>\n",
       "      <td>0.0</td>\n",
       "    </tr>\n",
       "    <tr>\n",
       "      <th>7</th>\n",
       "      <td>8</td>\n",
       "      <td>3776346</td>\n",
       "      <td>1</td>\n",
       "      <td>0.0</td>\n",
       "    </tr>\n",
       "    <tr>\n",
       "      <th>8</th>\n",
       "      <td>9</td>\n",
       "      <td>79649</td>\n",
       "      <td>1</td>\n",
       "      <td>0.0</td>\n",
       "    </tr>\n",
       "    <tr>\n",
       "      <th>9</th>\n",
       "      <td>10</td>\n",
       "      <td>1759574</td>\n",
       "      <td>1</td>\n",
       "      <td>0.0</td>\n",
       "    </tr>\n",
       "    <tr>\n",
       "      <th>10</th>\n",
       "      <td>1</td>\n",
       "      <td>4067762</td>\n",
       "      <td>2</td>\n",
       "      <td>1.0</td>\n",
       "    </tr>\n",
       "    <tr>\n",
       "      <th>11</th>\n",
       "      <td>2</td>\n",
       "      <td>80387</td>\n",
       "      <td>2</td>\n",
       "      <td>0.0</td>\n",
       "    </tr>\n",
       "    <tr>\n",
       "      <th>12</th>\n",
       "      <td>3</td>\n",
       "      <td>1605996</td>\n",
       "      <td>2</td>\n",
       "      <td>0.0</td>\n",
       "    </tr>\n",
       "    <tr>\n",
       "      <th>13</th>\n",
       "      <td>4</td>\n",
       "      <td>3649172</td>\n",
       "      <td>2</td>\n",
       "      <td>0.0</td>\n",
       "    </tr>\n",
       "    <tr>\n",
       "      <th>14</th>\n",
       "      <td>5</td>\n",
       "      <td>5180453</td>\n",
       "      <td>2</td>\n",
       "      <td>0.0</td>\n",
       "    </tr>\n",
       "    <tr>\n",
       "      <th>15</th>\n",
       "      <td>6</td>\n",
       "      <td>50605</td>\n",
       "      <td>2</td>\n",
       "      <td>0.0</td>\n",
       "    </tr>\n",
       "    <tr>\n",
       "      <th>16</th>\n",
       "      <td>7</td>\n",
       "      <td>2953814</td>\n",
       "      <td>2</td>\n",
       "      <td>0.0</td>\n",
       "    </tr>\n",
       "    <tr>\n",
       "      <th>17</th>\n",
       "      <td>8</td>\n",
       "      <td>183160</td>\n",
       "      <td>2</td>\n",
       "      <td>0.0</td>\n",
       "    </tr>\n",
       "    <tr>\n",
       "      <th>18</th>\n",
       "      <td>9</td>\n",
       "      <td>152217</td>\n",
       "      <td>2</td>\n",
       "      <td>0.0</td>\n",
       "    </tr>\n",
       "    <tr>\n",
       "      <th>19</th>\n",
       "      <td>10</td>\n",
       "      <td>6403503</td>\n",
       "      <td>2</td>\n",
       "      <td>0.0</td>\n",
       "    </tr>\n",
       "  </tbody>\n",
       "</table>\n",
       "</div>"
      ],
      "text/plain": [
       "    rank       id  qid  relevancy grade\n",
       "0      1  6260164    1              0.0\n",
       "1      2    66564    1              0.0\n",
       "2      3    57183    1              0.0\n",
       "3      4   256666    1              0.0\n",
       "4      5     2046    1              0.0\n",
       "5      6  4695769    1              0.0\n",
       "6      7   186987    1              0.0\n",
       "7      8  3776346    1              0.0\n",
       "8      9    79649    1              0.0\n",
       "9     10  1759574    1              0.0\n",
       "10     1  4067762    2              1.0\n",
       "11     2    80387    2              0.0\n",
       "12     3  1605996    2              0.0\n",
       "13     4  3649172    2              0.0\n",
       "14     5  5180453    2              0.0\n",
       "15     6    50605    2              0.0\n",
       "16     7  2953814    2              0.0\n",
       "17     8   183160    2              0.0\n",
       "18     9   152217    2              0.0\n",
       "19    10  6403503    2              0.0"
      ]
     },
     "execution_count": 62,
     "metadata": {},
     "output_type": "execute_result"
    }
   ],
   "source": [
    "labeled_search_results = search_results.merge(judgments, how='left', on=['qid', 'id']).fillna(0)\n",
    "labeled_search_results.head(20)"
   ]
  },
  {
   "cell_type": "code",
   "execution_count": 63,
   "id": "6f473828",
   "metadata": {},
   "outputs": [],
   "source": [
    "relevances_rank = labeled_search_results.groupby(['qid', 'relevancy grade'])['rank'].min()"
   ]
  },
  {
   "cell_type": "code",
   "execution_count": 64,
   "id": "1a82d9df",
   "metadata": {},
   "outputs": [
    {
     "data": {
      "text/plain": [
       "qid  relevancy grade\n",
       "1    0.0                1\n",
       "2    0.0                2\n",
       "     1.0                1\n",
       "3    0.0                2\n",
       "     1.0                1\n",
       "                       ..\n",
       "98   1.0                1\n",
       "99   0.0                1\n",
       "     1.0                6\n",
       "100  0.0                2\n",
       "     1.0                1\n",
       "Name: rank, Length: 190, dtype: int64"
      ]
     },
     "execution_count": 64,
     "metadata": {},
     "output_type": "execute_result"
    }
   ],
   "source": [
    "relevances_rank"
   ]
  },
  {
   "cell_type": "code",
   "execution_count": 65,
   "id": "cbd358b5",
   "metadata": {},
   "outputs": [],
   "source": [
    "#Calculate evaluate Score as Mean Reciprocal Rank (MRR) metric\n",
    "ranks = relevances_rank.loc[:, 1]\n",
    "reciprocal_ranks = 1 / (ranks)\n",
    "MRR= reciprocal_ranks.sum()/len(judgments)"
   ]
  },
  {
   "cell_type": "code",
   "execution_count": 66,
   "id": "939d27ed",
   "metadata": {},
   "outputs": [],
   "source": [
    "rank, count= np.unique(ranks, return_counts= True)\n",
    "counts_rank= np.zeros(top_n_rank+1)\n",
    "for (i, num) in zip(rank, count):\n",
    "    counts_rank[i]= num\n",
    "\n",
    "#Rank 0 is prediction outside the top n\n",
    "counts_rank[0]= len(test_df)- count.sum()"
   ]
  },
  {
   "cell_type": "code",
   "execution_count": 67,
   "id": "61bdf329",
   "metadata": {
    "scrolled": true
   },
   "outputs": [
    {
     "name": "stdout",
     "output_type": "stream",
     "text": [
      "Mean Reciprocal Rank score:  0.7647619047619049\n"
     ]
    },
    {
     "data": {
      "image/png": "[encoded data removed]",
      "text/plain": [
       "<Figure size 800x400 with 1 Axes>"
      ]
     },
     "metadata": {},
     "output_type": "display_data"
    }
   ],
   "source": [
    "fig =plt.figure(figsize=(8,4))\n",
    "barWidth=0.25\n",
    "plt.title(f\"Frequency of ratings with top_n_rank={top_n_rank}\")\n",
    "plt.xlabel(\"Rank\")\n",
    "\n",
    "plt.bar(np.arange(0,top_n_rank+1),counts_rank, width=barWidth)\n",
    "\n",
    "print(\"Mean Reciprocal Rank score: \", MRR)"
   ]
  }
 ],
 "metadata": {
  "kernelspec": {
   "display_name": "Python 3 (ipykernel)",
   "language": "python",
   "name": "python3"
  },
  "language_info": {
   "codemirror_mode": {
    "name": "ipython",
    "version": 3
   },
   "file_extension": ".py",
   "mimetype": "text/x-python",
   "name": "python",
   "nbconvert_exporter": "python",
   "pygments_lexer": "ipython3",
   "version": "3.10.6"
  }
 },
 "nbformat": 4,
 "nbformat_minor": 5
}
