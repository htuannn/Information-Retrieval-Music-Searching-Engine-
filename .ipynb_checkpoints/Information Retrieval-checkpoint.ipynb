{
 "cells": [
  {
   "cell_type": "code",
   "execution_count": 2,
   "id": "70f57a10",
   "metadata": {},
   "outputs": [],
   "source": [
    "import os\n",
    "import nltk\n",
    "import json\n",
    "import pickle\n",
    "import re\n",
    "import string\n",
    "import pandas as pd\n",
    "import numpy as np\n",
    "\n",
    "from tqdm import tqdm\n",
    "import matplotlib.pyplot as plt\n",
    "from nltk.tokenize import word_tokenize\n",
    "\n",
    "import preprocess\n",
    "from lemma import LemmatizationWithPOSTagger\n",
    "\n",
    "from utils import bm25okapi_search, search"
   ]
  },
  {
   "cell_type": "markdown",
   "id": "728e3987",
   "metadata": {},
   "source": [
    " # Evaluate Lemmatizer on self-composed corpus\n"
   ]
  },
  {
   "cell_type": "code",
   "execution_count": 72,
   "id": "fb332a30",
   "metadata": {},
   "outputs": [],
   "source": [
    "# Load  self_composed corpus\n",
    "with open(os.path.join(\"corpus.txt\"), 'r') as file:\n",
    "    lines=file.read()\n",
    "corpus=lines.split('\\n')"
   ]
  },
  {
   "cell_type": "code",
   "execution_count": 71,
   "id": "88578935",
   "metadata": {},
   "outputs": [
    {
     "data": {
      "text/plain": [
       "40"
      ]
     },
     "execution_count": 71,
     "metadata": {},
     "output_type": "execute_result"
    }
   ],
   "source": [
    "len(corpus)"
   ]
  },
  {
   "cell_type": "code",
   "execution_count": 73,
   "id": "58274113",
   "metadata": {},
   "outputs": [],
   "source": [
    "#Load grouth-true lemmatize of corpus\n",
    "with open(os.path.join(\"output.txt\"), 'r') as file:\n",
    "    docs=file.read()\n",
    "docs=[doc.split('\\n') for doc in docs.split('\\n\\n')]"
   ]
  },
  {
   "cell_type": "code",
   "execution_count": 4,
   "id": "da61579e",
   "metadata": {},
   "outputs": [],
   "source": [
    "# Create lemmatization dictionary from the Corpus grouth-true\n",
    "dict={}\n",
    "tags_gt=[]\n",
    "for doc in docs:\n",
    "    tags=[]\n",
    "    for line in doc:\n",
    "        parts = line.split(\"=\")\n",
    "        word = parts[0].strip().lower()\n",
    "        if word in string.punctuation and word != \"'\":\n",
    "            continue\n",
    "        form=parts[1].split(\"+\")\n",
    "        if len(form) <2:\n",
    "            print(line)\n",
    "        lemma= form[0].strip().lower()\n",
    "        tag= form[1].strip().upper()\n",
    "        if word in dict:\n",
    "            dict[word][tag]=lemma\n",
    "        else:\n",
    "            dict[word]={tag:lemma}\n",
    "        tags.append((word,tag))\n",
    "    tags_gt.append(tags)\n",
    "    #dicts.append(dict)"
   ]
  },
  {
   "cell_type": "code",
   "execution_count": 5,
   "id": "be97f1ba",
   "metadata": {},
   "outputs": [],
   "source": [
    "#calculate dictionary size\n",
    "dict_size=0\n",
    "for word in dict.items():\n",
    "    dict_size+=len(word[1])"
   ]
  },
  {
   "cell_type": "code",
   "execution_count": 6,
   "id": "06c67e60",
   "metadata": {},
   "outputs": [
    {
     "name": "stdout",
     "output_type": "stream",
     "text": [
      "kích thước của dictionary xây dựng từ tập corpus được soạn: 334\n"
     ]
    }
   ],
   "source": [
    "print('kích thước của dictionary xây dựng từ tập corpus được soạn:',dict_size)"
   ]
  },
  {
   "cell_type": "code",
   "execution_count": 9,
   "id": "64422f0d",
   "metadata": {},
   "outputs": [],
   "source": [
    "#Preprocess: -Return to Lowercase, unicode standardization, remove whitespaces\n",
    "pr=preprocess.Preprocessing()\n",
    "def pipeline(preprocess, str):\n",
    "    str = preprocess.text_lowercase(str)\n",
    "    str= preprocess.convert_unicode(str)\n",
    "    str= preprocess.remove_whitespace(str)\n",
    "    return str"
   ]
  },
  {
   "cell_type": "code",
   "execution_count": 10,
   "id": "7c6fca55",
   "metadata": {},
   "outputs": [],
   "source": [
    "corpus_preprocessed= [pipeline(pr,str) for str in corpus]\n",
    "#Tokenize using the nltk library and remove tokens that are punctuation\n",
    "corpus_tokens= [[token for token in word_tokenize(sent) if str(token) not in string.punctuation or str(token) == \"'\"] for sent in corpus_preprocessed]"
   ]
  },
  {
   "cell_type": "code",
   "execution_count": 11,
   "id": "f9ceaa48",
   "metadata": {},
   "outputs": [
    {
     "data": {
      "image/png": "[encoded data removed]",
      "text/plain": [
       "<Figure size 800x480 with 1 Axes>"
      ]
     },
     "metadata": {},
     "output_type": "display_data"
    },
    {
     "name": "stdout",
     "output_type": "stream",
     "text": [
      "Total word in corpus:  575\n"
     ]
    }
   ],
   "source": [
    "numbers = []\n",
    "for tokens in corpus_tokens:\n",
    "    numbers.append(len(tokens))\n",
    "fig, ax = plt.subplots(figsize=(10, 6), dpi=80)\n",
    "ax.set_title('Count the number of words in corpus')\n",
    "ax.set_ylabel('Number of word')\n",
    "ax.set_xlabel('Index')\n",
    "x = np.arange(1,len(corpus)+1)\n",
    "y=np.array(numbers)\n",
    "ax.bar(x, y, width=1, edgecolor=\"white\", linewidth=0.7)\n",
    "plt.show()\n",
    "print(\"Total word in corpus: \",sum(numbers))"
   ]
  },
  {
   "cell_type": "code",
   "execution_count": 80,
   "id": "df90a792",
   "metadata": {},
   "outputs": [],
   "source": [
    "lemma= LemmatizationWithPOSTagger(use_nltk_lemma= False)\n",
    "lemma_corpus, pos_tag= lemma.lemmatize(corpus_tokens, tokenizer='No_tokenize', return_pos=True)\n",
    "lemma_tokens= [sent.split() for sent in lemma_corpus]"
   ]
  },
  {
   "cell_type": "code",
   "execution_count": 81,
   "id": "a6922a75",
   "metadata": {},
   "outputs": [
    {
     "name": "stdout",
     "output_type": "stream",
     "text": [
      "be 'm\n",
      "will 'll\n",
      "be 's\n",
      "go gon\n",
      "have 've\n",
      "get got\n",
      "not n't\n",
      "because 'cause\n",
      "that those\n",
      "not n't\n",
      "will 'll\n",
      "not n't\n",
      "this these\n",
      "will 'd\n",
      "be 'm\n",
      "have 've\n",
      "be 's\n",
      "know known\n",
      "will would\n",
      "people person\n",
      "this these\n",
      "people person\n",
      "will would\n",
      "best good\n",
      "this these\n",
      "this these\n"
     ]
    }
   ],
   "source": [
    "count= 0\n",
    "wrong_tag=0\n",
    "true=0\n",
    "not_exist=0\n",
    "for i in range(len(corpus)):\n",
    "    for word, lemma, tag, tag_gt in zip(corpus_tokens[i],lemma_tokens[i], pos_tag[i], tags_gt[i]):\n",
    "        if word not in dict:\n",
    "            not_exist+=1\n",
    "            continue\n",
    "        #kiểm tra số lượng từ bị gán sai tag\n",
    "        if tag[1] != tag_gt[1]:\n",
    "            wrong_tag+=1\n",
    "            \n",
    "            #sai tag nhưng từ vẫn được khôi phục về từ gốc đúng            \n",
    "            if lemma == dict[word][tag_gt[1]]:\n",
    "                true+=1\n",
    "            continue\n",
    "        if dict[word][tag[1]] == lemma:\n",
    "            count+=1\n",
    "        else:\n",
    "            print(dict[word][tag[1]], lemma)"
   ]
  },
  {
   "cell_type": "code",
   "execution_count": 82,
   "id": "6f4dbc7e",
   "metadata": {},
   "outputs": [
    {
     "data": {
      "text/plain": [
       "0.8869565217391304"
      ]
     },
     "execution_count": 82,
     "metadata": {},
     "output_type": "execute_result"
    }
   ],
   "source": [
    "1 - wrong_tag/sum(numbers)"
   ]
  },
  {
   "cell_type": "code",
   "execution_count": 83,
   "id": "ae5d7a9c",
   "metadata": {},
   "outputs": [
    {
     "data": {
      "text/plain": [
       "0.8382608695652174"
      ]
     },
     "execution_count": 83,
     "metadata": {},
     "output_type": "execute_result"
    }
   ],
   "source": [
    "(count)/sum(numbers)"
   ]
  },
  {
   "cell_type": "code",
   "execution_count": 84,
   "id": "1f151e3b",
   "metadata": {},
   "outputs": [
    {
     "data": {
      "text/plain": [
       "0.9426086956521739"
      ]
     },
     "execution_count": 84,
     "metadata": {},
     "output_type": "execute_result"
    }
   ],
   "source": [
    "(count+true)/sum(numbers)"
   ]
  },
  {
   "cell_type": "code",
   "execution_count": 76,
   "id": "b491e944",
   "metadata": {},
   "outputs": [],
   "source": [
    "lemma= LemmatizationWithPOSTagger(use_nltk_lemma= True)\n",
    "lemma_corpus, pos_tag= lemma.lemmatize(corpus_tokens, tokenizer='No_tokenize', return_pos=True)"
   ]
  },
  {
   "cell_type": "code",
   "execution_count": 14,
   "id": "3d5378c9",
   "metadata": {},
   "outputs": [
    {
     "data": {
      "text/plain": [
       "[\"i 'm so into you\",\n",
       " \"i 'll roll the dice\",\n",
       " 'all i want for christmas be you',\n",
       " \"there 's a fire starting in my heart\",\n",
       " 'you have my heart inside of your hand',\n",
       " 'i be gon na go easy on you and not to hurt your feeling',\n",
       " \"just a feeling i 've get like something 's about to happen but i do n't know what\",\n",
       " \"'cause we never go out of style\",\n",
       " \"the building 's new tenant be arrive in the next couple of day so the staff be get everything ready\",\n",
       " 'those who still wish to submit application after the deadline must pay a 45 late fee in order to be consider',\n",
       " 'local rock band the chimney sweep will be perform an in-store concert at desert island record',\n",
       " 'please do not leave any garbage in the park either take it with you when you leave or place it in the closed garbage bin that be provide throughout the park',\n",
       " \"i do n't know what to say\",\n",
       " \"go make yourself some friend or you 'll be lonely\",\n",
       " 'i always have that dream like my daddy before me',\n",
       " 'you probably never love someone like i do',\n",
       " \"it 's the end of the party and the morning seem so grey\",\n",
       " \"but i do n't want nothing at all\",\n",
       " \"i be wonder if after all these year you 'd like to meet again\",\n",
       " \"i 'm sorry for everything that i 've do\",\n",
       " \"there 's a fire starting in my heart\",\n",
       " 'there be a flower on the ground',\n",
       " 'it be know that human be responsible for a variety of environmental problem but we can also take step to minimize the damage that we be cause to the planet',\n",
       " 'nevertheless keep animal free be more logical than isolate them because if we keep animal cage they would not be able to have fresh air and chase other animal',\n",
       " 'take indian lion for example a wide range of people travel to india to see these animal in circus in india',\n",
       " 'a the problem be on our doorstep and there be obvious way to help i can understand why some people feel that we should prioritize local charity',\n",
       " 'happiness be consider very important in life',\n",
       " 'on the other hand there be simple factor in attain happiness',\n",
       " 'in recent year there have be grow interest in the relationship between equality and personal achievement',\n",
       " 'what be your view of the relationship between equality and personal success',\n",
       " 'firstly academic qualification be require in many profession',\n",
       " 'how realistic be the expectation of job satisfaction for all worker',\n",
       " \"it have be essential to understand individual ' commitment to exclude this particular fellow from 9 to 5 working hour\",\n",
       " 'this type of help would give them more job contentment',\n",
       " 'to what extent be this style of management effective',\n",
       " 'what be the best way to encourage employee to work hard',\n",
       " 'popular hobby and interest change over time and be more a reflection of trend and fashion than an indication of what individual really want to do in their spare time',\n",
       " 'country that get catch in this debt spiral have no chance of pay back the initial money borrow while the bank make the loan make two or three time the money lent after the interest payment be take into account',\n",
       " \"these seemingly technological achievement can seriously harm human ' health\",\n",
       " 'to halt these irrecoverable influence or reduce the detrimental effect on our body some pragmatic measure must be take']"
      ]
     },
     "execution_count": 14,
     "metadata": {},
     "output_type": "execute_result"
    }
   ],
   "source": []
  },
  {
   "cell_type": "code",
   "execution_count": 15,
   "id": "b4dfed08",
   "metadata": {
    "scrolled": true
   },
   "outputs": [],
   "source": [
    "lemma_tokens= [sent.split() for sent in lemma_corpus]"
   ]
  },
  {
   "cell_type": "code",
   "execution_count": 16,
   "id": "4772a541",
   "metadata": {
    "scrolled": true
   },
   "outputs": [
    {
     "ename": "NameError",
     "evalue": "name 'lemma_tokens1' is not defined",
     "output_type": "error",
     "traceback": [
      "\u001b[1;31m---------------------------------------------------------------------------\u001b[0m",
      "\u001b[1;31mNameError\u001b[0m                                 Traceback (most recent call last)",
      "Cell \u001b[1;32mIn [16], line 4\u001b[0m\n\u001b[0;32m      2\u001b[0m bla2\u001b[38;5;241m=\u001b[39m[]\n\u001b[0;32m      3\u001b[0m \u001b[38;5;28;01mfor\u001b[39;00m i \u001b[38;5;129;01min\u001b[39;00m \u001b[38;5;28mrange\u001b[39m(\u001b[38;5;28mlen\u001b[39m(lemma_tokens)):\n\u001b[1;32m----> 4\u001b[0m     \u001b[38;5;28;01mfor\u001b[39;00m (w1, w2, tag) \u001b[38;5;129;01min\u001b[39;00m \u001b[38;5;28mzip\u001b[39m(lemma_tokens[i], \u001b[43mlemma_tokens1\u001b[49m[i], tags_gt[i]):\n\u001b[0;32m      5\u001b[0m         \u001b[38;5;28;01mif\u001b[39;00m w1 \u001b[38;5;241m!=\u001b[39m w2:\n\u001b[0;32m      6\u001b[0m             \u001b[38;5;28mprint\u001b[39m(w1, w2, \u001b[38;5;28mdict\u001b[39m[tag[\u001b[38;5;241m0\u001b[39m]][tag[\u001b[38;5;241m1\u001b[39m]])\n",
      "\u001b[1;31mNameError\u001b[0m: name 'lemma_tokens1' is not defined"
     ]
    }
   ],
   "source": [
    "bla1=[]\n",
    "bla2=[]\n",
    "for i in range(len(lemma_tokens)):\n",
    "    for (w1, w2, tag) in zip(lemma_tokens[i], lemma_tokens1[i], tags_gt[i]):\n",
    "        if w1 != w2:\n",
    "            print(w1, w2, dict[tag[0]][tag[1]])\n",
    "        if w1 != dict[tag[0]][tag[1]]:\n",
    "            bla1.append(w1)\n",
    "        if w2 != dict[tag[0]][tag[1]]:\n",
    "            bla2.append(w2)\n",
    "            #print(w1, dict[tag[0]][tag[1]])\n"
   ]
  },
  {
   "cell_type": "code",
   "execution_count": null,
   "id": "3011a275",
   "metadata": {},
   "outputs": [],
   "source": [
    "bla1"
   ]
  },
  {
   "cell_type": "code",
   "execution_count": null,
   "id": "996a1d79",
   "metadata": {},
   "outputs": [],
   "source": [
    "bla2"
   ]
  },
  {
   "cell_type": "code",
   "execution_count": 17,
   "id": "6244f02e",
   "metadata": {
    "scrolled": true
   },
   "outputs": [
    {
     "name": "stdout",
     "output_type": "stream",
     "text": [
      "be 'm\n",
      "will 'll\n",
      "be 's\n",
      "go gon\n",
      "have 've\n",
      "not n't\n",
      "because 'cause\n",
      "that those\n",
      "not n't\n",
      "will 'll\n",
      "not n't\n",
      "this these\n",
      "will 'd\n",
      "be 'm\n",
      "have 've\n",
      "be 's\n",
      "will would\n",
      "this these\n",
      "as a\n",
      "will would\n",
      "this these\n",
      "this these\n"
     ]
    }
   ],
   "source": [
    "count= 0\n",
    "wrong_tag=0\n",
    "true=0\n",
    "not_exist=0\n",
    "for i in range(len(corpus)):\n",
    "    for word, lemma, tag, tag_gt in zip(corpus_tokens[i],lemma_tokens[i], pos_tag[i], tags_gt[i]):\n",
    "        if word not in dict:\n",
    "            not_exist+=1\n",
    "            continue\n",
    "        #kiểm tra số lượng từ bị gán sai tag\n",
    "        if tag[1] != tag_gt[1]:\n",
    "            wrong_tag+=1\n",
    "            \n",
    "            #sai tag nhưng từ vẫn được khôi phục về từ gốc đúng            \n",
    "            if lemma == dict[word][tag_gt[1]]:\n",
    "                true+=1\n",
    "            continue\n",
    "        if dict[word][tag[1]] == lemma:\n",
    "            count+=1\n",
    "        else:\n",
    "            print(dict[word][tag[1]], lemma)"
   ]
  },
  {
   "cell_type": "code",
   "execution_count": 19,
   "id": "e3842612",
   "metadata": {
    "scrolled": true
   },
   "outputs": [
    {
     "data": {
      "text/plain": [
       "0.8869565217391304"
      ]
     },
     "execution_count": 19,
     "metadata": {},
     "output_type": "execute_result"
    }
   ],
   "source": [
    "1 - wrong_tag/sum(numbers)"
   ]
  },
  {
   "cell_type": "code",
   "execution_count": 21,
   "id": "bf1b4811",
   "metadata": {
    "scrolled": true
   },
   "outputs": [
    {
     "data": {
      "text/plain": [
       "0.8452173913043478"
      ]
     },
     "execution_count": 21,
     "metadata": {},
     "output_type": "execute_result"
    }
   ],
   "source": [
    "(count)/sum(numbers)"
   ]
  },
  {
   "cell_type": "code",
   "execution_count": 22,
   "id": "265ada24",
   "metadata": {},
   "outputs": [
    {
     "data": {
      "text/plain": [
       "0.951304347826087"
      ]
     },
     "execution_count": 22,
     "metadata": {},
     "output_type": "execute_result"
    }
   ],
   "source": [
    "(count+true)/sum(numbers)"
   ]
  },
  {
   "cell_type": "code",
   "execution_count": 23,
   "id": "fa902ece",
   "metadata": {},
   "outputs": [],
   "source": [
    "#nltk.download()"
   ]
  },
  {
   "cell_type": "markdown",
   "id": "ff6f64eb",
   "metadata": {},
   "source": [
    "# PREPROCESS MUSIC DATA"
   ]
  },
  {
   "cell_type": "code",
   "execution_count": 24,
   "id": "f20b3539",
   "metadata": {},
   "outputs": [],
   "source": [
    "features=['title', 'id', 'release_date', 'lyrics']"
   ]
  },
  {
   "cell_type": "code",
   "execution_count": 25,
   "id": "65b27bd6",
   "metadata": {
    "scrolled": true
   },
   "outputs": [],
   "source": [
    "df=pd.DataFrame()\n",
    "for dirname, _, filenames in os.walk('data\\json files'):\n",
    "    for filename in filenames:\n",
    "        with open(os.path.join(dirname, filename)) as f:\n",
    "            aux = json.load(f)\n",
    "            df_tmp=pd.DataFrame()\n",
    "            Artist= np.full((len(aux['songs'])), aux['name'])\n",
    "            df_tmp['artist']=Artist\n",
    "            for f in features:\n",
    "                col=[song[f] for song in aux['songs']]\n",
    "                df_tmp[f]=col\n",
    "            df=pd.concat([df,df_tmp]).reset_index(drop=True)"
   ]
  },
  {
   "cell_type": "code",
   "execution_count": 26,
   "id": "4313c06f",
   "metadata": {
    "scrolled": true
   },
   "outputs": [
    {
     "data": {
      "text/html": [
       "<div>\n",
       "<style scoped>\n",
       "    .dataframe tbody tr th:only-of-type {\n",
       "        vertical-align: middle;\n",
       "    }\n",
       "\n",
       "    .dataframe tbody tr th {\n",
       "        vertical-align: top;\n",
       "    }\n",
       "\n",
       "    .dataframe thead th {\n",
       "        text-align: right;\n",
       "    }\n",
       "</style>\n",
       "<table border=\"1\" class=\"dataframe\">\n",
       "  <thead>\n",
       "    <tr style=\"text-align: right;\">\n",
       "      <th></th>\n",
       "      <th>artist</th>\n",
       "      <th>title</th>\n",
       "      <th>id</th>\n",
       "      <th>release_date</th>\n",
       "      <th>lyrics</th>\n",
       "    </tr>\n",
       "  </thead>\n",
       "  <tbody>\n",
       "    <tr>\n",
       "      <th>0</th>\n",
       "      <td>Ariana Grande</td>\n",
       "      <td>​thank u, next</td>\n",
       "      <td>4063065</td>\n",
       "      <td>2018-11-03</td>\n",
       "      <td>[Verse 1]\\nThought I'd end up with Sean\\nBut h...</td>\n",
       "    </tr>\n",
       "    <tr>\n",
       "      <th>1</th>\n",
       "      <td>Ariana Grande</td>\n",
       "      <td>7 rings</td>\n",
       "      <td>4067762</td>\n",
       "      <td>2019-01-18</td>\n",
       "      <td>[Verse 1]\\nYeah, breakfast at Tiffany's and bo...</td>\n",
       "    </tr>\n",
       "    <tr>\n",
       "      <th>2</th>\n",
       "      <td>Ariana Grande</td>\n",
       "      <td>​God is a woman</td>\n",
       "      <td>3681280</td>\n",
       "      <td>2018-07-13</td>\n",
       "      <td>[Chorus]\\nYou, you love it how I move you\\nYou...</td>\n",
       "    </tr>\n",
       "    <tr>\n",
       "      <th>3</th>\n",
       "      <td>Ariana Grande</td>\n",
       "      <td>Side To Side</td>\n",
       "      <td>2457495</td>\n",
       "      <td>2016-05-20</td>\n",
       "      <td>[Intro: Ariana Grande &amp; Nicki Minaj]\\nI've bee...</td>\n",
       "    </tr>\n",
       "    <tr>\n",
       "      <th>4</th>\n",
       "      <td>Ariana Grande</td>\n",
       "      <td>​​no tears left to cry</td>\n",
       "      <td>3649172</td>\n",
       "      <td>2018-04-20</td>\n",
       "      <td>[Intro]\\nRight now, I'm in a state of mind\\nI ...</td>\n",
       "    </tr>\n",
       "    <tr>\n",
       "      <th>...</th>\n",
       "      <td>...</td>\n",
       "      <td>...</td>\n",
       "      <td>...</td>\n",
       "      <td>...</td>\n",
       "      <td>...</td>\n",
       "    </tr>\n",
       "    <tr>\n",
       "      <th>5853</th>\n",
       "      <td>Taylor Swift</td>\n",
       "      <td>Welcome Back Grunwald</td>\n",
       "      <td>6226864</td>\n",
       "      <td>None</td>\n",
       "      <td>Turn WYCD on\\nYou're\\nOn your Grunwald\\nBack f...</td>\n",
       "    </tr>\n",
       "    <tr>\n",
       "      <th>5854</th>\n",
       "      <td>Taylor Swift</td>\n",
       "      <td>Tolerate it (Polskie Tłumaczenie)</td>\n",
       "      <td>6315848</td>\n",
       "      <td>2020-12-11</td>\n",
       "      <td>[Zwrotka 1]\\nSiedzę i patrzę jak czytasz z gło...</td>\n",
       "    </tr>\n",
       "    <tr>\n",
       "      <th>5855</th>\n",
       "      <td>Taylor Swift</td>\n",
       "      <td>Find you</td>\n",
       "      <td>6209316</td>\n",
       "      <td>None</td>\n",
       "      <td>Trying just like they say\\nJust taking the ste...</td>\n",
       "    </tr>\n",
       "    <tr>\n",
       "      <th>5856</th>\n",
       "      <td>Taylor Swift</td>\n",
       "      <td>Static</td>\n",
       "      <td>6371365</td>\n",
       "      <td>None</td>\n",
       "      <td>*static for 8 seconds*</td>\n",
       "    </tr>\n",
       "    <tr>\n",
       "      <th>5857</th>\n",
       "      <td>Taylor Swift</td>\n",
       "      <td>Clean - Türkçe Çeviri</td>\n",
       "      <td>6387638</td>\n",
       "      <td>2014-10-27</td>\n",
       "      <td>[Verse 1]\\nKuraklık en kötüsüydü(Oh-oh-oh)\\nBe...</td>\n",
       "    </tr>\n",
       "  </tbody>\n",
       "</table>\n",
       "<p>5858 rows × 5 columns</p>\n",
       "</div>"
      ],
      "text/plain": [
       "             artist                              title       id release_date  \\\n",
       "0     Ariana Grande                     ​thank u, next  4063065   2018-11-03   \n",
       "1     Ariana Grande                            7 rings  4067762   2019-01-18   \n",
       "2     Ariana Grande                    ​God is a woman  3681280   2018-07-13   \n",
       "3     Ariana Grande                       Side To Side  2457495   2016-05-20   \n",
       "4     Ariana Grande             ​​no tears left to cry  3649172   2018-04-20   \n",
       "...             ...                                ...      ...          ...   \n",
       "5853   Taylor Swift              Welcome Back Grunwald  6226864         None   \n",
       "5854   Taylor Swift  Tolerate it (Polskie Tłumaczenie)  6315848   2020-12-11   \n",
       "5855   Taylor Swift                           Find you  6209316         None   \n",
       "5856   Taylor Swift                             Static  6371365         None   \n",
       "5857   Taylor Swift              Clean - Türkçe Çeviri  6387638   2014-10-27   \n",
       "\n",
       "                                                 lyrics  \n",
       "0     [Verse 1]\\nThought I'd end up with Sean\\nBut h...  \n",
       "1     [Verse 1]\\nYeah, breakfast at Tiffany's and bo...  \n",
       "2     [Chorus]\\nYou, you love it how I move you\\nYou...  \n",
       "3     [Intro: Ariana Grande & Nicki Minaj]\\nI've bee...  \n",
       "4     [Intro]\\nRight now, I'm in a state of mind\\nI ...  \n",
       "...                                                 ...  \n",
       "5853  Turn WYCD on\\nYou're\\nOn your Grunwald\\nBack f...  \n",
       "5854  [Zwrotka 1]\\nSiedzę i patrzę jak czytasz z gło...  \n",
       "5855  Trying just like they say\\nJust taking the ste...  \n",
       "5856                             *static for 8 seconds*  \n",
       "5857  [Verse 1]\\nKuraklık en kötüsüydü(Oh-oh-oh)\\nBe...  \n",
       "\n",
       "[5858 rows x 5 columns]"
      ]
     },
     "execution_count": 26,
     "metadata": {},
     "output_type": "execute_result"
    }
   ],
   "source": [
    "df"
   ]
  },
  {
   "cell_type": "code",
   "execution_count": 27,
   "id": "b884fb04",
   "metadata": {},
   "outputs": [],
   "source": [
    "#filter other versions of the song and keep the original song\n",
    "tmp=[]\n",
    "tags=['remix', 'unreleased', 'concept', 'leak', 'extended','live','club', 'acoustic',' version', ' ver', 'demo', 'reprise', 'copy', 'mix','edit', 'dub', 'studio', 'record', 'video', 'original', 'radio', 'quotes','reimagined', 'clean', 'demo']\n",
    "for title in df['title']:\n",
    "    for tag in tags:\n",
    "        if re.search(f'\\[(.*?){tag}(.*?)\\]' ,title.lower()) != None:\n",
    "            tmp.append(title)\n",
    "        if re.search(f'\\((.*?){tag}(.*?)\\)' ,title.lower()) != None:\n",
    "            tmp.append(title)\n",
    "        if re.search(f\"\\ {tag}\", title.lower()) != None:\n",
    "            tmp.append(title)\n",
    "for title in tmp:\n",
    "    df= df[df.title != title].reset_index(drop=True)"
   ]
  },
  {
   "cell_type": "code",
   "execution_count": 29,
   "id": "2537f8ac",
   "metadata": {
    "scrolled": true
   },
   "outputs": [
    {
     "name": "stdout",
     "output_type": "stream",
     "text": [
      "number null value of title:  0\n",
      "number null value of id:  0\n",
      "number null value of release_date:  1345\n",
      "number null value of lyrics:  7\n"
     ]
    }
   ],
   "source": [
    "for f in features:\n",
    "    print(\"number null value of {}: \".format(f),sum(df[f].isnull()))\n",
    "    \n",
    "#delete songs which have null lyrics\n",
    "df.dropna(subset = [\"lyrics\"], inplace=True)"
   ]
  },
  {
   "cell_type": "code",
   "execution_count": 30,
   "id": "f1e35d04",
   "metadata": {},
   "outputs": [],
   "source": [
    "tmp=[]\n",
    "for idx, lyric in zip(df.id, df.lyrics):\n",
    "    #if (len(lyric.split(\"\\n\"))<6 and re.search('\\[(.*?)\\]', lyric)==None) or len(lyric)<100: \n",
    "    #if len(lyric.split(\"\\n\"))<6 and re.search('\\[(.*?)\\]', lyric) is None:\n",
    "        #tmp.append(lyric)\n",
    "    if len(lyric)<100:\n",
    "        tmp.append(lyric)"
   ]
  },
  {
   "cell_type": "code",
   "execution_count": 31,
   "id": "e315beb3",
   "metadata": {},
   "outputs": [],
   "source": [
    "#filter out songs with invalid lyrics\n",
    "tmp=[]\n",
    "for idx,lyric in zip(df.id, df.lyrics):\n",
    "    if (len(lyric.split(\"\\n\"))<6 and re.search('\\[(.*?)\\]', lyric)==None) or len(lyric)<100: \n",
    "        tmp.append(idx)\n",
    "for i in tmp:\n",
    "    df=df[df.id!=i]\n",
    "df=df.reset_index(drop=True)"
   ]
  },
  {
   "cell_type": "code",
   "execution_count": 32,
   "id": "fab0ae60",
   "metadata": {},
   "outputs": [],
   "source": [
    "#write to csv file\n",
    "df.to_csv('music_dataset.csv', encoding=\"utf-8\", index=False)"
   ]
  },
  {
   "cell_type": "code",
   "execution_count": 30,
   "id": "71ac4dcb",
   "metadata": {},
   "outputs": [],
   "source": [
    "#df=pd.read_csv('music_dataset.csv', encoding=\"utf-8\")"
   ]
  },
  {
   "cell_type": "markdown",
   "id": "9aa0f738",
   "metadata": {},
   "source": [
    "# Preprocessing"
   ]
  },
  {
   "cell_type": "code",
   "execution_count": 33,
   "id": "9f773020",
   "metadata": {},
   "outputs": [],
   "source": [
    "clean= preprocess.Preprocessing(Pipeline=['lemmatizer','nltk_word_tokenizer'])"
   ]
  },
  {
   "cell_type": "code",
   "execution_count": 34,
   "id": "5dedeb28",
   "metadata": {},
   "outputs": [
    {
     "name": "stderr",
     "output_type": "stream",
     "text": [
      "100%|██████████████████████████████████████████████████████████████████████████████| 3759/3759 [09:42<00:00,  6.46it/s]\n"
     ]
    }
   ],
   "source": [
    "#preprocess lyric of the data song\n",
    "from tqdm import tqdm\n",
    "lyrics=np.array([])\n",
    "for lyric in tqdm(df.lyrics):\n",
    "    lyrics=np.append(lyrics,clean.Preprocess(lyric))"
   ]
  },
  {
   "cell_type": "code",
   "execution_count": 35,
   "id": "1ced0278",
   "metadata": {
    "scrolled": true
   },
   "outputs": [
    {
     "name": "stderr",
     "output_type": "stream",
     "text": [
      "100%|████████████████████████████████████████████████████████████████████████████| 3759/3759 [00:00<00:00, 6321.69it/s]\n"
     ]
    }
   ],
   "source": [
    "tokenize_lyric=[]\n",
    "from tqdm import tqdm\n",
    "for lyric in tqdm(lyrics):\n",
    "    tokenize_lyric.append(lyric.split())\n"
   ]
  },
  {
   "cell_type": "code",
   "execution_count": 36,
   "id": "8df0b17b",
   "metadata": {},
   "outputs": [],
   "source": [
    "for i in range(len(df.id)):\n",
    "    tokenize_lyric[i].append(f\"-->{df.id[i]}\")"
   ]
  },
  {
   "cell_type": "code",
   "execution_count": 37,
   "id": "0cc1a211",
   "metadata": {},
   "outputs": [],
   "source": [
    "from rank_bm25 import BM25Okapi, BM25Plus"
   ]
  },
  {
   "cell_type": "code",
   "execution_count": 38,
   "id": "a42f1581",
   "metadata": {},
   "outputs": [],
   "source": [
    "bm25 = BM25Plus(tokenize_lyric)"
   ]
  },
  {
   "cell_type": "code",
   "execution_count": null,
   "id": "9d056330",
   "metadata": {},
   "outputs": [],
   "source": [
    "#Search"
   ]
  },
  {
   "cell_type": "code",
   "execution_count": 107,
   "id": "e52dfc50",
   "metadata": {},
   "outputs": [],
   "source": [
    "corpus= \"Now I listn and laugh... Ad for tht, I say\"\n",
    "corpus=corpus.replace('...',' ')\n",
    "corpus=clean.Preprocess(corpus)\n",
    "corpus=[corpus.split(\" \")]"
   ]
  },
  {
   "cell_type": "code",
   "execution_count": 108,
   "id": "8b638f39",
   "metadata": {},
   "outputs": [
    {
     "data": {
      "text/plain": [
       "[['now', 'i', 'listn', 'and', 'laugh', 'ad', 'for', 'tht', 'i', 'say']]"
      ]
     },
     "execution_count": 108,
     "metadata": {},
     "output_type": "execute_result"
    }
   ],
   "source": [
    "corpus"
   ]
  },
  {
   "cell_type": "code",
   "execution_count": 109,
   "id": "d1dd9f7f",
   "metadata": {},
   "outputs": [],
   "source": [
    "rank=bm25okapi_search(corpus[0], bm25, tokenize_lyric, n_results= 5)"
   ]
  },
  {
   "cell_type": "code",
   "execution_count": 110,
   "id": "4188db24",
   "metadata": {},
   "outputs": [
    {
     "data": {
      "text/html": [
       "<div>\n",
       "<style scoped>\n",
       "    .dataframe tbody tr th:only-of-type {\n",
       "        vertical-align: middle;\n",
       "    }\n",
       "\n",
       "    .dataframe tbody tr th {\n",
       "        vertical-align: top;\n",
       "    }\n",
       "\n",
       "    .dataframe thead th {\n",
       "        text-align: right;\n",
       "    }\n",
       "</style>\n",
       "<table border=\"1\" class=\"dataframe\">\n",
       "  <thead>\n",
       "    <tr style=\"text-align: right;\">\n",
       "      <th></th>\n",
       "      <th>artist</th>\n",
       "      <th>title</th>\n",
       "      <th>id</th>\n",
       "      <th>release_date</th>\n",
       "      <th>lyrics</th>\n",
       "    </tr>\n",
       "  </thead>\n",
       "  <tbody>\n",
       "    <tr>\n",
       "      <th>0</th>\n",
       "      <td>Eminem</td>\n",
       "      <td>The Sauce</td>\n",
       "      <td>2046</td>\n",
       "      <td>2002-11-21</td>\n",
       "      <td>[Intro]\\nIt's all bad now, man, it's all bad\\n...</td>\n",
       "    </tr>\n",
       "    <tr>\n",
       "      <th>1</th>\n",
       "      <td>Katy Perry</td>\n",
       "      <td>Sex Sells</td>\n",
       "      <td>3776346</td>\n",
       "      <td>None</td>\n",
       "      <td>[Verse 1]\\nI will not philosophize about the m...</td>\n",
       "    </tr>\n",
       "    <tr>\n",
       "      <th>2</th>\n",
       "      <td>Nicki Minaj</td>\n",
       "      <td>Roman Reloaded</td>\n",
       "      <td>66564</td>\n",
       "      <td>2012-02-24</td>\n",
       "      <td>[Chorus: Nicki Minaj]\\nBang, my shit bang, it ...</td>\n",
       "    </tr>\n",
       "    <tr>\n",
       "      <th>3</th>\n",
       "      <td>Rihanna</td>\n",
       "      <td>What Now</td>\n",
       "      <td>97998</td>\n",
       "      <td>2013-08-29</td>\n",
       "      <td>[Verse 1]\\nI've been ignoring this big lump in...</td>\n",
       "    </tr>\n",
       "    <tr>\n",
       "      <th>4</th>\n",
       "      <td>Taylor Swift</td>\n",
       "      <td>​tolerate it</td>\n",
       "      <td>6260164</td>\n",
       "      <td>2020-12-11</td>\n",
       "      <td>[Verse 1]\\nI sit and watch you reading with yo...</td>\n",
       "    </tr>\n",
       "  </tbody>\n",
       "</table>\n",
       "</div>"
      ],
      "text/plain": [
       "         artist           title       id release_date  \\\n",
       "0        Eminem       The Sauce     2046   2002-11-21   \n",
       "1    Katy Perry       Sex Sells  3776346         None   \n",
       "2   Nicki Minaj  Roman Reloaded    66564   2012-02-24   \n",
       "3       Rihanna        What Now    97998   2013-08-29   \n",
       "4  Taylor Swift    ​tolerate it  6260164   2020-12-11   \n",
       "\n",
       "                                              lyrics  \n",
       "0  [Intro]\\nIt's all bad now, man, it's all bad\\n...  \n",
       "1  [Verse 1]\\nI will not philosophize about the m...  \n",
       "2  [Chorus: Nicki Minaj]\\nBang, my shit bang, it ...  \n",
       "3  [Verse 1]\\nI've been ignoring this big lump in...  \n",
       "4  [Verse 1]\\nI sit and watch you reading with yo...  "
      ]
     },
     "execution_count": 110,
     "metadata": {},
     "output_type": "execute_result"
    }
   ],
   "source": [
    "df[df.id.isin(rank)].reset_index(drop=True)"
   ]
  },
  {
   "cell_type": "code",
   "execution_count": null,
   "id": "8a0c508d",
   "metadata": {},
   "outputs": [],
   "source": [
    "#Eval"
   ]
  },
  {
   "cell_type": "code",
   "execution_count": 54,
   "id": "040f1607",
   "metadata": {},
   "outputs": [],
   "source": [
    "test_df=pd.read_csv('test.csv')\n",
    "test_df['qid']=test_df.index +1"
   ]
  },
  {
   "cell_type": "code",
   "execution_count": 55,
   "id": "048202a9",
   "metadata": {},
   "outputs": [
    {
     "data": {
      "text/html": [
       "<div>\n",
       "<style scoped>\n",
       "    .dataframe tbody tr th:only-of-type {\n",
       "        vertical-align: middle;\n",
       "    }\n",
       "\n",
       "    .dataframe tbody tr th {\n",
       "        vertical-align: top;\n",
       "    }\n",
       "\n",
       "    .dataframe thead th {\n",
       "        text-align: right;\n",
       "    }\n",
       "</style>\n",
       "<table border=\"1\" class=\"dataframe\">\n",
       "  <thead>\n",
       "    <tr style=\"text-align: right;\">\n",
       "      <th></th>\n",
       "      <th>corpus</th>\n",
       "      <th>id</th>\n",
       "      <th>artist</th>\n",
       "      <th>title</th>\n",
       "      <th>qid</th>\n",
       "    </tr>\n",
       "  </thead>\n",
       "  <tbody>\n",
       "    <tr>\n",
       "      <th>0</th>\n",
       "      <td>Now I listn and laugh... Ad for tht, I say</td>\n",
       "      <td>4063065</td>\n",
       "      <td>Ariana Grande</td>\n",
       "      <td>​thank u, next</td>\n",
       "      <td>1</td>\n",
       "    </tr>\n",
       "    <tr>\n",
       "      <th>1</th>\n",
       "      <td>I see it, I like it, I want it, I got it</td>\n",
       "      <td>4067762</td>\n",
       "      <td>Ariana Grande</td>\n",
       "      <td>7 rings</td>\n",
       "      <td>2</td>\n",
       "    </tr>\n",
       "    <tr>\n",
       "      <th>2</th>\n",
       "      <td>I keep on flourish...feelig that you can't figh</td>\n",
       "      <td>3681280</td>\n",
       "      <td>Ariana Grande</td>\n",
       "      <td>​God is a woman</td>\n",
       "      <td>3</td>\n",
       "    </tr>\n",
       "    <tr>\n",
       "      <th>3</th>\n",
       "      <td>You take my cares away...over-complicate,... M...</td>\n",
       "      <td>3681287</td>\n",
       "      <td>Ariana Grande</td>\n",
       "      <td>​​breathin</td>\n",
       "      <td>4</td>\n",
       "    </tr>\n",
       "    <tr>\n",
       "      <th>4</th>\n",
       "      <td>Painted a picture...They see demon, I see angel</td>\n",
       "      <td>4114857</td>\n",
       "      <td>Ariana Grande</td>\n",
       "      <td>​in my head</td>\n",
       "      <td>5</td>\n",
       "    </tr>\n",
       "    <tr>\n",
       "      <th>...</th>\n",
       "      <td>...</td>\n",
       "      <td>...</td>\n",
       "      <td>...</td>\n",
       "      <td>...</td>\n",
       "      <td>...</td>\n",
       "    </tr>\n",
       "    <tr>\n",
       "      <th>95</th>\n",
       "      <td>pink and purple in the sky</td>\n",
       "      <td>4705721</td>\n",
       "      <td>Katy Perry</td>\n",
       "      <td>Harleys In Hawaii</td>\n",
       "      <td>96</td>\n",
       "    </tr>\n",
       "    <tr>\n",
       "      <th>96</th>\n",
       "      <td>Open up your heart</td>\n",
       "      <td>239156</td>\n",
       "      <td>Katy Perry</td>\n",
       "      <td>Unconditionally</td>\n",
       "      <td>97</td>\n",
       "    </tr>\n",
       "    <tr>\n",
       "      <th>97</th>\n",
       "      <td>Yeah, I am born again...I'm wide awake</td>\n",
       "      <td>83607</td>\n",
       "      <td>Katy Perry</td>\n",
       "      <td>Wide Awake</td>\n",
       "      <td>98</td>\n",
       "    </tr>\n",
       "    <tr>\n",
       "      <th>98</th>\n",
       "      <td>Silver Lake... rose</td>\n",
       "      <td>239162</td>\n",
       "      <td>Katy Perry</td>\n",
       "      <td>This is How We Do</td>\n",
       "      <td>99</td>\n",
       "    </tr>\n",
       "    <tr>\n",
       "      <th>99</th>\n",
       "      <td>Keep your penny thoughts, I'm making a mint</td>\n",
       "      <td>3104862</td>\n",
       "      <td>Katy Perry</td>\n",
       "      <td>Hey Hey Hey</td>\n",
       "      <td>100</td>\n",
       "    </tr>\n",
       "  </tbody>\n",
       "</table>\n",
       "<p>100 rows × 5 columns</p>\n",
       "</div>"
      ],
      "text/plain": [
       "                                               corpus       id         artist  \\\n",
       "0          Now I listn and laugh... Ad for tht, I say  4063065  Ariana Grande   \n",
       "1            I see it, I like it, I want it, I got it  4067762  Ariana Grande   \n",
       "2     I keep on flourish...feelig that you can't figh  3681280  Ariana Grande   \n",
       "3   You take my cares away...over-complicate,... M...  3681287  Ariana Grande   \n",
       "4     Painted a picture...They see demon, I see angel  4114857  Ariana Grande   \n",
       "..                                                ...      ...            ...   \n",
       "95                         pink and purple in the sky  4705721     Katy Perry   \n",
       "96                                 Open up your heart   239156     Katy Perry   \n",
       "97             Yeah, I am born again...I'm wide awake    83607     Katy Perry   \n",
       "98                                Silver Lake... rose   239162     Katy Perry   \n",
       "99        Keep your penny thoughts, I'm making a mint  3104862     Katy Perry   \n",
       "\n",
       "                title  qid  \n",
       "0      ​thank u, next    1  \n",
       "1             7 rings    2  \n",
       "2     ​God is a woman    3  \n",
       "3          ​​breathin    4  \n",
       "4         ​in my head    5  \n",
       "..                ...  ...  \n",
       "95  Harleys In Hawaii   96  \n",
       "96    Unconditionally   97  \n",
       "97         Wide Awake   98  \n",
       "98  This is How We Do   99  \n",
       "99        Hey Hey Hey  100  \n",
       "\n",
       "[100 rows x 5 columns]"
      ]
     },
     "execution_count": 55,
     "metadata": {},
     "output_type": "execute_result"
    }
   ],
   "source": [
    "test_df"
   ]
  },
  {
   "cell_type": "code",
   "execution_count": 56,
   "id": "08c10f49",
   "metadata": {},
   "outputs": [],
   "source": [
    "query_token=[]\n",
    "for _, row in test_df.iterrows(): \n",
    "    query=row['corpus'].replace('...',' ')\n",
    "    query=clean.Preprocess(query)\n",
    "    query=query.split(\" \")\n",
    "    query_token.append(query)\n",
    "\n",
    "test_df['query_token']= query_token"
   ]
  },
  {
   "cell_type": "code",
   "execution_count": 57,
   "id": "f00b52b2",
   "metadata": {},
   "outputs": [
    {
     "data": {
      "text/html": [
       "<div>\n",
       "<style scoped>\n",
       "    .dataframe tbody tr th:only-of-type {\n",
       "        vertical-align: middle;\n",
       "    }\n",
       "\n",
       "    .dataframe tbody tr th {\n",
       "        vertical-align: top;\n",
       "    }\n",
       "\n",
       "    .dataframe thead th {\n",
       "        text-align: right;\n",
       "    }\n",
       "</style>\n",
       "<table border=\"1\" class=\"dataframe\">\n",
       "  <thead>\n",
       "    <tr style=\"text-align: right;\">\n",
       "      <th></th>\n",
       "      <th>corpus</th>\n",
       "      <th>id</th>\n",
       "      <th>artist</th>\n",
       "      <th>title</th>\n",
       "      <th>qid</th>\n",
       "      <th>query_token</th>\n",
       "    </tr>\n",
       "  </thead>\n",
       "  <tbody>\n",
       "    <tr>\n",
       "      <th>0</th>\n",
       "      <td>Now I listn and laugh... Ad for tht, I say</td>\n",
       "      <td>4063065</td>\n",
       "      <td>Ariana Grande</td>\n",
       "      <td>​thank u, next</td>\n",
       "      <td>1</td>\n",
       "      <td>[now, i, listn, and, laugh, ad, for, tht, i, say]</td>\n",
       "    </tr>\n",
       "    <tr>\n",
       "      <th>1</th>\n",
       "      <td>I see it, I like it, I want it, I got it</td>\n",
       "      <td>4067762</td>\n",
       "      <td>Ariana Grande</td>\n",
       "      <td>7 rings</td>\n",
       "      <td>2</td>\n",
       "      <td>[i, see, it, i, like, it, i, want, it, i, got,...</td>\n",
       "    </tr>\n",
       "    <tr>\n",
       "      <th>2</th>\n",
       "      <td>I keep on flourish...feelig that you can't figh</td>\n",
       "      <td>3681280</td>\n",
       "      <td>Ariana Grande</td>\n",
       "      <td>​God is a woman</td>\n",
       "      <td>3</td>\n",
       "      <td>[i, keep, on, flourish, feelig, that, you, can...</td>\n",
       "    </tr>\n",
       "    <tr>\n",
       "      <th>3</th>\n",
       "      <td>You take my cares away...over-complicate,... M...</td>\n",
       "      <td>3681287</td>\n",
       "      <td>Ariana Grande</td>\n",
       "      <td>​​breathin</td>\n",
       "      <td>4</td>\n",
       "      <td>[you, take, my, care, away, overcomplicate, me...</td>\n",
       "    </tr>\n",
       "    <tr>\n",
       "      <th>4</th>\n",
       "      <td>Painted a picture...They see demon, I see angel</td>\n",
       "      <td>4114857</td>\n",
       "      <td>Ariana Grande</td>\n",
       "      <td>​in my head</td>\n",
       "      <td>5</td>\n",
       "      <td>[paint, a, picture, they, see, demon, i, see, ...</td>\n",
       "    </tr>\n",
       "    <tr>\n",
       "      <th>...</th>\n",
       "      <td>...</td>\n",
       "      <td>...</td>\n",
       "      <td>...</td>\n",
       "      <td>...</td>\n",
       "      <td>...</td>\n",
       "      <td>...</td>\n",
       "    </tr>\n",
       "    <tr>\n",
       "      <th>95</th>\n",
       "      <td>pink and purple in the sky</td>\n",
       "      <td>4705721</td>\n",
       "      <td>Katy Perry</td>\n",
       "      <td>Harleys In Hawaii</td>\n",
       "      <td>96</td>\n",
       "      <td>[pink, and, purple, in, the, sky]</td>\n",
       "    </tr>\n",
       "    <tr>\n",
       "      <th>96</th>\n",
       "      <td>Open up your heart</td>\n",
       "      <td>239156</td>\n",
       "      <td>Katy Perry</td>\n",
       "      <td>Unconditionally</td>\n",
       "      <td>97</td>\n",
       "      <td>[open, up, your, heart]</td>\n",
       "    </tr>\n",
       "    <tr>\n",
       "      <th>97</th>\n",
       "      <td>Yeah, I am born again...I'm wide awake</td>\n",
       "      <td>83607</td>\n",
       "      <td>Katy Perry</td>\n",
       "      <td>Wide Awake</td>\n",
       "      <td>98</td>\n",
       "      <td>[yeah, i, be, bear, again, i, be, wide, awake]</td>\n",
       "    </tr>\n",
       "    <tr>\n",
       "      <th>98</th>\n",
       "      <td>Silver Lake... rose</td>\n",
       "      <td>239162</td>\n",
       "      <td>Katy Perry</td>\n",
       "      <td>This is How We Do</td>\n",
       "      <td>99</td>\n",
       "      <td>[silver, lake, rise]</td>\n",
       "    </tr>\n",
       "    <tr>\n",
       "      <th>99</th>\n",
       "      <td>Keep your penny thoughts, I'm making a mint</td>\n",
       "      <td>3104862</td>\n",
       "      <td>Katy Perry</td>\n",
       "      <td>Hey Hey Hey</td>\n",
       "      <td>100</td>\n",
       "      <td>[keep, your, penny, thought, i, be, make, a, m...</td>\n",
       "    </tr>\n",
       "  </tbody>\n",
       "</table>\n",
       "<p>100 rows × 6 columns</p>\n",
       "</div>"
      ],
      "text/plain": [
       "                                               corpus       id         artist  \\\n",
       "0          Now I listn and laugh... Ad for tht, I say  4063065  Ariana Grande   \n",
       "1            I see it, I like it, I want it, I got it  4067762  Ariana Grande   \n",
       "2     I keep on flourish...feelig that you can't figh  3681280  Ariana Grande   \n",
       "3   You take my cares away...over-complicate,... M...  3681287  Ariana Grande   \n",
       "4     Painted a picture...They see demon, I see angel  4114857  Ariana Grande   \n",
       "..                                                ...      ...            ...   \n",
       "95                         pink and purple in the sky  4705721     Katy Perry   \n",
       "96                                 Open up your heart   239156     Katy Perry   \n",
       "97             Yeah, I am born again...I'm wide awake    83607     Katy Perry   \n",
       "98                                Silver Lake... rose   239162     Katy Perry   \n",
       "99        Keep your penny thoughts, I'm making a mint  3104862     Katy Perry   \n",
       "\n",
       "                title  qid                                        query_token  \n",
       "0      ​thank u, next    1  [now, i, listn, and, laugh, ad, for, tht, i, say]  \n",
       "1             7 rings    2  [i, see, it, i, like, it, i, want, it, i, got,...  \n",
       "2     ​God is a woman    3  [i, keep, on, flourish, feelig, that, you, can...  \n",
       "3          ​​breathin    4  [you, take, my, care, away, overcomplicate, me...  \n",
       "4         ​in my head    5  [paint, a, picture, they, see, demon, i, see, ...  \n",
       "..                ...  ...                                                ...  \n",
       "95  Harleys In Hawaii   96                  [pink, and, purple, in, the, sky]  \n",
       "96    Unconditionally   97                            [open, up, your, heart]  \n",
       "97         Wide Awake   98     [yeah, i, be, bear, again, i, be, wide, awake]  \n",
       "98  This is How We Do   99                               [silver, lake, rise]  \n",
       "99        Hey Hey Hey  100  [keep, your, penny, thought, i, be, make, a, m...  \n",
       "\n",
       "[100 rows x 6 columns]"
      ]
     },
     "execution_count": 57,
     "metadata": {},
     "output_type": "execute_result"
    }
   ],
   "source": [
    "test_df"
   ]
  },
  {
   "cell_type": "code",
   "execution_count": 58,
   "id": "468e5e0d",
   "metadata": {},
   "outputs": [],
   "source": [
    "top_n_rank= 10"
   ]
  },
  {
   "cell_type": "code",
   "execution_count": 59,
   "id": "a699d271",
   "metadata": {},
   "outputs": [],
   "source": [
    "search_results=search(test_df, bm25, tokenize_lyric, top_n_rank)"
   ]
  },
  {
   "cell_type": "code",
   "execution_count": 60,
   "id": "e6cd12dc",
   "metadata": {},
   "outputs": [
    {
     "name": "stderr",
     "output_type": "stream",
     "text": [
      "C:\\Users\\hoang\\AppData\\Local\\Temp\\ipykernel_14512\\2191158720.py:2: SettingWithCopyWarning: \n",
      "A value is trying to be set on a copy of a slice from a DataFrame.\n",
      "Try using .loc[row_indexer,col_indexer] = value instead\n",
      "\n",
      "See the caveats in the documentation: https://pandas.pydata.org/pandas-docs/stable/user_guide/indexing.html#returning-a-view-versus-a-copy\n",
      "  judgments['relevancy grade']= 1\n"
     ]
    }
   ],
   "source": [
    "judgments= test_df[['qid','id']]\n",
    "judgments['relevancy grade']= 1"
   ]
  },
  {
   "cell_type": "code",
   "execution_count": 61,
   "id": "9f912257",
   "metadata": {},
   "outputs": [
    {
     "data": {
      "text/html": [
       "<div>\n",
       "<style scoped>\n",
       "    .dataframe tbody tr th:only-of-type {\n",
       "        vertical-align: middle;\n",
       "    }\n",
       "\n",
       "    .dataframe tbody tr th {\n",
       "        vertical-align: top;\n",
       "    }\n",
       "\n",
       "    .dataframe thead th {\n",
       "        text-align: right;\n",
       "    }\n",
       "</style>\n",
       "<table border=\"1\" class=\"dataframe\">\n",
       "  <thead>\n",
       "    <tr style=\"text-align: right;\">\n",
       "      <th></th>\n",
       "      <th>qid</th>\n",
       "      <th>id</th>\n",
       "      <th>relevancy grade</th>\n",
       "    </tr>\n",
       "  </thead>\n",
       "  <tbody>\n",
       "    <tr>\n",
       "      <th>0</th>\n",
       "      <td>1</td>\n",
       "      <td>4063065</td>\n",
       "      <td>1</td>\n",
       "    </tr>\n",
       "    <tr>\n",
       "      <th>1</th>\n",
       "      <td>2</td>\n",
       "      <td>4067762</td>\n",
       "      <td>1</td>\n",
       "    </tr>\n",
       "    <tr>\n",
       "      <th>2</th>\n",
       "      <td>3</td>\n",
       "      <td>3681280</td>\n",
       "      <td>1</td>\n",
       "    </tr>\n",
       "    <tr>\n",
       "      <th>3</th>\n",
       "      <td>4</td>\n",
       "      <td>3681287</td>\n",
       "      <td>1</td>\n",
       "    </tr>\n",
       "    <tr>\n",
       "      <th>4</th>\n",
       "      <td>5</td>\n",
       "      <td>4114857</td>\n",
       "      <td>1</td>\n",
       "    </tr>\n",
       "    <tr>\n",
       "      <th>...</th>\n",
       "      <td>...</td>\n",
       "      <td>...</td>\n",
       "      <td>...</td>\n",
       "    </tr>\n",
       "    <tr>\n",
       "      <th>95</th>\n",
       "      <td>96</td>\n",
       "      <td>4705721</td>\n",
       "      <td>1</td>\n",
       "    </tr>\n",
       "    <tr>\n",
       "      <th>96</th>\n",
       "      <td>97</td>\n",
       "      <td>239156</td>\n",
       "      <td>1</td>\n",
       "    </tr>\n",
       "    <tr>\n",
       "      <th>97</th>\n",
       "      <td>98</td>\n",
       "      <td>83607</td>\n",
       "      <td>1</td>\n",
       "    </tr>\n",
       "    <tr>\n",
       "      <th>98</th>\n",
       "      <td>99</td>\n",
       "      <td>239162</td>\n",
       "      <td>1</td>\n",
       "    </tr>\n",
       "    <tr>\n",
       "      <th>99</th>\n",
       "      <td>100</td>\n",
       "      <td>3104862</td>\n",
       "      <td>1</td>\n",
       "    </tr>\n",
       "  </tbody>\n",
       "</table>\n",
       "<p>100 rows × 3 columns</p>\n",
       "</div>"
      ],
      "text/plain": [
       "    qid       id  relevancy grade\n",
       "0     1  4063065                1\n",
       "1     2  4067762                1\n",
       "2     3  3681280                1\n",
       "3     4  3681287                1\n",
       "4     5  4114857                1\n",
       "..  ...      ...              ...\n",
       "95   96  4705721                1\n",
       "96   97   239156                1\n",
       "97   98    83607                1\n",
       "98   99   239162                1\n",
       "99  100  3104862                1\n",
       "\n",
       "[100 rows x 3 columns]"
      ]
     },
     "execution_count": 61,
     "metadata": {},
     "output_type": "execute_result"
    }
   ],
   "source": [
    "judgments"
   ]
  },
  {
   "cell_type": "code",
   "execution_count": 62,
   "id": "52ad6aa2",
   "metadata": {},
   "outputs": [
    {
     "data": {
      "text/html": [
       "<div>\n",
       "<style scoped>\n",
       "    .dataframe tbody tr th:only-of-type {\n",
       "        vertical-align: middle;\n",
       "    }\n",
       "\n",
       "    .dataframe tbody tr th {\n",
       "        vertical-align: top;\n",
       "    }\n",
       "\n",
       "    .dataframe thead th {\n",
       "        text-align: right;\n",
       "    }\n",
       "</style>\n",
       "<table border=\"1\" class=\"dataframe\">\n",
       "  <thead>\n",
       "    <tr style=\"text-align: right;\">\n",
       "      <th></th>\n",
       "      <th>rank</th>\n",
       "      <th>id</th>\n",
       "      <th>qid</th>\n",
       "      <th>relevancy grade</th>\n",
       "    </tr>\n",
       "  </thead>\n",
       "  <tbody>\n",
       "    <tr>\n",
       "      <th>0</th>\n",
       "      <td>1</td>\n",
       "      <td>66564</td>\n",
       "      <td>1</td>\n",
       "      <td>0.0</td>\n",
       "    </tr>\n",
       "    <tr>\n",
       "      <th>1</th>\n",
       "      <td>2</td>\n",
       "      <td>6260164</td>\n",
       "      <td>1</td>\n",
       "      <td>0.0</td>\n",
       "    </tr>\n",
       "    <tr>\n",
       "      <th>2</th>\n",
       "      <td>3</td>\n",
       "      <td>2046</td>\n",
       "      <td>1</td>\n",
       "      <td>0.0</td>\n",
       "    </tr>\n",
       "    <tr>\n",
       "      <th>3</th>\n",
       "      <td>4</td>\n",
       "      <td>3776346</td>\n",
       "      <td>1</td>\n",
       "      <td>0.0</td>\n",
       "    </tr>\n",
       "    <tr>\n",
       "      <th>4</th>\n",
       "      <td>5</td>\n",
       "      <td>97998</td>\n",
       "      <td>1</td>\n",
       "      <td>0.0</td>\n",
       "    </tr>\n",
       "    <tr>\n",
       "      <th>5</th>\n",
       "      <td>6</td>\n",
       "      <td>1026515</td>\n",
       "      <td>1</td>\n",
       "      <td>0.0</td>\n",
       "    </tr>\n",
       "    <tr>\n",
       "      <th>6</th>\n",
       "      <td>7</td>\n",
       "      <td>5865445</td>\n",
       "      <td>1</td>\n",
       "      <td>0.0</td>\n",
       "    </tr>\n",
       "    <tr>\n",
       "      <th>7</th>\n",
       "      <td>8</td>\n",
       "      <td>3913239</td>\n",
       "      <td>1</td>\n",
       "      <td>0.0</td>\n",
       "    </tr>\n",
       "    <tr>\n",
       "      <th>8</th>\n",
       "      <td>9</td>\n",
       "      <td>3807748</td>\n",
       "      <td>1</td>\n",
       "      <td>0.0</td>\n",
       "    </tr>\n",
       "    <tr>\n",
       "      <th>9</th>\n",
       "      <td>10</td>\n",
       "      <td>186987</td>\n",
       "      <td>1</td>\n",
       "      <td>0.0</td>\n",
       "    </tr>\n",
       "    <tr>\n",
       "      <th>10</th>\n",
       "      <td>1</td>\n",
       "      <td>4067762</td>\n",
       "      <td>2</td>\n",
       "      <td>1.0</td>\n",
       "    </tr>\n",
       "    <tr>\n",
       "      <th>11</th>\n",
       "      <td>2</td>\n",
       "      <td>4765979</td>\n",
       "      <td>2</td>\n",
       "      <td>0.0</td>\n",
       "    </tr>\n",
       "    <tr>\n",
       "      <th>12</th>\n",
       "      <td>3</td>\n",
       "      <td>54892</td>\n",
       "      <td>2</td>\n",
       "      <td>0.0</td>\n",
       "    </tr>\n",
       "    <tr>\n",
       "      <th>13</th>\n",
       "      <td>4</td>\n",
       "      <td>32193</td>\n",
       "      <td>2</td>\n",
       "      <td>0.0</td>\n",
       "    </tr>\n",
       "    <tr>\n",
       "      <th>14</th>\n",
       "      <td>5</td>\n",
       "      <td>3175719</td>\n",
       "      <td>2</td>\n",
       "      <td>0.0</td>\n",
       "    </tr>\n",
       "    <tr>\n",
       "      <th>15</th>\n",
       "      <td>6</td>\n",
       "      <td>55583</td>\n",
       "      <td>2</td>\n",
       "      <td>0.0</td>\n",
       "    </tr>\n",
       "    <tr>\n",
       "      <th>16</th>\n",
       "      <td>7</td>\n",
       "      <td>5013279</td>\n",
       "      <td>2</td>\n",
       "      <td>0.0</td>\n",
       "    </tr>\n",
       "    <tr>\n",
       "      <th>17</th>\n",
       "      <td>8</td>\n",
       "      <td>2342268</td>\n",
       "      <td>2</td>\n",
       "      <td>0.0</td>\n",
       "    </tr>\n",
       "    <tr>\n",
       "      <th>18</th>\n",
       "      <td>9</td>\n",
       "      <td>2917</td>\n",
       "      <td>2</td>\n",
       "      <td>0.0</td>\n",
       "    </tr>\n",
       "    <tr>\n",
       "      <th>19</th>\n",
       "      <td>10</td>\n",
       "      <td>18889</td>\n",
       "      <td>2</td>\n",
       "      <td>0.0</td>\n",
       "    </tr>\n",
       "  </tbody>\n",
       "</table>\n",
       "</div>"
      ],
      "text/plain": [
       "    rank       id  qid  relevancy grade\n",
       "0      1    66564    1              0.0\n",
       "1      2  6260164    1              0.0\n",
       "2      3     2046    1              0.0\n",
       "3      4  3776346    1              0.0\n",
       "4      5    97998    1              0.0\n",
       "5      6  1026515    1              0.0\n",
       "6      7  5865445    1              0.0\n",
       "7      8  3913239    1              0.0\n",
       "8      9  3807748    1              0.0\n",
       "9     10   186987    1              0.0\n",
       "10     1  4067762    2              1.0\n",
       "11     2  4765979    2              0.0\n",
       "12     3    54892    2              0.0\n",
       "13     4    32193    2              0.0\n",
       "14     5  3175719    2              0.0\n",
       "15     6    55583    2              0.0\n",
       "16     7  5013279    2              0.0\n",
       "17     8  2342268    2              0.0\n",
       "18     9     2917    2              0.0\n",
       "19    10    18889    2              0.0"
      ]
     },
     "execution_count": 62,
     "metadata": {},
     "output_type": "execute_result"
    }
   ],
   "source": [
    "labeled_search_results = search_results.merge(judgments, how='left', on=['qid', 'id']).fillna(0)\n",
    "labeled_search_results.head(20)"
   ]
  },
  {
   "cell_type": "code",
   "execution_count": 63,
   "id": "6f473828",
   "metadata": {},
   "outputs": [],
   "source": [
    "relevances_rank = labeled_search_results.groupby(['qid', 'relevancy grade'])['rank'].min()"
   ]
  },
  {
   "cell_type": "code",
   "execution_count": 64,
   "id": "1a82d9df",
   "metadata": {},
   "outputs": [
    {
     "data": {
      "text/plain": [
       "qid  relevancy grade\n",
       "1    0.0                1\n",
       "2    0.0                2\n",
       "     1.0                1\n",
       "3    0.0                2\n",
       "     1.0                1\n",
       "                       ..\n",
       "98   1.0                1\n",
       "99   0.0                1\n",
       "     1.0                8\n",
       "100  0.0                2\n",
       "     1.0                1\n",
       "Name: rank, Length: 191, dtype: int64"
      ]
     },
     "execution_count": 64,
     "metadata": {},
     "output_type": "execute_result"
    }
   ],
   "source": [
    "relevances_rank"
   ]
  },
  {
   "cell_type": "code",
   "execution_count": 65,
   "id": "cbd358b5",
   "metadata": {},
   "outputs": [],
   "source": [
    "#Calculate evaluate Score as Mean Reciprocal Rank (MRR) metric\n",
    "ranks = relevances_rank.loc[:, 1]\n",
    "reciprocal_ranks = 1 / (ranks)\n",
    "MRR= reciprocal_ranks.sum()/len(judgments)"
   ]
  },
  {
   "cell_type": "code",
   "execution_count": 66,
   "id": "939d27ed",
   "metadata": {},
   "outputs": [],
   "source": [
    "rank, count= np.unique(ranks, return_counts= True)\n",
    "counts_rank= np.zeros(top_n_rank+1)\n",
    "for (i, num) in zip(rank, count):\n",
    "    counts_rank[i]= num\n",
    "\n",
    "#Rank 0 is prediction outside the top n\n",
    "counts_rank[0]= len(test_df)- count.sum()"
   ]
  },
  {
   "cell_type": "code",
   "execution_count": 69,
   "id": "61bdf329",
   "metadata": {},
   "outputs": [
    {
     "name": "stdout",
     "output_type": "stream",
     "text": [
      "Mean Reciprocal Rank score:  0.756734126984127\n"
     ]
    },
    {
     "data": {
      "image/png": "[encoded data removed]",
      "text/plain": [
       "<Figure size 800x400 with 1 Axes>"
      ]
     },
     "metadata": {},
     "output_type": "display_data"
    }
   ],
   "source": [
    "fig =plt.figure(figsize=(8,4))\n",
    "barWidth=0.25\n",
    "plt.title(f\"Frequency of ratings with top_n_rank={top_n_rank}\")\n",
    "plt.xlabel(\"Rank\")\n",
    "\n",
    "plt.bar(np.arange(0,top_n_rank+1),counts_rank, width=barWidth)\n",
    "\n",
    "print(\"Mean Reciprocal Rank score: \", MRR)"
   ]
  }
 ],
 "metadata": {
  "kernelspec": {
   "display_name": "Python 3 (ipykernel)",
   "language": "python",
   "name": "python3"
  },
  "language_info": {
   "codemirror_mode": {
    "name": "ipython",
    "version": 3
   },
   "file_extension": ".py",
   "mimetype": "text/x-python",
   "name": "python",
   "nbconvert_exporter": "python",
   "pygments_lexer": "ipython3",
   "version": "3.10.6"
  }
 },
 "nbformat": 4,
 "nbformat_minor": 5
}
