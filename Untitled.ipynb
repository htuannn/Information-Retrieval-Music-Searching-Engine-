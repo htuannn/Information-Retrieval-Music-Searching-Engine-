{
 "cells": [
  {
   "cell_type": "code",
   "execution_count": 45,
   "id": "6da8f602",
   "metadata": {},
   "outputs": [],
   "source": [
    "import nltk\n",
    "import os\n",
    "import pickle\n",
    "from nltk.corpus import wordnet\n",
    "from nltk.stem import WordNetLemmatizer\n",
    "import pandas as pd\n",
    "import re"
   ]
  },
  {
   "cell_type": "code",
   "execution_count": 54,
   "id": "09057250",
   "metadata": {},
   "outputs": [],
   "source": [
    "with open(os.path.join(\"target.txt\"), 'r', encoding='utf-8') as file:\n",
    "            lines=file.read()"
   ]
  },
  {
   "cell_type": "code",
   "execution_count": 55,
   "id": "09e80592",
   "metadata": {
    "scrolled": false
   },
   "outputs": [],
   "source": [
    "lines=re.sub(\"\\•\\t(.*?)\\n\",\"\\n\\n\",lines)"
   ]
  },
  {
   "cell_type": "code",
   "execution_count": 48,
   "id": "9d9ce927",
   "metadata": {},
   "outputs": [
    {
     "data": {
      "text/plain": [
       "[('Countries', 'NNS'),\n",
       " ('that', 'WDT'),\n",
       " ('get', 'VBP'),\n",
       " ('caught', 'VBN'),\n",
       " ('in', 'IN'),\n",
       " ('this', 'DT'),\n",
       " ('debt', 'NN'),\n",
       " ('spiral', 'NN'),\n",
       " ('have', 'VBP'),\n",
       " ('no', 'DT'),\n",
       " ('chance', 'NN'),\n",
       " ('of', 'IN'),\n",
       " ('paying', 'VBG'),\n",
       " ('back', 'RP'),\n",
       " ('the', 'DT'),\n",
       " ('initial', 'JJ'),\n",
       " ('money', 'NN'),\n",
       " ('borrowed,', 'NN'),\n",
       " ('while', 'IN'),\n",
       " ('the', 'DT'),\n",
       " ('banks', 'NNS'),\n",
       " ('making', 'VBG'),\n",
       " ('the', 'DT'),\n",
       " ('loans', 'NNS'),\n",
       " ('make', 'VBP'),\n",
       " ('two', 'CD'),\n",
       " ('or', 'CC'),\n",
       " ('three', 'CD'),\n",
       " ('times', 'NNS'),\n",
       " ('the', 'DT'),\n",
       " ('money', 'NN'),\n",
       " ('lent', 'NN'),\n",
       " ('after', 'IN'),\n",
       " ('the', 'DT'),\n",
       " ('interest', 'NN'),\n",
       " ('payments', 'NNS'),\n",
       " ('are', 'VBP'),\n",
       " ('taken', 'VBN'),\n",
       " ('into', 'IN'),\n",
       " ('account.', 'NN')]"
      ]
     },
     "execution_count": 48,
     "metadata": {},
     "output_type": "execute_result"
    }
   ],
   "source": [
    "nltk.pos_tag(\"Countries that get caught in this debt spiral have no chance of paying back the initial money borrowed, while the banks making the loans make two or three times the money lent after the interest payments are taken into account.\".split())"
   ]
  },
  {
   "cell_type": "code",
   "execution_count": 49,
   "id": "d7e9b47a",
   "metadata": {},
   "outputs": [
    {
     "ename": "AttributeError",
     "evalue": "'str' object has no attribute 'write'",
     "output_type": "error",
     "traceback": [
      "\u001b[1;31m---------------------------------------------------------------------------\u001b[0m",
      "\u001b[1;31mAttributeError\u001b[0m                            Traceback (most recent call last)",
      "Cell \u001b[1;32mIn [49], line 1\u001b[0m\n\u001b[1;32m----> 1\u001b[0m \u001b[43mlines\u001b[49m\u001b[38;5;241;43m.\u001b[39;49m\u001b[43mwrite\u001b[49m(\u001b[38;5;124m'\u001b[39m\u001b[38;5;124moutput.txt\u001b[39m\u001b[38;5;124m'\u001b[39m)\n",
      "\u001b[1;31mAttributeError\u001b[0m: 'str' object has no attribute 'write'"
     ]
    }
   ],
   "source": [
    "lines.write('output.txt')"
   ]
  },
  {
   "cell_type": "code",
   "execution_count": 58,
   "id": "1e5a9974",
   "metadata": {},
   "outputs": [
    {
     "data": {
      "text/plain": [
       "10380"
      ]
     },
     "execution_count": 58,
     "metadata": {},
     "output_type": "execute_result"
    }
   ],
   "source": [
    "f = open('output1.txt', 'a')\n",
    "f.write(lines)"
   ]
  },
  {
   "cell_type": "code",
   "execution_count": 59,
   "id": "d9b049d5",
   "metadata": {},
   "outputs": [],
   "source": [
    "f.close()"
   ]
  },
  {
   "cell_type": "code",
   "execution_count": null,
   "id": "28c70b4d",
   "metadata": {},
   "outputs": [],
   "source": []
  }
 ],
 "metadata": {
  "kernelspec": {
   "display_name": "Python 3 (ipykernel)",
   "language": "python",
   "name": "python3"
  },
  "language_info": {
   "codemirror_mode": {
    "name": "ipython",
    "version": 3
   },
   "file_extension": ".py",
   "mimetype": "text/x-python",
   "name": "python",
   "nbconvert_exporter": "python",
   "pygments_lexer": "ipython3",
   "version": "3.10.6"
  }
 },
 "nbformat": 4,
 "nbformat_minor": 5
}
